{
 "cells": [
  {
   "cell_type": "markdown",
   "metadata": {},
   "source": [
    "## Homework 2: Simple Stock Analysis\n",
    "The objective of this homework is to practice working with Pandas Series. To successfully complete this homework, you may use any resources available to you.\n",
    "\n",
    "You need to accomplish the following tasks:\n",
    "\n",
    "* Download the Apple stock data for the timeframe of 1982 to today.\n",
    "* Use the %magic command to activate inline matplotlib graphs\n",
    "* Provide an overview of the Close series of the Apple stock.\n",
    "* Identify three approaches of obtaining the maximum closing price. What is the difference between the approaches?\n",
    "* Find the timeframes with the highest stock price surge in five days. Can you explain why these five dates?\n",
    "* Resample the Close series to represent business quarters with a financial year that ends in September.\n",
    "* Identify series of four quarters with the an overall surge in the stock prices that is larger than 100 percent. Can you explain why the larges surge happened? Visualize it.\n",
    "* If you use tutorials/code snippets that you find on the internet to complete this task, make sure that you reference them. Also make sure that the Jupyter notebook is free of mistakes, well-documented, and professionally formatted before you submit it.\n"
   ]
  },
  {
   "cell_type": "markdown",
   "metadata": {},
   "source": [
    "### Data Reader to fetch the Financial Data.\n",
    "pandas_datareader is used to get financial data required for this assignment. It has been removed from the pandas package and has been stored as a github repo on this link : https://github.com/pydata/pandas-datareader.\n",
    "\n",
    "Anaconda Navigator is the software that has been used to run the Jupyter notebook and so it has pandas_datareader pre-installed and can be imported directly.\n",
    "\n"
   ]
  },
  {
   "cell_type": "code",
   "execution_count": 3,
   "metadata": {
    "collapsed": true
   },
   "outputs": [],
   "source": [
    "from IPython.core.interactiveshell import InteractiveShell\n",
    "InteractiveShell.ast_node_interactivity = \"all\""
   ]
  },
  {
   "cell_type": "code",
   "execution_count": 9,
   "metadata": {
    "collapsed": true
   },
   "outputs": [],
   "source": [
    "import pandas\n",
    "import pandas_datareader\n",
    "import datetime as dt"
   ]
  },
  {
   "cell_type": "markdown",
   "metadata": {},
   "source": [
    "Now, the data for the prices are to be obtained. This financial data can be made available by using the pandas_datareader package. \n",
    "For this exercise, the close value of Apple's stock prices are needed. This could be obtained by using the \"DataReader()\". "
   ]
  },
  {
   "cell_type": "markdown",
   "metadata": {},
   "source": [
    "According to the requirement, the close series of 'Apple' is to be found out. The Ticker symbol of Apple is 'AAPL'. The timeframe which is considered in this example is from 1/1/1982 to current date.\n",
    "\n",
    "The Ticker Symbol,start and end dates are to be passed as parameters to a function readData which returns the dataframe with the financial data. For this purpose, inside the function \n",
    "\n",
    "Pandas Datareader documentation was referred to implement.\n",
    "\n",
    "https://media.readthedocs.org/pdf/pandas-datareader/latest/pandas-datareader.pdf"
   ]
  },
  {
   "cell_type": "code",
   "execution_count": 11,
   "metadata": {
    "collapsed": true
   },
   "outputs": [],
   "source": [
    "def readData(startDate,endDate,compTicker):\n",
    "    dataF = pandas_datareader.DataReader(compTicker,\"yahoo\",startDate,endDate)\n",
    "    return dataF"
   ]
  },
  {
   "cell_type": "code",
   "execution_count": 39,
   "metadata": {},
   "outputs": [
    {
     "data": {
      "text/html": [
       "<div>\n",
       "<style>\n",
       "    .dataframe thead tr:only-child th {\n",
       "        text-align: right;\n",
       "    }\n",
       "\n",
       "    .dataframe thead th {\n",
       "        text-align: left;\n",
       "    }\n",
       "\n",
       "    .dataframe tbody tr th {\n",
       "        vertical-align: top;\n",
       "    }\n",
       "</style>\n",
       "<table border=\"1\" class=\"dataframe\">\n",
       "  <thead>\n",
       "    <tr style=\"text-align: right;\">\n",
       "      <th></th>\n",
       "      <th>Open</th>\n",
       "      <th>High</th>\n",
       "      <th>Low</th>\n",
       "      <th>Close</th>\n",
       "      <th>Adj Close</th>\n",
       "      <th>Volume</th>\n",
       "    </tr>\n",
       "    <tr>\n",
       "      <th>Date</th>\n",
       "      <th></th>\n",
       "      <th></th>\n",
       "      <th></th>\n",
       "      <th></th>\n",
       "      <th></th>\n",
       "      <th></th>\n",
       "    </tr>\n",
       "  </thead>\n",
       "  <tbody>\n",
       "    <tr>\n",
       "      <th>1982-01-04</th>\n",
       "      <td>0.395089</td>\n",
       "      <td>0.395089</td>\n",
       "      <td>0.392857</td>\n",
       "      <td>0.392857</td>\n",
       "      <td>0.321458</td>\n",
       "      <td>17813600</td>\n",
       "    </tr>\n",
       "    <tr>\n",
       "      <th>1982-01-05</th>\n",
       "      <td>0.377232</td>\n",
       "      <td>0.377232</td>\n",
       "      <td>0.372768</td>\n",
       "      <td>0.372768</td>\n",
       "      <td>0.305020</td>\n",
       "      <td>8960000</td>\n",
       "    </tr>\n",
       "    <tr>\n",
       "      <th>1982-01-06</th>\n",
       "      <td>0.370536</td>\n",
       "      <td>0.370536</td>\n",
       "      <td>0.368304</td>\n",
       "      <td>0.368304</td>\n",
       "      <td>0.301367</td>\n",
       "      <td>16520000</td>\n",
       "    </tr>\n",
       "    <tr>\n",
       "      <th>1982-01-07</th>\n",
       "      <td>0.343750</td>\n",
       "      <td>0.343750</td>\n",
       "      <td>0.339286</td>\n",
       "      <td>0.339286</td>\n",
       "      <td>0.277623</td>\n",
       "      <td>17511200</td>\n",
       "    </tr>\n",
       "    <tr>\n",
       "      <th>1982-01-08</th>\n",
       "      <td>0.354911</td>\n",
       "      <td>0.357143</td>\n",
       "      <td>0.354911</td>\n",
       "      <td>0.354911</td>\n",
       "      <td>0.290408</td>\n",
       "      <td>14151200</td>\n",
       "    </tr>\n",
       "  </tbody>\n",
       "</table>\n",
       "</div>"
      ],
      "text/plain": [
       "                Open      High       Low     Close  Adj Close    Volume\n",
       "Date                                                                   \n",
       "1982-01-04  0.395089  0.395089  0.392857  0.392857   0.321458  17813600\n",
       "1982-01-05  0.377232  0.377232  0.372768  0.372768   0.305020   8960000\n",
       "1982-01-06  0.370536  0.370536  0.368304  0.368304   0.301367  16520000\n",
       "1982-01-07  0.343750  0.343750  0.339286  0.339286   0.277623  17511200\n",
       "1982-01-08  0.354911  0.357143  0.354911  0.354911   0.290408  14151200"
      ]
     },
     "execution_count": 39,
     "metadata": {},
     "output_type": "execute_result"
    }
   ],
   "source": [
    "start = dt.datetime(1982,1,1)\n",
    "end = dt.date.today()\n",
    "compTicker = 'AAPL'\n",
    "dataFrame = readData(start,end,compTicker)\n",
    "dataFrame.head()\n"
   ]
  },
  {
   "cell_type": "code",
   "execution_count": 186,
   "metadata": {},
   "outputs": [
    {
     "data": {
      "text/html": [
       "<div>\n",
       "<style>\n",
       "    .dataframe thead tr:only-child th {\n",
       "        text-align: right;\n",
       "    }\n",
       "\n",
       "    .dataframe thead th {\n",
       "        text-align: left;\n",
       "    }\n",
       "\n",
       "    .dataframe tbody tr th {\n",
       "        vertical-align: top;\n",
       "    }\n",
       "</style>\n",
       "<table border=\"1\" class=\"dataframe\">\n",
       "  <thead>\n",
       "    <tr style=\"text-align: right;\">\n",
       "      <th></th>\n",
       "      <th>Open</th>\n",
       "      <th>High</th>\n",
       "      <th>Low</th>\n",
       "      <th>Close</th>\n",
       "      <th>Adj Close</th>\n",
       "      <th>Volume</th>\n",
       "    </tr>\n",
       "    <tr>\n",
       "      <th>Date</th>\n",
       "      <th></th>\n",
       "      <th></th>\n",
       "      <th></th>\n",
       "      <th></th>\n",
       "      <th></th>\n",
       "      <th></th>\n",
       "    </tr>\n",
       "  </thead>\n",
       "  <tbody>\n",
       "    <tr>\n",
       "      <th>1982-01-04</th>\n",
       "      <td>0.395089</td>\n",
       "      <td>0.395089</td>\n",
       "      <td>0.392857</td>\n",
       "      <td>0.392857</td>\n",
       "      <td>0.321458</td>\n",
       "      <td>17813600</td>\n",
       "    </tr>\n",
       "    <tr>\n",
       "      <th>1982-01-05</th>\n",
       "      <td>0.377232</td>\n",
       "      <td>0.377232</td>\n",
       "      <td>0.372768</td>\n",
       "      <td>0.372768</td>\n",
       "      <td>0.305020</td>\n",
       "      <td>8960000</td>\n",
       "    </tr>\n",
       "    <tr>\n",
       "      <th>1982-01-06</th>\n",
       "      <td>0.370536</td>\n",
       "      <td>0.370536</td>\n",
       "      <td>0.368304</td>\n",
       "      <td>0.368304</td>\n",
       "      <td>0.301367</td>\n",
       "      <td>16520000</td>\n",
       "    </tr>\n",
       "    <tr>\n",
       "      <th>1982-01-07</th>\n",
       "      <td>0.343750</td>\n",
       "      <td>0.343750</td>\n",
       "      <td>0.339286</td>\n",
       "      <td>0.339286</td>\n",
       "      <td>0.277623</td>\n",
       "      <td>17511200</td>\n",
       "    </tr>\n",
       "    <tr>\n",
       "      <th>1982-01-08</th>\n",
       "      <td>0.354911</td>\n",
       "      <td>0.357143</td>\n",
       "      <td>0.354911</td>\n",
       "      <td>0.354911</td>\n",
       "      <td>0.290408</td>\n",
       "      <td>14151200</td>\n",
       "    </tr>\n",
       "  </tbody>\n",
       "</table>\n",
       "</div>"
      ],
      "text/plain": [
       "                Open      High       Low     Close  Adj Close    Volume\n",
       "Date                                                                   \n",
       "1982-01-04  0.395089  0.395089  0.392857  0.392857   0.321458  17813600\n",
       "1982-01-05  0.377232  0.377232  0.372768  0.372768   0.305020   8960000\n",
       "1982-01-06  0.370536  0.370536  0.368304  0.368304   0.301367  16520000\n",
       "1982-01-07  0.343750  0.343750  0.339286  0.339286   0.277623  17511200\n",
       "1982-01-08  0.354911  0.357143  0.354911  0.354911   0.290408  14151200"
      ]
     },
     "execution_count": 186,
     "metadata": {},
     "output_type": "execute_result"
    }
   ],
   "source": [
    "dataFrame.head(5)"
   ]
  },
  {
   "cell_type": "markdown",
   "metadata": {},
   "source": [
    "A overview of the dataset could be obtained with the help of the describe() function. It gives a summary of the dataFrame. "
   ]
  },
  {
   "cell_type": "code",
   "execution_count": 40,
   "metadata": {},
   "outputs": [
    {
     "data": {
      "text/html": [
       "<div>\n",
       "<style>\n",
       "    .dataframe thead tr:only-child th {\n",
       "        text-align: right;\n",
       "    }\n",
       "\n",
       "    .dataframe thead th {\n",
       "        text-align: left;\n",
       "    }\n",
       "\n",
       "    .dataframe tbody tr th {\n",
       "        vertical-align: top;\n",
       "    }\n",
       "</style>\n",
       "<table border=\"1\" class=\"dataframe\">\n",
       "  <thead>\n",
       "    <tr style=\"text-align: right;\">\n",
       "      <th></th>\n",
       "      <th>Open</th>\n",
       "      <th>High</th>\n",
       "      <th>Low</th>\n",
       "      <th>Close</th>\n",
       "      <th>Adj Close</th>\n",
       "      <th>Volume</th>\n",
       "    </tr>\n",
       "  </thead>\n",
       "  <tbody>\n",
       "    <tr>\n",
       "      <th>count</th>\n",
       "      <td>9091.000000</td>\n",
       "      <td>9091.000000</td>\n",
       "      <td>9091.000000</td>\n",
       "      <td>9091.000000</td>\n",
       "      <td>9091.000000</td>\n",
       "      <td>9.091000e+03</td>\n",
       "    </tr>\n",
       "    <tr>\n",
       "      <th>mean</th>\n",
       "      <td>22.768566</td>\n",
       "      <td>22.984293</td>\n",
       "      <td>22.534710</td>\n",
       "      <td>22.765867</td>\n",
       "      <td>21.386560</td>\n",
       "      <td>9.126859e+07</td>\n",
       "    </tr>\n",
       "    <tr>\n",
       "      <th>std</th>\n",
       "      <td>39.694619</td>\n",
       "      <td>40.003395</td>\n",
       "      <td>39.366172</td>\n",
       "      <td>39.697882</td>\n",
       "      <td>38.247234</td>\n",
       "      <td>8.756896e+07</td>\n",
       "    </tr>\n",
       "    <tr>\n",
       "      <th>min</th>\n",
       "      <td>0.198661</td>\n",
       "      <td>0.198661</td>\n",
       "      <td>0.196429</td>\n",
       "      <td>0.196429</td>\n",
       "      <td>0.160729</td>\n",
       "      <td>3.472000e+05</td>\n",
       "    </tr>\n",
       "    <tr>\n",
       "      <th>25%</th>\n",
       "      <td>1.098214</td>\n",
       "      <td>1.125000</td>\n",
       "      <td>1.066696</td>\n",
       "      <td>1.092143</td>\n",
       "      <td>0.961425</td>\n",
       "      <td>3.646665e+07</td>\n",
       "    </tr>\n",
       "    <tr>\n",
       "      <th>50%</th>\n",
       "      <td>1.669643</td>\n",
       "      <td>1.705357</td>\n",
       "      <td>1.638571</td>\n",
       "      <td>1.669643</td>\n",
       "      <td>1.465028</td>\n",
       "      <td>6.291460e+07</td>\n",
       "    </tr>\n",
       "    <tr>\n",
       "      <th>75%</th>\n",
       "      <td>23.539285</td>\n",
       "      <td>23.884286</td>\n",
       "      <td>23.094286</td>\n",
       "      <td>23.522858</td>\n",
       "      <td>21.086674</td>\n",
       "      <td>1.130290e+08</td>\n",
       "    </tr>\n",
       "    <tr>\n",
       "      <th>max</th>\n",
       "      <td>179.369995</td>\n",
       "      <td>180.100006</td>\n",
       "      <td>178.250000</td>\n",
       "      <td>179.259995</td>\n",
       "      <td>179.259995</td>\n",
       "      <td>1.855410e+09</td>\n",
       "    </tr>\n",
       "  </tbody>\n",
       "</table>\n",
       "</div>"
      ],
      "text/plain": [
       "              Open         High          Low        Close    Adj Close  \\\n",
       "count  9091.000000  9091.000000  9091.000000  9091.000000  9091.000000   \n",
       "mean     22.768566    22.984293    22.534710    22.765867    21.386560   \n",
       "std      39.694619    40.003395    39.366172    39.697882    38.247234   \n",
       "min       0.198661     0.198661     0.196429     0.196429     0.160729   \n",
       "25%       1.098214     1.125000     1.066696     1.092143     0.961425   \n",
       "50%       1.669643     1.705357     1.638571     1.669643     1.465028   \n",
       "75%      23.539285    23.884286    23.094286    23.522858    21.086674   \n",
       "max     179.369995   180.100006   178.250000   179.259995   179.259995   \n",
       "\n",
       "             Volume  \n",
       "count  9.091000e+03  \n",
       "mean   9.126859e+07  \n",
       "std    8.756896e+07  \n",
       "min    3.472000e+05  \n",
       "25%    3.646665e+07  \n",
       "50%    6.291460e+07  \n",
       "75%    1.130290e+08  \n",
       "max    1.855410e+09  "
      ]
     },
     "execution_count": 40,
     "metadata": {},
     "output_type": "execute_result"
    }
   ],
   "source": [
    "dataFrame.describe()"
   ]
  },
  {
   "cell_type": "markdown",
   "metadata": {},
   "source": [
    "A new series closingPrices is created which holds the values of the closing prices of the financial data that has been obtained."
   ]
  },
  {
   "cell_type": "code",
   "execution_count": 45,
   "metadata": {
    "collapsed": true
   },
   "outputs": [],
   "source": [
    "closingPrices = dataFrame['Close']"
   ]
  },
  {
   "cell_type": "markdown",
   "metadata": {},
   "source": [
    "A sample of the series newly created is obtained which has the dates as the index and the closing prices of the stock as the values. The tail() function is used to display the last few elements of the closingPrices series."
   ]
  },
  {
   "cell_type": "code",
   "execution_count": 50,
   "metadata": {},
   "outputs": [
    {
     "data": {
      "text/plain": [
       "Date\n",
       "2018-01-12    177.089996\n",
       "2018-01-16    176.190002\n",
       "2018-01-17    179.100006\n",
       "2018-01-18    179.259995\n",
       "2018-01-19    178.460007\n",
       "Name: Close, dtype: float64"
      ]
     },
     "execution_count": 50,
     "metadata": {},
     "output_type": "execute_result"
    }
   ],
   "source": [
    "closingPrices.tail()"
   ]
  },
  {
   "cell_type": "markdown",
   "metadata": {},
   "source": [
    "The easiest way to identify the highest prices in the ClosingPrices series is to use in-built functions that are available with pandas. Here max() function is used to display the highest closing price in the closingPrices series."
   ]
  },
  {
   "cell_type": "code",
   "execution_count": 51,
   "metadata": {},
   "outputs": [
    {
     "data": {
      "text/plain": [
       "179.259995"
      ]
     },
     "execution_count": 51,
     "metadata": {},
     "output_type": "execute_result"
    }
   ],
   "source": [
    "closingPrices.max()"
   ]
  },
  {
   "cell_type": "markdown",
   "metadata": {},
   "source": [
    "The other in-built fucntion that could be used is the nlargest() function, this function takes in a parameter of integer 'n' to display n number of results sorted in the descending order. The advantage of this method is that the index is also displayed."
   ]
  },
  {
   "cell_type": "code",
   "execution_count": 52,
   "metadata": {},
   "outputs": [
    {
     "data": {
      "text/plain": [
       "Date\n",
       "2018-01-18    179.259995\n",
       "Name: Close, dtype: float64"
      ]
     },
     "execution_count": 52,
     "metadata": {},
     "output_type": "execute_result"
    }
   ],
   "source": [
    "closingPrices.nlargest(1)"
   ]
  },
  {
   "cell_type": "code",
   "execution_count": 114,
   "metadata": {},
   "outputs": [
    {
     "data": {
      "text/plain": [
       "Date\n",
       "1982-01-04    0.392857\n",
       "1982-01-05    0.372768\n",
       "1982-01-06    0.368304\n",
       "1982-01-07    0.339286\n",
       "1982-01-08    0.354911\n",
       "Name: Close, dtype: float64"
      ]
     },
     "execution_count": 114,
     "metadata": {},
     "output_type": "execute_result"
    }
   ],
   "source": [
    "closingPrices.head()"
   ]
  },
  {
   "cell_type": "markdown",
   "metadata": {},
   "source": [
    "Another method could be sorting the series and displayying the first element of the series to get the maximum value of the series.\n",
    "\n",
    "Here, the sort_values function could be used to sort the values of the series, parameter ascending is set as false to sort by descending.\n",
    "\n",
    "But other approaches are easier to do than this."
   ]
  },
  {
   "cell_type": "code",
   "execution_count": 58,
   "metadata": {
    "collapsed": true
   },
   "outputs": [],
   "source": [
    "arrPriceList = closingPrices[closingPrices.sort_values(ascending = False)]"
   ]
  },
  {
   "cell_type": "code",
   "execution_count": 126,
   "metadata": {},
   "outputs": [
    {
     "data": {
      "text/plain": [
       "Close\n",
       "179.259995   NaN\n",
       "Name: Close, dtype: float64"
      ]
     },
     "execution_count": 126,
     "metadata": {},
     "output_type": "execute_result"
    }
   ],
   "source": [
    "arrPriceList.head(1)"
   ]
  },
  {
   "cell_type": "markdown",
   "metadata": {},
   "source": [
    "The matplotlib inline magic command can be used to plot the close series of Apple stock data. This could be used to get better understanding of the data over the years as a visual representation."
   ]
  },
  {
   "cell_type": "code",
   "execution_count": 64,
   "metadata": {},
   "outputs": [
    {
     "data": {
      "image/png": "[encoded data removed]",
      "text/plain": [
       "<matplotlib.figure.Figure at 0x1149ecc50>"
      ]
     },
     "metadata": {},
     "output_type": "display_data"
    }
   ],
   "source": [
    "%matplotlib inline \n",
    "closingPrices.plot();"
   ]
  },
  {
   "cell_type": "markdown",
   "metadata": {},
   "source": [
    "### Closing Prices Overview\n",
    "Over the years, the price of Apple stocks have been increasing at a very good rate. The surge in prices can be especially seen after the 2007. This could be due to their entry into the smartphone market that could have pushed their stock prices even further. There are also some dips after this entry for example in 2008-2009, this might have been due to global economic slowdown at that time. But a closer look needs to be taken to have a clearer idea about the stock prices."
   ]
  },
  {
   "cell_type": "code",
   "execution_count": 185,
   "metadata": {},
   "outputs": [
    {
     "data": {
      "text/plain": [
       "Date\n",
       "2018-01-18    179.259995\n",
       "2018-01-17    179.100006\n",
       "2018-01-19    178.460007\n",
       "2018-01-12    177.089996\n",
       "2017-12-18    176.419998\n",
       "Name: Close, dtype: float64"
      ]
     },
     "execution_count": 185,
     "metadata": {},
     "output_type": "execute_result"
    }
   ],
   "source": [
    "closingPrices.nlargest(5)"
   ]
  },
  {
   "cell_type": "code",
   "execution_count": 179,
   "metadata": {},
   "outputs": [
    {
     "data": {
      "text/plain": [
       "Date\n",
       "1982-01-04    0.392857\n",
       "1982-01-05    0.372768\n",
       "1982-01-06    0.368304\n",
       "1982-01-07    0.339286\n",
       "1982-01-08    0.354911\n",
       "Name: Close, dtype: float64"
      ]
     },
     "execution_count": 179,
     "metadata": {},
     "output_type": "execute_result"
    }
   ],
   "source": [
    "closingPrices.head()"
   ]
  },
  {
   "cell_type": "markdown",
   "metadata": {},
   "source": [
    "### Resampling to understand the data better.\n",
    "Resampling is used to get better understanding of data. The resample() function is used to either upsample or downsample the number of observations in the series. Here, the series is downsampled to display only the 1st and 5th day with respect to the closing prices.\n",
    "\n",
    "The following was used as resource to understand the working of resample() function.\n",
    "\n",
    "https://www.packtpub.com/mapt/book/big_data_and_business_intelligence/9781788394697/5/ch05lvl1sec36/upsampling-time-series-data\n",
    "\n",
    "http://benalexkeen.com/resampling-time-series-data-with-pandas/"
   ]
  },
  {
   "cell_type": "code",
   "execution_count": 130,
   "metadata": {
    "collapsed": true
   },
   "outputs": [],
   "source": [
    "closeSeriesR = closingPrices.resample('5D').ffill()"
   ]
  },
  {
   "cell_type": "code",
   "execution_count": 132,
   "metadata": {},
   "outputs": [
    {
     "data": {
      "text/plain": [
       "Date\n",
       "1982-01-04    0.392857\n",
       "1982-01-09    0.354911\n",
       "1982-01-14    0.334821\n",
       "1982-01-19    0.354911\n",
       "1982-01-24    0.370536\n",
       "Freq: 5D, Name: Close, dtype: float64"
      ]
     },
     "execution_count": 132,
     "metadata": {},
     "output_type": "execute_result"
    }
   ],
   "source": [
    "closeSeriesR.head()"
   ]
  },
  {
   "cell_type": "markdown",
   "metadata": {},
   "source": [
    "The percentage change of the closing price from the 1st day x, to the 5th day x+5 can be calculated using the in-built function 'pct_change()' applied on the series closeSeriesR would return the percentage difference between the closing values of particular dates.\n",
    "\n",
    "The Pandas documentation was used to understand the working of the pct_change() function.\n",
    "https://pandas.pydata.org/pandas-docs/stable/generated/pandas.DataFrame.pct_change.html"
   ]
  },
  {
   "cell_type": "markdown",
   "metadata": {},
   "source": [
    "The largest 5 percentage differences could be taken from this by cascading to the 'nlargest()' function. The parameter to this function is the number '5' as we need the first 5 largest percentage differences."
   ]
  },
  {
   "cell_type": "code",
   "execution_count": 133,
   "metadata": {},
   "outputs": [
    {
     "data": {
      "text/plain": [
       "Date\n",
       "1997-08-08    0.397393\n",
       "2003-05-09    0.266436\n",
       "1998-01-05    0.209523\n",
       "1999-07-09    0.201079\n",
       "1983-01-14    0.200002\n",
       "Name: Close, dtype: float64"
      ]
     },
     "execution_count": 133,
     "metadata": {},
     "output_type": "execute_result"
    }
   ],
   "source": [
    "closeSeriesR.pct_change().nlargest(5)"
   ]
  },
  {
   "cell_type": "markdown",
   "metadata": {},
   "source": [
    "* 1997-08-08 \n",
    "\n",
    "The largest difference was on 1997/08/08, just 2 days after Microsoft had invested $150 Million in Apple to keep it running. The other reason also extending support of Microsoft Office tools to the MacOS platform. Apple was struggling to make profits for 18 months in a row and the market had shown positive sign when there was still chances that the company could succeed in the future.\n",
    "\n",
    "Source - https://www.wired.com/2009/08/dayintech_0806/\n",
    "\n",
    "* 2003-05-09\n",
    "\n",
    "The launch of Apple iTunes music software could be attributed to the 26pc increase in the stock price. Apple saw about 1 Million downloads of songs in just the first week of the launch of iTunes.\n",
    "\n",
    "Source - https://www.apple.com/newsroom/archive/?page=53\n",
    "\n",
    "The other dates did not return any important events at Apple so they are not mentioned. There could be different reasons as to why there was a price surge during the above times, the main reason could be attributed to the fact that the top 5 of the dates are either mondays or fridays when the trading is the starting of the week or ending of the week."
   ]
  },
  {
   "cell_type": "markdown",
   "metadata": {},
   "source": [
    "To resample the series based on Quarter based data the resample method is used. Here the quarters should end in september of every year according to the requirement. So, the resample function is used here based on 'Q' rather than 'D'. And 'sep' is passed along with the parameter to tell that the quarter ends in september.\n",
    "\n",
    "https://github.com/pandas-dev/pandas/issues/2764https://github.com/pandas-dev/pandas/issues/2764"
   ]
  },
  {
   "cell_type": "code",
   "execution_count": 157,
   "metadata": {
    "collapsed": true
   },
   "outputs": [],
   "source": [
    "closeSeriesQ = closingPrices.resample('Q-sep').mean()"
   ]
  },
  {
   "cell_type": "code",
   "execution_count": 178,
   "metadata": {},
   "outputs": [
    {
     "data": {
      "text/plain": [
       "Date\n",
       "2017-03-31    0.161496\n",
       "2017-06-30    0.122713\n",
       "2017-09-30    0.049323\n",
       "2017-12-31    0.077201\n",
       "2018-03-31    0.049676\n",
       "Freq: Q-SEP, Name: Close, dtype: float64"
      ]
     },
     "execution_count": 178,
     "metadata": {},
     "output_type": "execute_result"
    }
   ],
   "source": [
    "closeSeriesQ.pct_change().tail()"
   ]
  },
  {
   "cell_type": "code",
   "execution_count": 181,
   "metadata": {
    "collapsed": true
   },
   "outputs": [],
   "source": [
    "closeSeriesP = closeSeriesQ.pct_change()"
   ]
  },
  {
   "cell_type": "code",
   "execution_count": 183,
   "metadata": {},
   "outputs": [
    {
     "data": {
      "text/plain": [
       "Date\n",
       "1982-12-31    0.859333\n",
       "2004-12-31    0.673326\n",
       "1991-03-31    0.635948\n",
       "1987-03-31    0.568630\n",
       "1999-12-31    0.452867\n",
       "Name: Close, dtype: float64"
      ]
     },
     "execution_count": 183,
     "metadata": {},
     "output_type": "execute_result"
    }
   ],
   "source": [
    "closeSeriesP.nlargest(5)"
   ]
  },
  {
   "cell_type": "code",
   "execution_count": 184,
   "metadata": {},
   "outputs": [
    {
     "data": {
      "image/png": "[encoded data removed]",
      "text/plain": [
       "<matplotlib.figure.Figure at 0x114e53cf8>"
      ]
     },
     "metadata": {},
     "output_type": "display_data"
    }
   ],
   "source": [
    "%matplotlib inline \n",
    "closeSeriesP.plot();"
   ]
  },
  {
   "cell_type": "markdown",
   "metadata": {},
   "source": [
    "### Overview of Quarter based performance\n",
    "Based on the data I had arrived at. I did not get any surges above 100 percent when comparing the quarterly results. The largest list of price surges were during the following.\n",
    "\n",
    "Date\n",
    "1982-12-31    0.859333\n",
    "2004-12-31    0.673326\n",
    "1991-03-31    0.635948\n",
    "1987-03-31    0.568630\n",
    "1999-12-31    0.452867\n",
    "\n",
    "The strong performance of Apple in 1980's could be attributed to the fact that they had released 2nd version of their apple systems and were starting to gain a market share. That would be the reason for the high percentage change. And the prices of the shares were pretty low at that time of time, so even a small change in stock price would result in a bigger percentage difference.\n",
    "\n",
    "In the year 2004, Apple had released the iMac G5 model and this could explain why the percentage difference is higher for this quarter. Due to the success of the iMac G5 model which was dubbed as the slimmest desktop at that time, there could have been higher sales of these machines than the previous quarters.\n",
    "\n",
    "The main reasons for the increase in stock prices in 1999 could be due to the release of the iMac desktops which were selling well in the market and had brought the company back from a straight losses of 4 years. \n",
    "\n",
    "Source : https://www.apple.com/newsroom/2004/08/31Apple-Unveils-the-New-iMac-G5/\n",
    "         https://en.wikipedia.org/wiki/Apple_II_series\n",
    "         https://www.barrons.com/articles/how-apple-became-the-first-800-billion-stock-1494363792"
   ]
  }
 ],
 "metadata": {
  "kernelspec": {
   "display_name": "Python 3",
   "language": "python",
   "name": "python3"
  },
  "language_info": {
   "codemirror_mode": {
    "name": "ipython",
    "version": 3
   },
   "file_extension": ".py",
   "mimetype": "text/x-python",
   "name": "python",
   "nbconvert_exporter": "python",
   "pygments_lexer": "ipython3",
   "version": "3.6.2"
  }
 },
 "nbformat": 4,
 "nbformat_minor": 2
}
