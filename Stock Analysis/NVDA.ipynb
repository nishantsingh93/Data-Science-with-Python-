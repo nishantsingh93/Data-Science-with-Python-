{
 "cells": [
  {
   "cell_type": "markdown",
   "metadata": {},
   "source": [
    "# HW2"
   ]
  },
  {
   "cell_type": "markdown",
   "metadata": {},
   "source": [
    "## Objective"
   ]
  },
  {
   "cell_type": "markdown",
   "metadata": {},
   "source": [
    "<li>To practice working with Pandas Series</li>\n",
    "<li>Overview of the Close series of the Nvedia stock</li>\n",
    "<li>Find Largest one day drops in shares</li>\n",
    "<li>Find days in which the closing price has increased by at least 60% within the 9 preceding trading sessions </li>\n",
    "<li>Find  the worst possible \"buy&sell\" operation</li>"
   ]
  },
  {
   "cell_type": "markdown",
   "metadata": {
    "collapsed": true
   },
   "source": [
    "<b>Solution:</b> \n",
    "<ul>\n",
    "<li>The company choose is <b>NVIDIA </b> </li>\n",
    "<li>I have used pandas datareader to get the live content!!</li>\n",
    "<li>The data has been extracted from Yahoo Finance</li>\n",
    "</ul>"
   ]
  },
  {
   "cell_type": "code",
   "execution_count": 1,
   "metadata": {
    "collapsed": true
   },
   "outputs": [],
   "source": [
    "from IPython.core.interactiveshell import InteractiveShell\n",
    "InteractiveShell.ast_node_interactivity = \"all\""
   ]
  },
  {
   "cell_type": "code",
   "execution_count": 2,
   "metadata": {
    "collapsed": true
   },
   "outputs": [],
   "source": [
    "import pandas\n",
    "import pandas_datareader\n",
    "import datetime as dt"
   ]
  },
  {
   "cell_type": "code",
   "execution_count": 3,
   "metadata": {
    "collapsed": true
   },
   "outputs": [],
   "source": [
    "def readData(startDate,endDate,compTicker):\n",
    "    dataF = pandas_datareader.DataReader(compTicker,\"yahoo\",startDate,endDate)\n",
    "    return dataF"
   ]
  },
  {
   "cell_type": "code",
   "execution_count": 6,
   "metadata": {},
   "outputs": [
    {
     "data": {
      "text/html": [
       "<div>\n",
       "<style>\n",
       "    .dataframe thead tr:only-child th {\n",
       "        text-align: right;\n",
       "    }\n",
       "\n",
       "    .dataframe thead th {\n",
       "        text-align: left;\n",
       "    }\n",
       "\n",
       "    .dataframe tbody tr th {\n",
       "        vertical-align: top;\n",
       "    }\n",
       "</style>\n",
       "<table border=\"1\" class=\"dataframe\">\n",
       "  <thead>\n",
       "    <tr style=\"text-align: right;\">\n",
       "      <th></th>\n",
       "      <th>Open</th>\n",
       "      <th>High</th>\n",
       "      <th>Low</th>\n",
       "      <th>Close</th>\n",
       "      <th>Adj Close</th>\n",
       "      <th>Volume</th>\n",
       "    </tr>\n",
       "    <tr>\n",
       "      <th>Date</th>\n",
       "      <th></th>\n",
       "      <th></th>\n",
       "      <th></th>\n",
       "      <th></th>\n",
       "      <th></th>\n",
       "      <th></th>\n",
       "    </tr>\n",
       "  </thead>\n",
       "  <tbody>\n",
       "    <tr>\n",
       "      <th>1999-01-22</th>\n",
       "      <td>1.750000</td>\n",
       "      <td>1.953125</td>\n",
       "      <td>1.552083</td>\n",
       "      <td>1.640625</td>\n",
       "      <td>1.521034</td>\n",
       "      <td>67867200</td>\n",
       "    </tr>\n",
       "    <tr>\n",
       "      <th>1999-01-25</th>\n",
       "      <td>1.770833</td>\n",
       "      <td>1.833333</td>\n",
       "      <td>1.640625</td>\n",
       "      <td>1.812500</td>\n",
       "      <td>1.680380</td>\n",
       "      <td>12762000</td>\n",
       "    </tr>\n",
       "    <tr>\n",
       "      <th>1999-01-26</th>\n",
       "      <td>1.833333</td>\n",
       "      <td>1.869792</td>\n",
       "      <td>1.645833</td>\n",
       "      <td>1.671875</td>\n",
       "      <td>1.550005</td>\n",
       "      <td>8580000</td>\n",
       "    </tr>\n",
       "    <tr>\n",
       "      <th>1999-01-27</th>\n",
       "      <td>1.677083</td>\n",
       "      <td>1.718750</td>\n",
       "      <td>1.583333</td>\n",
       "      <td>1.666667</td>\n",
       "      <td>1.545177</td>\n",
       "      <td>6109200</td>\n",
       "    </tr>\n",
       "    <tr>\n",
       "      <th>1999-01-28</th>\n",
       "      <td>1.666667</td>\n",
       "      <td>1.677083</td>\n",
       "      <td>1.651042</td>\n",
       "      <td>1.661458</td>\n",
       "      <td>1.540348</td>\n",
       "      <td>5688000</td>\n",
       "    </tr>\n",
       "  </tbody>\n",
       "</table>\n",
       "</div>"
      ],
      "text/plain": [
       "                Open      High       Low     Close  Adj Close    Volume\n",
       "Date                                                                   \n",
       "1999-01-22  1.750000  1.953125  1.552083  1.640625   1.521034  67867200\n",
       "1999-01-25  1.770833  1.833333  1.640625  1.812500   1.680380  12762000\n",
       "1999-01-26  1.833333  1.869792  1.645833  1.671875   1.550005   8580000\n",
       "1999-01-27  1.677083  1.718750  1.583333  1.666667   1.545177   6109200\n",
       "1999-01-28  1.666667  1.677083  1.651042  1.661458   1.540348   5688000"
      ]
     },
     "execution_count": 6,
     "metadata": {},
     "output_type": "execute_result"
    }
   ],
   "source": [
    "start = dt.datetime(1982,1,1)\n",
    "end = dt.datetime(2018,1,23)\n",
    "compTicker = 'NVDA'\n",
    "dataFrame = readData(start,end,compTicker)\n",
    "dataFrame.head()"
   ]
  },
  {
   "cell_type": "code",
   "execution_count": 7,
   "metadata": {},
   "outputs": [
    {
     "data": {
      "text/html": [
       "<div>\n",
       "<style>\n",
       "    .dataframe thead tr:only-child th {\n",
       "        text-align: right;\n",
       "    }\n",
       "\n",
       "    .dataframe thead th {\n",
       "        text-align: left;\n",
       "    }\n",
       "\n",
       "    .dataframe tbody tr th {\n",
       "        vertical-align: top;\n",
       "    }\n",
       "</style>\n",
       "<table border=\"1\" class=\"dataframe\">\n",
       "  <thead>\n",
       "    <tr style=\"text-align: right;\">\n",
       "      <th></th>\n",
       "      <th>Open</th>\n",
       "      <th>High</th>\n",
       "      <th>Low</th>\n",
       "      <th>Close</th>\n",
       "      <th>Adj Close</th>\n",
       "      <th>Volume</th>\n",
       "    </tr>\n",
       "    <tr>\n",
       "      <th>Date</th>\n",
       "      <th></th>\n",
       "      <th></th>\n",
       "      <th></th>\n",
       "      <th></th>\n",
       "      <th></th>\n",
       "      <th></th>\n",
       "    </tr>\n",
       "  </thead>\n",
       "  <tbody>\n",
       "    <tr>\n",
       "      <th>1999-01-22</th>\n",
       "      <td>1.750000</td>\n",
       "      <td>1.953125</td>\n",
       "      <td>1.552083</td>\n",
       "      <td>1.640625</td>\n",
       "      <td>1.521034</td>\n",
       "      <td>67867200</td>\n",
       "    </tr>\n",
       "    <tr>\n",
       "      <th>1999-01-25</th>\n",
       "      <td>1.770833</td>\n",
       "      <td>1.833333</td>\n",
       "      <td>1.640625</td>\n",
       "      <td>1.812500</td>\n",
       "      <td>1.680380</td>\n",
       "      <td>12762000</td>\n",
       "    </tr>\n",
       "    <tr>\n",
       "      <th>1999-01-26</th>\n",
       "      <td>1.833333</td>\n",
       "      <td>1.869792</td>\n",
       "      <td>1.645833</td>\n",
       "      <td>1.671875</td>\n",
       "      <td>1.550005</td>\n",
       "      <td>8580000</td>\n",
       "    </tr>\n",
       "    <tr>\n",
       "      <th>1999-01-27</th>\n",
       "      <td>1.677083</td>\n",
       "      <td>1.718750</td>\n",
       "      <td>1.583333</td>\n",
       "      <td>1.666667</td>\n",
       "      <td>1.545177</td>\n",
       "      <td>6109200</td>\n",
       "    </tr>\n",
       "    <tr>\n",
       "      <th>1999-01-28</th>\n",
       "      <td>1.666667</td>\n",
       "      <td>1.677083</td>\n",
       "      <td>1.651042</td>\n",
       "      <td>1.661458</td>\n",
       "      <td>1.540348</td>\n",
       "      <td>5688000</td>\n",
       "    </tr>\n",
       "  </tbody>\n",
       "</table>\n",
       "</div>"
      ],
      "text/plain": [
       "                Open      High       Low     Close  Adj Close    Volume\n",
       "Date                                                                   \n",
       "1999-01-22  1.750000  1.953125  1.552083  1.640625   1.521034  67867200\n",
       "1999-01-25  1.770833  1.833333  1.640625  1.812500   1.680380  12762000\n",
       "1999-01-26  1.833333  1.869792  1.645833  1.671875   1.550005   8580000\n",
       "1999-01-27  1.677083  1.718750  1.583333  1.666667   1.545177   6109200\n",
       "1999-01-28  1.666667  1.677083  1.651042  1.661458   1.540348   5688000"
      ]
     },
     "execution_count": 7,
     "metadata": {},
     "output_type": "execute_result"
    }
   ],
   "source": [
    "dataFrame.head(5)"
   ]
  },
  {
   "cell_type": "code",
   "execution_count": 8,
   "metadata": {},
   "outputs": [
    {
     "data": {
      "text/html": [
       "<div>\n",
       "<style>\n",
       "    .dataframe thead tr:only-child th {\n",
       "        text-align: right;\n",
       "    }\n",
       "\n",
       "    .dataframe thead th {\n",
       "        text-align: left;\n",
       "    }\n",
       "\n",
       "    .dataframe tbody tr th {\n",
       "        vertical-align: top;\n",
       "    }\n",
       "</style>\n",
       "<table border=\"1\" class=\"dataframe\">\n",
       "  <thead>\n",
       "    <tr style=\"text-align: right;\">\n",
       "      <th></th>\n",
       "      <th>Open</th>\n",
       "      <th>High</th>\n",
       "      <th>Low</th>\n",
       "      <th>Close</th>\n",
       "      <th>Adj Close</th>\n",
       "      <th>Volume</th>\n",
       "    </tr>\n",
       "  </thead>\n",
       "  <tbody>\n",
       "    <tr>\n",
       "      <th>count</th>\n",
       "      <td>4783.000000</td>\n",
       "      <td>4783.000000</td>\n",
       "      <td>4783.000000</td>\n",
       "      <td>4783.000000</td>\n",
       "      <td>4783.000000</td>\n",
       "      <td>4.783000e+03</td>\n",
       "    </tr>\n",
       "    <tr>\n",
       "      <th>mean</th>\n",
       "      <td>23.492112</td>\n",
       "      <td>23.889588</td>\n",
       "      <td>23.069174</td>\n",
       "      <td>23.497564</td>\n",
       "      <td>22.699728</td>\n",
       "      <td>1.628107e+07</td>\n",
       "    </tr>\n",
       "    <tr>\n",
       "      <th>std</th>\n",
       "      <td>35.401313</td>\n",
       "      <td>35.825240</td>\n",
       "      <td>34.880415</td>\n",
       "      <td>35.411907</td>\n",
       "      <td>35.508608</td>\n",
       "      <td>1.192974e+07</td>\n",
       "    </tr>\n",
       "    <tr>\n",
       "      <th>min</th>\n",
       "      <td>1.395833</td>\n",
       "      <td>1.421875</td>\n",
       "      <td>1.333333</td>\n",
       "      <td>1.364583</td>\n",
       "      <td>1.265113</td>\n",
       "      <td>4.920000e+05</td>\n",
       "    </tr>\n",
       "    <tr>\n",
       "      <th>25%</th>\n",
       "      <td>8.653646</td>\n",
       "      <td>8.930000</td>\n",
       "      <td>8.416667</td>\n",
       "      <td>8.636667</td>\n",
       "      <td>8.007107</td>\n",
       "      <td>8.822350e+06</td>\n",
       "    </tr>\n",
       "    <tr>\n",
       "      <th>50%</th>\n",
       "      <td>14.060000</td>\n",
       "      <td>14.333333</td>\n",
       "      <td>13.810000</td>\n",
       "      <td>14.050000</td>\n",
       "      <td>13.053655</td>\n",
       "      <td>1.367780e+07</td>\n",
       "    </tr>\n",
       "    <tr>\n",
       "      <th>75%</th>\n",
       "      <td>20.370000</td>\n",
       "      <td>20.700001</td>\n",
       "      <td>20.040000</td>\n",
       "      <td>20.393334</td>\n",
       "      <td>19.330982</td>\n",
       "      <td>2.034055e+07</td>\n",
       "    </tr>\n",
       "    <tr>\n",
       "      <th>max</th>\n",
       "      <td>239.039993</td>\n",
       "      <td>240.490005</td>\n",
       "      <td>235.100006</td>\n",
       "      <td>238.910004</td>\n",
       "      <td>238.910004</td>\n",
       "      <td>2.307714e+08</td>\n",
       "    </tr>\n",
       "  </tbody>\n",
       "</table>\n",
       "</div>"
      ],
      "text/plain": [
       "              Open         High          Low        Close    Adj Close  \\\n",
       "count  4783.000000  4783.000000  4783.000000  4783.000000  4783.000000   \n",
       "mean     23.492112    23.889588    23.069174    23.497564    22.699728   \n",
       "std      35.401313    35.825240    34.880415    35.411907    35.508608   \n",
       "min       1.395833     1.421875     1.333333     1.364583     1.265113   \n",
       "25%       8.653646     8.930000     8.416667     8.636667     8.007107   \n",
       "50%      14.060000    14.333333    13.810000    14.050000    13.053655   \n",
       "75%      20.370000    20.700001    20.040000    20.393334    19.330982   \n",
       "max     239.039993   240.490005   235.100006   238.910004   238.910004   \n",
       "\n",
       "             Volume  \n",
       "count  4.783000e+03  \n",
       "mean   1.628107e+07  \n",
       "std    1.192974e+07  \n",
       "min    4.920000e+05  \n",
       "25%    8.822350e+06  \n",
       "50%    1.367780e+07  \n",
       "75%    2.034055e+07  \n",
       "max    2.307714e+08  "
      ]
     },
     "execution_count": 8,
     "metadata": {},
     "output_type": "execute_result"
    }
   ],
   "source": [
    "dataFrame.describe()"
   ]
  },
  {
   "cell_type": "code",
   "execution_count": 14,
   "metadata": {
    "collapsed": true
   },
   "outputs": [],
   "source": [
    "closingPrices = dataFrame['Close']"
   ]
  },
  {
   "cell_type": "code",
   "execution_count": 15,
   "metadata": {},
   "outputs": [
    {
     "data": {
      "text/plain": [
       "Date\n",
       "2018-01-18    224.440002\n",
       "2018-01-19    230.110001\n",
       "2018-01-22    233.690002\n",
       "2018-01-23    238.910004\n",
       "2018-01-24    235.800003\n",
       "Name: Close, dtype: float64"
      ]
     },
     "execution_count": 15,
     "metadata": {},
     "output_type": "execute_result"
    }
   ],
   "source": [
    "closingPrices.tail()"
   ]
  },
  {
   "cell_type": "code",
   "execution_count": 16,
   "metadata": {},
   "outputs": [
    {
     "data": {
      "text/plain": [
       "238.91000400000001"
      ]
     },
     "execution_count": 16,
     "metadata": {},
     "output_type": "execute_result"
    }
   ],
   "source": [
    "closingPrices.max()"
   ]
  },
  {
   "cell_type": "code",
   "execution_count": 17,
   "metadata": {},
   "outputs": [
    {
     "data": {
      "text/plain": [
       "Date\n",
       "2018-01-23    238.910004\n",
       "Name: Close, dtype: float64"
      ]
     },
     "execution_count": 17,
     "metadata": {},
     "output_type": "execute_result"
    }
   ],
   "source": [
    "closingPrices.nlargest(1)"
   ]
  },
  {
   "cell_type": "code",
   "execution_count": 18,
   "metadata": {},
   "outputs": [
    {
     "data": {
      "text/plain": [
       "Date\n",
       "1999-01-22    1.640625\n",
       "1999-01-25    1.812500\n",
       "1999-01-26    1.671875\n",
       "1999-01-27    1.666667\n",
       "1999-01-28    1.661458\n",
       "Name: Close, dtype: float64"
      ]
     },
     "execution_count": 18,
     "metadata": {},
     "output_type": "execute_result"
    }
   ],
   "source": [
    "closingPrices.head()"
   ]
  },
  {
   "cell_type": "code",
   "execution_count": 19,
   "metadata": {
    "collapsed": true
   },
   "outputs": [],
   "source": [
    "arrPriceList = closingPrices[closingPrices.sort_values(ascending = False)]"
   ]
  },
  {
   "cell_type": "code",
   "execution_count": 20,
   "metadata": {},
   "outputs": [
    {
     "data": {
      "text/plain": [
       "Close\n",
       "238.910004   NaN\n",
       "Name: Close, dtype: float64"
      ]
     },
     "execution_count": 20,
     "metadata": {},
     "output_type": "execute_result"
    }
   ],
   "source": [
    "arrPriceList.head(1)"
   ]
  },
  {
   "cell_type": "code",
   "execution_count": 21,
   "metadata": {},
   "outputs": [
    {
     "data": {
      "image/png": "[encoded data removed]",
      "text/plain": [
       "<matplotlib.figure.Figure at 0x11ee08be0>"
      ]
     },
     "metadata": {},
     "output_type": "display_data"
    }
   ],
   "source": [
    "%matplotlib inline \n",
    "closingPrices.plot();"
   ]
  },
  {
   "cell_type": "markdown",
   "metadata": {},
   "source": [
    "## Problem"
   ]
  },
  {
   "cell_type": "markdown",
   "metadata": {},
   "source": [
    "### Question 1\n",
    "\n",
    "What was the closing price on Jul 2, 2012?"
   ]
  },
  {
   "cell_type": "code",
   "execution_count": 22,
   "metadata": {},
   "outputs": [
    {
     "data": {
      "text/plain": [
       "13.449999999999999"
      ]
     },
     "execution_count": 22,
     "metadata": {},
     "output_type": "execute_result"
    }
   ],
   "source": [
    "closingPrices['2012-7-2']"
   ]
  },
  {
   "cell_type": "markdown",
   "metadata": {},
   "source": [
    "### Question 2\n",
    "Find the ten largest one-day % drops (in % compared to the closing cost of the previous trading day). Make sure that your output is a Series object that shows both date and the % drop."
   ]
  },
  {
   "cell_type": "code",
   "execution_count": 23,
   "metadata": {
    "collapsed": true
   },
   "outputs": [],
   "source": [
    "drop=(closingPrices.shift(1)-closingPrices)/closingPrices.shift(1)"
   ]
  },
  {
   "cell_type": "code",
   "execution_count": 126,
   "metadata": {},
   "outputs": [
    {
     "data": {
      "text/plain": [
       "Date\n",
       "2004-08-06    0.352335\n",
       "2002-07-31    0.317509\n",
       "2008-07-03    0.307266\n",
       "2000-03-14    0.262144\n",
       "2002-11-08    0.219244\n",
       "2003-08-08    0.196891\n",
       "2008-02-14    0.163212\n",
       "2000-11-30    0.160622\n",
       "2002-06-19    0.156648\n",
       "2001-01-05    0.149715\n",
       "Name: Close, dtype: float64"
      ]
     },
     "execution_count": 126,
     "metadata": {},
     "output_type": "execute_result"
    }
   ],
   "source": [
    "drop.nlargest(10)"
   ]
  },
  {
   "cell_type": "markdown",
   "metadata": {},
   "source": [
    "<b> Solution:</b>\n",
    "<ul>\n",
    "<li>Above are the 10 largest one-day drops for <b>NVIDIA </b> shares!</li>\n",
    "<li>shift() in closingPrices.shift(1) is used to extract the closing price from the previous day! </li>\n",
    "<li>Finally the percentage change formula has been applied which is \n",
    "((Price Sold - Purchase Price) ÷ (Purchase Price))*100</li>\n",
    "</ul>"
   ]
  },
  {
   "cell_type": "markdown",
   "metadata": {},
   "source": [
    "### Question 3\n",
    "In which days did we observe that the price has increased of at least 60% within the 9 preceding trading sessions? Report your result as a Series (d,gain) where d is the trading session date when the increase was observed and gain is the maximum percentage gain (%) observed over the 9 days preceding session d. Hint: use a rolling minimum"
   ]
  },
  {
   "cell_type": "code",
   "execution_count": 30,
   "metadata": {
    "collapsed": true
   },
   "outputs": [],
   "source": [
    "rol = stock.rolling(10).min()"
   ]
  },
  {
   "cell_type": "code",
   "execution_count": 31,
   "metadata": {
    "collapsed": true
   },
   "outputs": [],
   "source": [
    "gain=(closingPrices-rol)/rol>0.6"
   ]
  },
  {
   "cell_type": "code",
   "execution_count": 38,
   "metadata": {},
   "outputs": [
    {
     "data": {
      "text/plain": [
       "Date\n",
       "1999-01-22    False\n",
       "1999-01-25    False\n",
       "1999-01-26    False\n",
       "1999-01-27    False\n",
       "1999-01-28    False\n",
       "Name: Close, dtype: bool"
      ]
     },
     "execution_count": 38,
     "metadata": {},
     "output_type": "execute_result"
    }
   ],
   "source": [
    "gain.head(5)\n"
   ]
  },
  {
   "cell_type": "code",
   "execution_count": 113,
   "metadata": {
    "collapsed": true
   },
   "outputs": [],
   "source": [
    "q =((closingPrices[gain] - rol[gain]) / rol[gain] * 100).nlargest(10)"
   ]
  },
  {
   "cell_type": "code",
   "execution_count": 114,
   "metadata": {},
   "outputs": [
    {
     "data": {
      "text/plain": [
       "Date\n",
       "2000-03-13    157.605178\n",
       "2000-03-10    103.667739\n",
       "2000-03-14     90.075506\n",
       "2000-03-15     82.308515\n",
       "2000-02-18     77.011484\n",
       "2000-03-09     73.112067\n",
       "2000-03-17     70.726503\n",
       "2001-10-12     69.304849\n",
       "2001-10-15     68.551093\n",
       "2000-02-22     64.263296\n",
       "Name: Close, dtype: float64"
      ]
     },
     "execution_count": 114,
     "metadata": {},
     "output_type": "execute_result"
    }
   ],
   "source": [
    "q"
   ]
  },
  {
   "cell_type": "markdown",
   "metadata": {},
   "source": [
    "### Question 4\n"
   ]
  },
  {
   "cell_type": "markdown",
   "metadata": {},
   "source": [
    "What was the worst possible \"buy&sell\" operation? Find the two days x and y so that the % loss resulting from buying in x and selling in y (with y after x) is maximized. Your code should work for any data. Hint: the method cummin returns the minimum value encountered so far. Make sure to return the trading days x and y, as well as the % loss resulting from buying in x and selling in y."
   ]
  },
  {
   "cell_type": "code",
   "execution_count": 142,
   "metadata": {},
   "outputs": [
    {
     "data": {
      "text/plain": [
       "Date\n",
       "2018-01-24    235.800003\n",
       "2018-01-23    235.800003\n",
       "2018-01-22    233.690002\n",
       "2018-01-19    230.110001\n",
       "2018-01-18    224.440002\n",
       "Name: Close, dtype: float64"
      ]
     },
     "execution_count": 142,
     "metadata": {},
     "output_type": "execute_result"
    }
   ],
   "source": [
    "min=closingPrices.sort_index(ascending=False).cummin()\n",
    "min.head(5)"
   ]
  },
  {
   "cell_type": "markdown",
   "metadata": {},
   "source": [
    "The cummin function is used to calculate the Cumulative mean.\n",
    "\n"
   ]
  },
  {
   "cell_type": "code",
   "execution_count": 136,
   "metadata": {},
   "outputs": [
    {
     "data": {
      "text/plain": [
       "Timestamp('2002-01-03 00:00:00')"
      ]
     },
     "execution_count": 136,
     "metadata": {},
     "output_type": "execute_result"
    }
   ],
   "source": [
    "x = ((closingPrices - min) / min).nlargest(1).index[0]\n",
    "x"
   ]
  },
  {
   "cell_type": "markdown",
   "metadata": {},
   "source": [
    "X calculates the date in which the share closing price was min"
   ]
  },
  {
   "cell_type": "code",
   "execution_count": 137,
   "metadata": {},
   "outputs": [
    {
     "data": {
      "text/plain": [
       "Timestamp('2002-10-09 00:00:00')"
      ]
     },
     "execution_count": 137,
     "metadata": {},
     "output_type": "execute_result"
    }
   ],
   "source": [
    "y = closingPrices[closingPrices == min[x]].index[0]\n",
    "y"
   ]
  },
  {
   "cell_type": "markdown",
   "metadata": {},
   "source": [
    "Y calculates  the date in which the share closing price was max"
   ]
  },
  {
   "cell_type": "code",
   "execution_count": 138,
   "metadata": {},
   "outputs": [
    {
     "name": "stdout",
     "output_type": "stream",
     "text": [
      "The worst day to buy NVDA stocks was 2002-01-03 00:00:00, when the price per stock was 23.903334\n",
      "The worst day to sell NVDA stocks was 2002-10-09 00:00:00, when the price per stock was 2.456667\n"
     ]
    }
   ],
   "source": [
    "print('The worst day to buy NVDA stocks was ' + str(x) +', when the price per stock was ' + str(closingPrices[x]))\n",
    "print('The worst day to sell NVDA stocks was ' + str(y) +', when the price per stock was ' + str(closingPrices[y]))\n"
   ]
  },
  {
   "cell_type": "code",
   "execution_count": 139,
   "metadata": {},
   "outputs": [
    {
     "name": "stdout",
     "output_type": "stream",
     "text": [
      "The loss incured in the transaction was 89.7224922682%\n"
     ]
    }
   ],
   "source": [
    "print('The loss incured in the transaction was ' + \n",
    "str(((closingPrices[x] - closingPrices[y])  / closingPrices[x])*100) + '%')"
   ]
  },
  {
   "cell_type": "markdown",
   "metadata": {
    "collapsed": true
   },
   "source": [
    "<b> Conclusion:</b>\n",
    "<ul>\n",
    "<li>Hence the loss incured for the above requirement was around 90%  </li>\n",
    "\n",
    "</ul>\n"
   ]
  }
 ],
 "metadata": {
  "kernelspec": {
   "display_name": "Python 3",
   "language": "python",
   "name": "python3"
  },
  "language_info": {
   "codemirror_mode": {
    "name": "ipython",
    "version": 3
   },
   "file_extension": ".py",
   "mimetype": "text/x-python",
   "name": "python",
   "nbconvert_exporter": "python",
   "pygments_lexer": "ipython3",
   "version": "3.6.2"
  }
 },
 "nbformat": 4,
 "nbformat_minor": 2
}
