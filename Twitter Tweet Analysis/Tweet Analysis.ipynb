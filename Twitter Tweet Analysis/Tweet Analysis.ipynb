{
 "cells": [
  {
   "cell_type": "markdown",
   "metadata": {
    "deletable": true,
    "editable": true
   },
   "source": [
    "# Twitter Tweet Analysis "
   ]
  },
  {
   "cell_type": "code",
   "execution_count": 98,
   "metadata": {
    "collapsed": true,
    "deletable": true,
    "editable": true
   },
   "outputs": [],
   "source": [
    "# print all the outputs in a cell\n",
    "from IPython.core.interactiveshell import InteractiveShell\n",
    "InteractiveShell.ast_node_interactivity = \"all\""
   ]
  },
  {
   "cell_type": "code",
   "execution_count": 99,
   "metadata": {
    "collapsed": false,
    "deletable": true,
    "editable": true
   },
   "outputs": [],
   "source": [
    "tweets = []\n",
    "f = open('FakeNewsAwards.txt', 'r') ## Orginal text file where the tweets are collected \n",
    "for w in f:\n",
    "    w = w.strip().lower()\n",
    "    ## replacing special charachters with space \n",
    "    w = w.replace(',','').replace('.','').replace('!','').replace('#','').replace('@','').replace(';','').replace('...','').replace('/','')\n",
    "    for word in w.split():\n",
    "        tweets.append(word) ## storing all the words in the array tweet \n",
    "f.close()\n"
   ]
  },
  {
   "cell_type": "code",
   "execution_count": 100,
   "metadata": {
    "collapsed": false,
    "deletable": true,
    "editable": true
   },
   "outputs": [
    {
     "data": {
      "text/plain": [
       "27540"
      ]
     },
     "execution_count": 100,
     "metadata": {},
     "output_type": "execute_result"
    }
   ],
   "source": [
    "len(tweets)"
   ]
  },
  {
   "cell_type": "code",
   "execution_count": 101,
   "metadata": {
    "collapsed": true,
    "deletable": true,
    "editable": true
   },
   "outputs": [],
   "source": [
    "negative = []  ## negative words array \n",
    "f = open('negative.txt', 'r') ## File conatining negative words \n",
    "for w in f:\n",
    "    w = w.strip().lower()\n",
    "    negative.append(w) ## storing all the words in the array negative\n",
    "f.close()"
   ]
  },
  {
   "cell_type": "code",
   "execution_count": 102,
   "metadata": {
    "collapsed": true,
    "deletable": true,
    "editable": true
   },
   "outputs": [],
   "source": [
    "positive = [] ## positive words array \n",
    "f = open('positive.txt', 'r') ## File conatining positive words \n",
    "for w in f:\n",
    "    w = w.strip().lower()\n",
    "    positive.append(w)   ## storing all the words in the array positive\n",
    "f.close()"
   ]
  },
  {
   "cell_type": "code",
   "execution_count": 103,
   "metadata": {
    "collapsed": true,
    "deletable": true,
    "editable": true
   },
   "outputs": [],
   "source": [
    "stopwords = []  ## stopwords words array \n",
    "f = open('stopwords.txt', 'r')  ## File conatining stop words \n",
    "for w in f:\n",
    "    w = w.strip().lower()\n",
    "    stopwords.append(w)  ## storing all the words in the array stopwords\n",
    "f.close()"
   ]
  },
  {
   "cell_type": "code",
   "execution_count": 104,
   "metadata": {
    "collapsed": false,
    "deletable": true,
    "editable": true
   },
   "outputs": [],
   "source": [
    "pos = 0 ## to count positive words in tweets \n",
    "neg = 0 ## to count negative words in tweets \n",
    "for w in tweets:\n",
    "    if w in stopwords:\n",
    "        continue   ## Don't count the stopwords \n",
    "    if w in negative:\n",
    "        neg = neg - 1\n",
    "    elif w in positive:\n",
    "        pos = pos + 1\n",
    "        "
   ]
  },
  {
   "cell_type": "code",
   "execution_count": 117,
   "metadata": {
    "collapsed": false
   },
   "outputs": [
    {
     "data": {
      "text/plain": [
       "27540"
      ]
     },
     "execution_count": 117,
     "metadata": {},
     "output_type": "execute_result"
    }
   ],
   "source": [
    "len(tweets)"
   ]
  },
  {
   "cell_type": "code",
   "execution_count": 119,
   "metadata": {
    "collapsed": false
   },
   "outputs": [
    {
     "name": "stdout",
     "output_type": "stream",
     "text": [
      "164\n"
     ]
    }
   ],
   "source": [
    "sum=pos+neg\n",
    "print sum "
   ]
  },
  {
   "cell_type": "code",
   "execution_count": 116,
   "metadata": {
    "collapsed": false
   },
   "outputs": [
    {
     "name": "stdout",
     "output_type": "stream",
     "text": [
      "Total Number of postive tweets: 1126\n",
      "Total Number of negative tweets: -962\n"
     ]
    }
   ],
   "source": [
    "print 'Total Number of postive tweets:', pos\n",
    "print 'Total Number of negative tweets:', neg"
   ]
  },
  {
   "cell_type": "code",
   "execution_count": 106,
   "metadata": {
    "collapsed": false
   },
   "outputs": [
    {
     "name": "stdout",
     "output_type": "stream",
     "text": [
      "The overall sentiment of the trending topic is Positive\n"
     ]
    }
   ],
   "source": [
    "if pos > abs(neg):\n",
    "    print(\"The overall sentiment of the trending topic is Positive\")\n",
    "elif abs(neg) > pos :\n",
    "    print(\"The overall sentiment of the trending topic is Negative\")   \n",
    "    \n",
    "elif abs(neg) == pos:\n",
    "    print(\"The overall sentiment of the trending topic is neither Postive nor Negative\")   \n",
    "    \n",
    "    "
   ]
  },
  {
   "cell_type": "code",
   "execution_count": null,
   "metadata": {
    "collapsed": true,
    "deletable": true,
    "editable": true
   },
   "outputs": [],
   "source": [
    " Hence the general sentiment of the tweets is positive"
   ]
  }
 ],
 "metadata": {
  "kernelspec": {
   "display_name": "Python 2",
   "language": "python",
   "name": "python2"
  },
  "language_info": {
   "codemirror_mode": {
    "name": "ipython",
    "version": 2
   },
   "file_extension": ".py",
   "mimetype": "text/x-python",
   "name": "python",
   "nbconvert_exporter": "python",
   "pygments_lexer": "ipython2",
   "version": "2.7.11"
  }
 },
 "nbformat": 4,
 "nbformat_minor": 0
}
