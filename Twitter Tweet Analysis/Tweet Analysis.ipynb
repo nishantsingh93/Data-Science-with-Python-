{
 "cells": [
  {
   "cell_type": "markdown",
   "metadata": {
    "deletable": true,
    "editable": true
   },
   "source": [
    "# Twitter Tweet Analysis "
   ]
  },
  {
   "cell_type": "code",
   "execution_count": 61,
   "metadata": {
    "collapsed": true
   },
   "outputs": [],
   "source": [
    "# print all the outputs in a cell\n",
    "from IPython.core.interactiveshell import InteractiveShell\n",
    "InteractiveShell.ast_node_interactivity = \"all\""
   ]
  },
  {
   "cell_type": "code",
   "execution_count": 62,
   "metadata": {
    "collapsed": false
   },
   "outputs": [],
   "source": [
    "tweets = []\n",
    "f = open('Nadal.txt', 'r') ## Orginal text file where the tweets are collected \n",
    "for w in f:\n",
    "    w = w.strip().lower()\n",
    "    w = w.replace(',.!','') ## replacing special charachters with space \n",
    "    for word in w.split():\n",
    "        tweets.append(word) ## storing all the words in the array tweet \n",
    "f.close()"
   ]
  },
  {
   "cell_type": "code",
   "execution_count": 63,
   "metadata": {
    "collapsed": false
   },
   "outputs": [
    {
     "data": {
      "text/plain": [
       "1931"
      ]
     },
     "execution_count": 63,
     "metadata": {},
     "output_type": "execute_result"
    }
   ],
   "source": [
    "len(tweets)"
   ]
  },
  {
   "cell_type": "code",
   "execution_count": 64,
   "metadata": {
    "collapsed": true
   },
   "outputs": [],
   "source": [
    "negative = []  ## negative words array \n",
    "f = open('negative.txt', 'r') ## File conatining negative words \n",
    "for w in f:\n",
    "    w = w.strip().lower()\n",
    "    negative.append(w) ## storing all the words in the array negative\n",
    "f.close()"
   ]
  },
  {
   "cell_type": "code",
   "execution_count": 65,
   "metadata": {
    "collapsed": true
   },
   "outputs": [],
   "source": [
    "positive = [] ## positive words array \n",
    "f = open('positive.txt', 'r') ## File conatining positive words \n",
    "for w in f:\n",
    "    w = w.strip().lower()\n",
    "    positive.append(w)   ## storing all the words in the array positive\n",
    "f.close()"
   ]
  },
  {
   "cell_type": "code",
   "execution_count": 66,
   "metadata": {
    "collapsed": true
   },
   "outputs": [],
   "source": [
    "stopwords = []  ## stopwords words array \n",
    "f = open('stopwords.txt', 'r')  ## File conatining stop words \n",
    "for w in f:\n",
    "    w = w.strip().lower()\n",
    "    stopwords.append(w)  ## storing all the words in the array stopwords\n",
    "f.close()"
   ]
  },
  {
   "cell_type": "code",
   "execution_count": 67,
   "metadata": {
    "collapsed": false
   },
   "outputs": [],
   "source": [
    "pos = 0 ## to count positive words in tweets \n",
    "neg = 0 ## to count negative words in tweets \n",
    "for w in tweets:\n",
    "    if w in stopwords:\n",
    "        continue   ## Don't count the stopwords \n",
    "    if w in negative:\n",
    "        neg = neg + 1\n",
    "    elif w in positive:\n",
    "        pos = pos + 1\n",
    "        "
   ]
  },
  {
   "cell_type": "code",
   "execution_count": 68,
   "metadata": {
    "collapsed": false
   },
   "outputs": [
    {
     "data": {
      "text/plain": [
       "1931"
      ]
     },
     "execution_count": 68,
     "metadata": {},
     "output_type": "execute_result"
    }
   ],
   "source": [
    "len(tweets)"
   ]
  },
  {
   "cell_type": "code",
   "execution_count": 69,
   "metadata": {
    "collapsed": false
   },
   "outputs": [
    {
     "data": {
      "text/plain": [
       "77"
      ]
     },
     "execution_count": 69,
     "metadata": {},
     "output_type": "execute_result"
    },
    {
     "data": {
      "text/plain": [
       "16"
      ]
     },
     "execution_count": 69,
     "metadata": {},
     "output_type": "execute_result"
    }
   ],
   "source": [
    "pos\n",
    "neg"
   ]
  },
  {
   "cell_type": "code",
   "execution_count": null,
   "metadata": {
    "collapsed": true
   },
   "outputs": [],
   "source": [
    " Hence the general sentiment of the tweets is "
   ]
  },
  {
   "cell_type": "code",
   "execution_count": null,
   "metadata": {
    "collapsed": true
   },
   "outputs": [],
   "source": []
  }
 ],
 "metadata": {
  "kernelspec": {
   "display_name": "Python 2",
   "language": "python",
   "name": "python2"
  },
  "language_info": {
   "codemirror_mode": {
    "name": "ipython",
    "version": 2
   },
   "file_extension": ".py",
   "mimetype": "text/x-python",
   "name": "python",
   "nbconvert_exporter": "python",
   "pygments_lexer": "ipython2",
   "version": "2.7.11"
  }
 },
 "nbformat": 4,
 "nbformat_minor": 0
}
