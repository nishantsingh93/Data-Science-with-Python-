{
 "cells": [
  {
   "cell_type": "markdown",
   "metadata": {},
   "source": [
    "# DATA SCIENCE ANALYSIS WITH PYTHON\n",
    "# Midterm take-home"
   ]
  },
  {
   "cell_type": "markdown",
   "metadata": {},
   "source": [
    "### Due 2/19/2018 11:59 pm"
   ]
  },
  {
   "cell_type": "markdown",
   "metadata": {},
   "source": [
    "<p>Instructions\n",
    "<ol>\n",
    "<li>Download the files <i>medical_payment.csv</i> and <i>geo-data.csv</i> into the same folder\n",
    "<li>Read the file <i>Medical_Payment-pdf.pdf</i>\n",
    "<li>Run the code below and then answer the questions\n",
    "</ol></p>"
   ]
  },
  {
   "cell_type": "markdown",
   "metadata": {},
   "source": [
    "<b>Penalties:</b> You will incur penalties if:\n",
    "<ul>\n",
    "<li>Your answer is different from the correct one</li>\n",
    "<li>Your code is unnecessarily slow</li>\n",
    "<li>Your code is longer than specified</li>\n",
    "<li>You will be penalized if, in an attempt to limit the lines of code, you make your code too hard to read or too slow -- for example, by copy-pasting pieces of code in the same line instead of declaring a variable in one line and using the variable in another.\n",
    "</ul>"
   ]
  },
  {
   "cell_type": "markdown",
   "metadata": {},
   "source": [
    "<b>Data Set:</b>https://drive.google.com/file/d/1HFIHsuQd7H5TuFLxubzb89_4t4pF5cO2/view?usp=sharing"
   ]
  },
  {
   "cell_type": "code",
   "execution_count": 209,
   "metadata": {
    "collapsed": true
   },
   "outputs": [],
   "source": [
    "import pandas as pd\n",
    "import numpy as np \n",
    "from IPython.core.interactiveshell import InteractiveShell\n",
    "InteractiveShell.ast_node_interactivity = \"all\"\n",
    "import warnings\n",
    "warnings.filterwarnings('ignore')"
   ]
  },
  {
   "cell_type": "code",
   "execution_count": 210,
   "metadata": {
    "collapsed": true
   },
   "outputs": [],
   "source": [
    "df = pd.read_csv(\"medical_payment.csv\",dtype=str).\\\n",
    "        rename(columns=lambda x: x.strip())"
   ]
  },
  {
   "cell_type": "markdown",
   "metadata": {},
   "source": [
    "## Data Description"
   ]
  },
  {
   "cell_type": "markdown",
   "metadata": {},
   "source": [
    "With this data set, people can see the price difference for a hundred common illnesses and procedures. Hospitals can set their own prices and differ substantially in some cases.\n",
    " \n",
    "Before you move on, read the <b>Medical_Payment-pdf.pdf</b> to understand the dataset."
   ]
  },
  {
   "cell_type": "code",
   "execution_count": 211,
   "metadata": {
    "scrolled": true
   },
   "outputs": [
    {
     "data": {
      "text/plain": [
       "(163065, 10)"
      ]
     },
     "execution_count": 211,
     "metadata": {},
     "output_type": "execute_result"
    }
   ],
   "source": [
    "df.shape"
   ]
  },
  {
   "cell_type": "markdown",
   "metadata": {},
   "source": [
    "The columns are as follows:"
   ]
  },
  {
   "cell_type": "code",
   "execution_count": 212,
   "metadata": {},
   "outputs": [
    {
     "data": {
      "text/plain": [
       "Index(['DRG Definition', 'Provider Id', 'Provider Name',\n",
       "       'Provider Street Address', 'Provider Zip Code',\n",
       "       'Hospital Referral Region Description', 'Total Discharges',\n",
       "       'Average Covered Charges', 'Average Total Payments',\n",
       "       'Average Medicare Payments'],\n",
       "      dtype='object')"
      ]
     },
     "execution_count": 212,
     "metadata": {},
     "output_type": "execute_result"
    }
   ],
   "source": [
    "df.columns"
   ]
  },
  {
   "cell_type": "markdown",
   "metadata": {},
   "source": [
    "A sample of the dataset:"
   ]
  },
  {
   "cell_type": "code",
   "execution_count": 213,
   "metadata": {
    "scrolled": false
   },
   "outputs": [
    {
     "data": {
      "text/html": [
       "<div>\n",
       "<style>\n",
       "    .dataframe thead tr:only-child th {\n",
       "        text-align: right;\n",
       "    }\n",
       "\n",
       "    .dataframe thead th {\n",
       "        text-align: left;\n",
       "    }\n",
       "\n",
       "    .dataframe tbody tr th {\n",
       "        vertical-align: top;\n",
       "    }\n",
       "</style>\n",
       "<table border=\"1\" class=\"dataframe\">\n",
       "  <thead>\n",
       "    <tr style=\"text-align: right;\">\n",
       "      <th></th>\n",
       "      <th>DRG Definition</th>\n",
       "      <th>Provider Id</th>\n",
       "      <th>Provider Name</th>\n",
       "      <th>Provider Street Address</th>\n",
       "      <th>Provider Zip Code</th>\n",
       "      <th>Hospital Referral Region Description</th>\n",
       "      <th>Total Discharges</th>\n",
       "      <th>Average Covered Charges</th>\n",
       "      <th>Average Total Payments</th>\n",
       "      <th>Average Medicare Payments</th>\n",
       "    </tr>\n",
       "  </thead>\n",
       "  <tbody>\n",
       "    <tr>\n",
       "      <th>30075</th>\n",
       "      <td>193 - SIMPLE PNEUMONIA &amp; PLEURISY W MCC</td>\n",
       "      <td>210033</td>\n",
       "      <td>CARROLL HOSPITAL CENTER</td>\n",
       "      <td>200 MEMORIAL AVE</td>\n",
       "      <td>21157</td>\n",
       "      <td>MD - Baltimore</td>\n",
       "      <td>23</td>\n",
       "      <td>$16,013.95</td>\n",
       "      <td>$15,102.30</td>\n",
       "      <td>$13,555.52</td>\n",
       "    </tr>\n",
       "    <tr>\n",
       "      <th>53790</th>\n",
       "      <td>280 - ACUTE MYOCARDIAL INFARCTION, DISCHARGED ...</td>\n",
       "      <td>150026</td>\n",
       "      <td>IU HEALTH GOSHEN HOSPITAL</td>\n",
       "      <td>200 HIGH PARK AVE</td>\n",
       "      <td>46526</td>\n",
       "      <td>IN - South Bend</td>\n",
       "      <td>11</td>\n",
       "      <td>$34,427.00</td>\n",
       "      <td>$9,429.09</td>\n",
       "      <td>$8,711.63</td>\n",
       "    </tr>\n",
       "    <tr>\n",
       "      <th>35917</th>\n",
       "      <td>195 - SIMPLE PNEUMONIA &amp; PLEURISY W/O CC/MCC</td>\n",
       "      <td>260180</td>\n",
       "      <td>CHRISTIAN HOSPITAL NORTHEAST</td>\n",
       "      <td>11133 DUNN ROAD</td>\n",
       "      <td>63136</td>\n",
       "      <td>MO - St. Louis</td>\n",
       "      <td>26</td>\n",
       "      <td>$16,288.38</td>\n",
       "      <td>$4,093.92</td>\n",
       "      <td>$3,312.69</td>\n",
       "    </tr>\n",
       "    <tr>\n",
       "      <th>1627</th>\n",
       "      <td>057 - DEGENERATIVE NERVOUS SYSTEM DISORDERS W/...</td>\n",
       "      <td>230024</td>\n",
       "      <td>SINAI-GRACE HOSPITAL</td>\n",
       "      <td>6071 W OUTER DRIVE</td>\n",
       "      <td>48235</td>\n",
       "      <td>MI - Detroit</td>\n",
       "      <td>22</td>\n",
       "      <td>$14,041.63</td>\n",
       "      <td>$8,260.90</td>\n",
       "      <td>$7,392.00</td>\n",
       "    </tr>\n",
       "    <tr>\n",
       "      <th>143707</th>\n",
       "      <td>690 - KIDNEY &amp; URINARY TRACT INFECTIONS W/O MCC</td>\n",
       "      <td>360112</td>\n",
       "      <td>MERCY ST VINCENT MEDICAL CENTER</td>\n",
       "      <td>2213 CHERRY STREET</td>\n",
       "      <td>43608</td>\n",
       "      <td>OH - Toledo</td>\n",
       "      <td>80</td>\n",
       "      <td>$20,527.33</td>\n",
       "      <td>$6,425.51</td>\n",
       "      <td>$5,713.80</td>\n",
       "    </tr>\n",
       "  </tbody>\n",
       "</table>\n",
       "</div>"
      ],
      "text/plain": [
       "                                           DRG Definition Provider Id  \\\n",
       "30075             193 - SIMPLE PNEUMONIA & PLEURISY W MCC      210033   \n",
       "53790   280 - ACUTE MYOCARDIAL INFARCTION, DISCHARGED ...      150026   \n",
       "35917        195 - SIMPLE PNEUMONIA & PLEURISY W/O CC/MCC      260180   \n",
       "1627    057 - DEGENERATIVE NERVOUS SYSTEM DISORDERS W/...      230024   \n",
       "143707    690 - KIDNEY & URINARY TRACT INFECTIONS W/O MCC      360112   \n",
       "\n",
       "                          Provider Name Provider Street Address  \\\n",
       "30075           CARROLL HOSPITAL CENTER        200 MEMORIAL AVE   \n",
       "53790         IU HEALTH GOSHEN HOSPITAL       200 HIGH PARK AVE   \n",
       "35917      CHRISTIAN HOSPITAL NORTHEAST         11133 DUNN ROAD   \n",
       "1627               SINAI-GRACE HOSPITAL      6071 W OUTER DRIVE   \n",
       "143707  MERCY ST VINCENT MEDICAL CENTER      2213 CHERRY STREET   \n",
       "\n",
       "       Provider Zip Code Hospital Referral Region Description  \\\n",
       "30075              21157                       MD - Baltimore   \n",
       "53790              46526                      IN - South Bend   \n",
       "35917              63136                       MO - St. Louis   \n",
       "1627               48235                         MI - Detroit   \n",
       "143707             43608                          OH - Toledo   \n",
       "\n",
       "       Total Discharges Average Covered Charges Average Total Payments  \\\n",
       "30075                23             $16,013.95             $15,102.30    \n",
       "53790                11             $34,427.00              $9,429.09    \n",
       "35917                26             $16,288.38              $4,093.92    \n",
       "1627                 22             $14,041.63              $8,260.90    \n",
       "143707               80             $20,527.33              $6,425.51    \n",
       "\n",
       "       Average Medicare Payments  \n",
       "30075                $13,555.52   \n",
       "53790                 $8,711.63   \n",
       "35917                 $3,312.69   \n",
       "1627                  $7,392.00   \n",
       "143707                $5,713.80   "
      ]
     },
     "execution_count": 213,
     "metadata": {},
     "output_type": "execute_result"
    }
   ],
   "source": [
    "df.sample(5, random_state=1234).head()"
   ]
  },
  {
   "cell_type": "markdown",
   "metadata": {},
   "source": [
    "## Q1. Transform relevant columns"
   ]
  },
  {
   "cell_type": "markdown",
   "metadata": {},
   "source": [
    "All columns in the dataset are of type str. At least 4 of them should be numeric."
   ]
  },
  {
   "cell_type": "markdown",
   "metadata": {},
   "source": [
    "1.1 Identify them and convert the values of these columns to numeric."
   ]
  },
  {
   "cell_type": "code",
   "execution_count": 214,
   "metadata": {},
   "outputs": [
    {
     "data": {
      "text/plain": [
       "pandas.core.series.Series"
      ]
     },
     "execution_count": 214,
     "metadata": {},
     "output_type": "execute_result"
    },
    {
     "data": {
      "text/plain": [
       "pandas.core.series.Series"
      ]
     },
     "execution_count": 214,
     "metadata": {},
     "output_type": "execute_result"
    },
    {
     "data": {
      "text/plain": [
       "pandas.core.series.Series"
      ]
     },
     "execution_count": 214,
     "metadata": {},
     "output_type": "execute_result"
    }
   ],
   "source": [
    "type(df['Total Discharges'])\n",
    "type(df['Provider Id'])\n",
    "type(df['Provider Zip Code'])"
   ]
  },
  {
   "cell_type": "code",
   "execution_count": 216,
   "metadata": {
    "collapsed": true
   },
   "outputs": [],
   "source": [
    "df['Total Discharges'] = df['Total Discharges'].astype(int)\n",
    "df['Average Covered Charges'] = [float(\"\".join(x.replace('$', '').split(\",\"))) for x in df['Average Covered Charges']]\n",
    "df['Average Total Payments'] = [float(\"\".join(x.replace('$', '').split(\",\"))) for x in df['Average Total Payments']]\n",
    "df['Average Medicare Payments'] = [float(\"\".join(x.replace('$', '').split(\",\"))) for x in df['Average Medicare Payments']]"
   ]
  },
  {
   "cell_type": "code",
   "execution_count": 217,
   "metadata": {},
   "outputs": [
    {
     "data": {
      "text/plain": [
       "pandas.core.series.Series"
      ]
     },
     "execution_count": 217,
     "metadata": {},
     "output_type": "execute_result"
    }
   ],
   "source": [
    "type(df['Average Medicare Payments'])"
   ]
  },
  {
   "cell_type": "markdown",
   "metadata": {},
   "source": [
    "1.2 Explain why these values should be numeric."
   ]
  },
  {
   "cell_type": "code",
   "execution_count": 441,
   "metadata": {},
   "outputs": [
    {
     "data": {
      "text/plain": [
       "'12'"
      ]
     },
     "execution_count": 441,
     "metadata": {},
     "output_type": "execute_result"
    },
    {
     "data": {
      "text/plain": [
       "3"
      ]
     },
     "execution_count": 441,
     "metadata": {},
     "output_type": "execute_result"
    }
   ],
   "source": [
    "#Consider the following example:\n",
    "str('1')+str('2')\n",
    "int(1)+int(2)"
   ]
  },
  {
   "cell_type": "markdown",
   "metadata": {},
   "source": [
    "since the values in total discharges ,Average Covered Charges, Average Total Payments, Average Medicare Payments are <b>numeric values</b> the type <b>string</b> will make the job very difficult to do any manipulations or data calculation in order to do analysis"
   ]
  },
  {
   "cell_type": "markdown",
   "metadata": {},
   "source": [
    "## Q2. Let's take a look at heart disease"
   ]
  },
  {
   "cell_type": "markdown",
   "metadata": {},
   "source": [
    "**Be careful when you identify 'heart' disease.** There are more than one type of DRG definition related to heart diseases. Make sure you catch all of them.  (hint 1:  use .unique() to start your investigation. hint 2: there are two keywords can be used to find all 'heart' diseases."
   ]
  },
  {
   "cell_type": "markdown",
   "metadata": {
    "collapsed": true
   },
   "source": [
    "2.1, Total how many heart related disease cases across the whole country ?"
   ]
  },
  {
   "cell_type": "code",
   "execution_count": 218,
   "metadata": {
    "collapsed": true
   },
   "outputs": [],
   "source": [
    "df['heart']=(df['DRG Definition'].str.contains('HEART'))| (df['DRG Definition'].str.contains('CARDI'))\n",
    "\n"
   ]
  },
  {
   "cell_type": "code",
   "execution_count": 219,
   "metadata": {},
   "outputs": [
    {
     "data": {
      "text/plain": [
       "1189090"
      ]
     },
     "execution_count": 219,
     "metadata": {},
     "output_type": "execute_result"
    }
   ],
   "source": [
    "df.loc[df['heart'],'Total Discharges'].sum()"
   ]
  },
  {
   "cell_type": "markdown",
   "metadata": {
    "collapsed": true
   },
   "source": [
    "2.2, Create an overview from the view point of 'Hospital Referral Region Description' and 'Average Total Payments', sorted by payments in descending order. List the top 10 only."
   ]
  },
  {
   "cell_type": "code",
   "execution_count": 173,
   "metadata": {},
   "outputs": [
    {
     "data": {
      "text/html": [
       "<div>\n",
       "<style>\n",
       "    .dataframe thead tr:only-child th {\n",
       "        text-align: right;\n",
       "    }\n",
       "\n",
       "    .dataframe thead th {\n",
       "        text-align: left;\n",
       "    }\n",
       "\n",
       "    .dataframe tbody tr th {\n",
       "        vertical-align: top;\n",
       "    }\n",
       "</style>\n",
       "<table border=\"1\" class=\"dataframe\">\n",
       "  <thead>\n",
       "    <tr style=\"text-align: right;\">\n",
       "      <th></th>\n",
       "      <th>Average Total Payments</th>\n",
       "    </tr>\n",
       "    <tr>\n",
       "      <th>Hospital Referral Region Description</th>\n",
       "      <th></th>\n",
       "    </tr>\n",
       "  </thead>\n",
       "  <tbody>\n",
       "    <tr>\n",
       "      <th>WA - Seattle</th>\n",
       "      <td>84499.26</td>\n",
       "    </tr>\n",
       "    <tr>\n",
       "      <th>SD - Sioux Falls</th>\n",
       "      <td>83484.14</td>\n",
       "    </tr>\n",
       "    <tr>\n",
       "      <th>MD - Baltimore</th>\n",
       "      <td>54682.48</td>\n",
       "    </tr>\n",
       "    <tr>\n",
       "      <th>NJ - Camden</th>\n",
       "      <td>54231.54</td>\n",
       "    </tr>\n",
       "    <tr>\n",
       "      <th>TX - Houston</th>\n",
       "      <td>54004.36</td>\n",
       "    </tr>\n",
       "    <tr>\n",
       "      <th>IL - Chicago</th>\n",
       "      <td>48218.21</td>\n",
       "    </tr>\n",
       "    <tr>\n",
       "      <th>CA - Salinas</th>\n",
       "      <td>44286.90</td>\n",
       "    </tr>\n",
       "    <tr>\n",
       "      <th>IL - Hinsdale</th>\n",
       "      <td>43939.25</td>\n",
       "    </tr>\n",
       "    <tr>\n",
       "      <th>IN - Indianapolis</th>\n",
       "      <td>43834.54</td>\n",
       "    </tr>\n",
       "    <tr>\n",
       "      <th>VA - Richmond</th>\n",
       "      <td>43479.80</td>\n",
       "    </tr>\n",
       "  </tbody>\n",
       "</table>\n",
       "</div>"
      ],
      "text/plain": [
       "                                      Average Total Payments\n",
       "Hospital Referral Region Description                        \n",
       "WA - Seattle                                        84499.26\n",
       "SD - Sioux Falls                                    83484.14\n",
       "MD - Baltimore                                      54682.48\n",
       "NJ - Camden                                         54231.54\n",
       "TX - Houston                                        54004.36\n",
       "IL - Chicago                                        48218.21\n",
       "CA - Salinas                                        44286.90\n",
       "IL - Hinsdale                                       43939.25\n",
       "IN - Indianapolis                                   43834.54\n",
       "VA - Richmond                                       43479.80"
      ]
     },
     "execution_count": 173,
     "metadata": {},
     "output_type": "execute_result"
    }
   ],
   "source": [
    "df[(df['heart']== True)].groupby('Hospital Referral Region Description')['Average Total Payments'].agg(\n",
    "{'Average Total Payments':'max'}).sort_values(by='Average Total Payments',ascending=False).head(10)\n",
    "        "
   ]
  },
  {
   "cell_type": "markdown",
   "metadata": {
    "collapsed": true
   },
   "source": [
    "2.3, Find out which hospital treat heart disease in \"CA - Alameda County\" region, sorted by the total case number they handle by descending order."
   ]
  },
  {
   "cell_type": "code",
   "execution_count": 327,
   "metadata": {},
   "outputs": [
    {
     "data": {
      "text/html": [
       "<div>\n",
       "<style>\n",
       "    .dataframe thead tr:only-child th {\n",
       "        text-align: right;\n",
       "    }\n",
       "\n",
       "    .dataframe thead th {\n",
       "        text-align: left;\n",
       "    }\n",
       "\n",
       "    .dataframe tbody tr th {\n",
       "        vertical-align: top;\n",
       "    }\n",
       "</style>\n",
       "<table border=\"1\" class=\"dataframe\">\n",
       "  <thead>\n",
       "    <tr style=\"text-align: right;\">\n",
       "      <th></th>\n",
       "      <th>Total Discharges</th>\n",
       "    </tr>\n",
       "    <tr>\n",
       "      <th>Provider Name</th>\n",
       "      <th></th>\n",
       "    </tr>\n",
       "  </thead>\n",
       "  <tbody>\n",
       "    <tr>\n",
       "      <th>ALTA BATES SUMMIT MEDICAL CENTER</th>\n",
       "      <td>658</td>\n",
       "    </tr>\n",
       "    <tr>\n",
       "      <th>WASHINGTON HOSPITAL</th>\n",
       "      <td>430</td>\n",
       "    </tr>\n",
       "    <tr>\n",
       "      <th>EDEN MEDICAL CENTER</th>\n",
       "      <td>400</td>\n",
       "    </tr>\n",
       "    <tr>\n",
       "      <th>ALTA BATES SUMMIT MEDICAL CENTER - ALTA BATES CAMP</th>\n",
       "      <td>297</td>\n",
       "    </tr>\n",
       "    <tr>\n",
       "      <th>ST ROSE HOSPITAL</th>\n",
       "      <td>264</td>\n",
       "    </tr>\n",
       "    <tr>\n",
       "      <th>VALLEYCARE MEDICAL CENTER</th>\n",
       "      <td>197</td>\n",
       "    </tr>\n",
       "    <tr>\n",
       "      <th>ALAMEDA HOSPITAL</th>\n",
       "      <td>118</td>\n",
       "    </tr>\n",
       "    <tr>\n",
       "      <th>KAISER FOUNDATION HOSPITAL OAKLAND/RICHMOND</th>\n",
       "      <td>70</td>\n",
       "    </tr>\n",
       "    <tr>\n",
       "      <th>ALAMEDA COUNTY MEDICAL CENTER</th>\n",
       "      <td>62</td>\n",
       "    </tr>\n",
       "    <tr>\n",
       "      <th>SAN LEANDRO HOSPITAL</th>\n",
       "      <td>33</td>\n",
       "    </tr>\n",
       "    <tr>\n",
       "      <th>KAISER FOUNDATION HOSPITAL FREMONT/HAYWARD</th>\n",
       "      <td>27</td>\n",
       "    </tr>\n",
       "  </tbody>\n",
       "</table>\n",
       "</div>"
      ],
      "text/plain": [
       "                                                    Total Discharges\n",
       "Provider Name                                                       \n",
       "ALTA BATES SUMMIT MEDICAL CENTER                                 658\n",
       "WASHINGTON HOSPITAL                                              430\n",
       "EDEN MEDICAL CENTER                                              400\n",
       "ALTA BATES SUMMIT MEDICAL CENTER - ALTA BATES CAMP               297\n",
       "ST ROSE HOSPITAL                                                 264\n",
       "VALLEYCARE MEDICAL CENTER                                        197\n",
       "ALAMEDA HOSPITAL                                                 118\n",
       "KAISER FOUNDATION HOSPITAL OAKLAND/RICHMOND                       70\n",
       "ALAMEDA COUNTY MEDICAL CENTER                                     62\n",
       "SAN LEANDRO HOSPITAL                                              33\n",
       "KAISER FOUNDATION HOSPITAL FREMONT/HAYWARD                        27"
      ]
     },
     "execution_count": 327,
     "metadata": {},
     "output_type": "execute_result"
    }
   ],
   "source": [
    "df[(df['heart']== True) & (df['Hospital Referral Region Description']=='CA - Alameda County')].groupby('Provider Name')['Total Discharges'].agg(\n",
    "{'Total Discharges':'sum'}).sort_values(by='Total Discharges',ascending=False)\n",
    "        "
   ]
  },
  {
   "cell_type": "markdown",
   "metadata": {},
   "source": [
    "## Q3\n",
    "Merge the data set with mapping of US Zipcode, county, and state information from Census data.\n",
    "Read the file `geo-data.csv` into an object `zip_codes`(make sure that you read all columns as string). After merged, there may have some columns (state and state_abbr) have nan values, fill them in with the information you can find in the first dataframe."
   ]
  },
  {
   "cell_type": "markdown",
   "metadata": {},
   "source": [
    "3.1 Based on the merged dataframe, find out the total DRG number for each city in California's Santa Clara county."
   ]
  },
  {
   "cell_type": "code",
   "execution_count": 175,
   "metadata": {
    "collapsed": true
   },
   "outputs": [],
   "source": [
    "zip_codes = pd.read_csv(\"geo-data.csv\",dtype=str)"
   ]
  },
  {
   "cell_type": "code",
   "execution_count": 176,
   "metadata": {},
   "outputs": [
    {
     "data": {
      "text/plain": [
       "state_fips    object\n",
       "state         object\n",
       "state_abbr    object\n",
       "zipcode       object\n",
       "county        object\n",
       "city          object\n",
       "dtype: object"
      ]
     },
     "execution_count": 176,
     "metadata": {},
     "output_type": "execute_result"
    }
   ],
   "source": [
    "zip_codes.dtypes"
   ]
  },
  {
   "cell_type": "code",
   "execution_count": 196,
   "metadata": {},
   "outputs": [
    {
     "data": {
      "text/html": [
       "<div>\n",
       "<style>\n",
       "    .dataframe thead tr:only-child th {\n",
       "        text-align: right;\n",
       "    }\n",
       "\n",
       "    .dataframe thead th {\n",
       "        text-align: left;\n",
       "    }\n",
       "\n",
       "    .dataframe tbody tr th {\n",
       "        vertical-align: top;\n",
       "    }\n",
       "</style>\n",
       "<table border=\"1\" class=\"dataframe\">\n",
       "  <thead>\n",
       "    <tr style=\"text-align: right;\">\n",
       "      <th></th>\n",
       "      <th>state_fips</th>\n",
       "      <th>state</th>\n",
       "      <th>state_abbr</th>\n",
       "      <th>Provider Zip Code</th>\n",
       "      <th>county</th>\n",
       "      <th>city</th>\n",
       "    </tr>\n",
       "  </thead>\n",
       "  <tbody>\n",
       "    <tr>\n",
       "      <th>0</th>\n",
       "      <td>1</td>\n",
       "      <td>Alabama</td>\n",
       "      <td>AL</td>\n",
       "      <td>35004</td>\n",
       "      <td>St. Clair</td>\n",
       "      <td>Acmar</td>\n",
       "    </tr>\n",
       "    <tr>\n",
       "      <th>1</th>\n",
       "      <td>1</td>\n",
       "      <td>Alabama</td>\n",
       "      <td>AL</td>\n",
       "      <td>35005</td>\n",
       "      <td>Jefferson</td>\n",
       "      <td>Adamsville</td>\n",
       "    </tr>\n",
       "    <tr>\n",
       "      <th>2</th>\n",
       "      <td>1</td>\n",
       "      <td>Alabama</td>\n",
       "      <td>AL</td>\n",
       "      <td>35006</td>\n",
       "      <td>Jefferson</td>\n",
       "      <td>Adger</td>\n",
       "    </tr>\n",
       "    <tr>\n",
       "      <th>3</th>\n",
       "      <td>1</td>\n",
       "      <td>Alabama</td>\n",
       "      <td>AL</td>\n",
       "      <td>35007</td>\n",
       "      <td>Shelby</td>\n",
       "      <td>Keystone</td>\n",
       "    </tr>\n",
       "    <tr>\n",
       "      <th>4</th>\n",
       "      <td>1</td>\n",
       "      <td>Alabama</td>\n",
       "      <td>AL</td>\n",
       "      <td>35010</td>\n",
       "      <td>Tallapoosa</td>\n",
       "      <td>New site</td>\n",
       "    </tr>\n",
       "  </tbody>\n",
       "</table>\n",
       "</div>"
      ],
      "text/plain": [
       "  state_fips    state state_abbr Provider Zip Code      county        city\n",
       "0          1  Alabama         AL             35004   St. Clair       Acmar\n",
       "1          1  Alabama         AL             35005   Jefferson  Adamsville\n",
       "2          1  Alabama         AL             35006   Jefferson       Adger\n",
       "3          1  Alabama         AL             35007      Shelby    Keystone\n",
       "4          1  Alabama         AL             35010  Tallapoosa    New site"
      ]
     },
     "execution_count": 196,
     "metadata": {},
     "output_type": "execute_result"
    }
   ],
   "source": [
    "zip_codes.head(5)\n"
   ]
  },
  {
   "cell_type": "code",
   "execution_count": 178,
   "metadata": {},
   "outputs": [
    {
     "data": {
      "text/html": [
       "<div>\n",
       "<style>\n",
       "    .dataframe thead tr:only-child th {\n",
       "        text-align: right;\n",
       "    }\n",
       "\n",
       "    .dataframe thead th {\n",
       "        text-align: left;\n",
       "    }\n",
       "\n",
       "    .dataframe tbody tr th {\n",
       "        vertical-align: top;\n",
       "    }\n",
       "</style>\n",
       "<table border=\"1\" class=\"dataframe\">\n",
       "  <thead>\n",
       "    <tr style=\"text-align: right;\">\n",
       "      <th></th>\n",
       "      <th>DRG Definition</th>\n",
       "      <th>Provider Id</th>\n",
       "      <th>Provider Name</th>\n",
       "      <th>Provider Street Address</th>\n",
       "      <th>Provider Zip Code</th>\n",
       "      <th>Hospital Referral Region Description</th>\n",
       "      <th>Total Discharges</th>\n",
       "      <th>Average Covered Charges</th>\n",
       "      <th>Average Total Payments</th>\n",
       "      <th>Average Medicare Payments</th>\n",
       "      <th>heart</th>\n",
       "    </tr>\n",
       "  </thead>\n",
       "  <tbody>\n",
       "    <tr>\n",
       "      <th>0</th>\n",
       "      <td>039 - EXTRACRANIAL PROCEDURES W/O CC/MCC</td>\n",
       "      <td>10001</td>\n",
       "      <td>SOUTHEAST ALABAMA MEDICAL CENTER</td>\n",
       "      <td>1108 ROSS CLARK CIRCLE</td>\n",
       "      <td>36301</td>\n",
       "      <td>AL - Dothan</td>\n",
       "      <td>91</td>\n",
       "      <td>32963.07</td>\n",
       "      <td>5777.24</td>\n",
       "      <td>4763.73</td>\n",
       "      <td>False</td>\n",
       "    </tr>\n",
       "    <tr>\n",
       "      <th>1</th>\n",
       "      <td>039 - EXTRACRANIAL PROCEDURES W/O CC/MCC</td>\n",
       "      <td>10005</td>\n",
       "      <td>MARSHALL MEDICAL CENTER SOUTH</td>\n",
       "      <td>2505 U S HIGHWAY 431 NORTH</td>\n",
       "      <td>35957</td>\n",
       "      <td>AL - Birmingham</td>\n",
       "      <td>14</td>\n",
       "      <td>15131.85</td>\n",
       "      <td>5787.57</td>\n",
       "      <td>4976.71</td>\n",
       "      <td>False</td>\n",
       "    </tr>\n",
       "    <tr>\n",
       "      <th>2</th>\n",
       "      <td>039 - EXTRACRANIAL PROCEDURES W/O CC/MCC</td>\n",
       "      <td>10006</td>\n",
       "      <td>ELIZA COFFEE MEMORIAL HOSPITAL</td>\n",
       "      <td>205 MARENGO STREET</td>\n",
       "      <td>35631</td>\n",
       "      <td>AL - Birmingham</td>\n",
       "      <td>24</td>\n",
       "      <td>37560.37</td>\n",
       "      <td>5434.95</td>\n",
       "      <td>4453.79</td>\n",
       "      <td>False</td>\n",
       "    </tr>\n",
       "  </tbody>\n",
       "</table>\n",
       "</div>"
      ],
      "text/plain": [
       "                             DRG Definition Provider Id  \\\n",
       "0  039 - EXTRACRANIAL PROCEDURES W/O CC/MCC       10001   \n",
       "1  039 - EXTRACRANIAL PROCEDURES W/O CC/MCC       10005   \n",
       "2  039 - EXTRACRANIAL PROCEDURES W/O CC/MCC       10006   \n",
       "\n",
       "                      Provider Name     Provider Street Address  \\\n",
       "0  SOUTHEAST ALABAMA MEDICAL CENTER      1108 ROSS CLARK CIRCLE   \n",
       "1     MARSHALL MEDICAL CENTER SOUTH  2505 U S HIGHWAY 431 NORTH   \n",
       "2    ELIZA COFFEE MEMORIAL HOSPITAL          205 MARENGO STREET   \n",
       "\n",
       "  Provider Zip Code Hospital Referral Region Description  Total Discharges  \\\n",
       "0             36301                          AL - Dothan                91   \n",
       "1             35957                      AL - Birmingham                14   \n",
       "2             35631                      AL - Birmingham                24   \n",
       "\n",
       "   Average Covered Charges  Average Total Payments  Average Medicare Payments  \\\n",
       "0                 32963.07                 5777.24                    4763.73   \n",
       "1                 15131.85                 5787.57                    4976.71   \n",
       "2                 37560.37                 5434.95                    4453.79   \n",
       "\n",
       "   heart  \n",
       "0  False  \n",
       "1  False  \n",
       "2  False  "
      ]
     },
     "execution_count": 178,
     "metadata": {},
     "output_type": "execute_result"
    }
   ],
   "source": [
    "df.head(3)\n"
   ]
  },
  {
   "cell_type": "code",
   "execution_count": 179,
   "metadata": {
    "collapsed": true
   },
   "outputs": [],
   "source": [
    "zip_codes = zip_codes.rename(columns={'zipcode': 'Provider Zip Code' })"
   ]
  },
  {
   "cell_type": "code",
   "execution_count": 181,
   "metadata": {},
   "outputs": [
    {
     "data": {
      "text/html": [
       "<div>\n",
       "<style>\n",
       "    .dataframe thead tr:only-child th {\n",
       "        text-align: right;\n",
       "    }\n",
       "\n",
       "    .dataframe thead th {\n",
       "        text-align: left;\n",
       "    }\n",
       "\n",
       "    .dataframe tbody tr th {\n",
       "        vertical-align: top;\n",
       "    }\n",
       "</style>\n",
       "<table border=\"1\" class=\"dataframe\">\n",
       "  <thead>\n",
       "    <tr style=\"text-align: right;\">\n",
       "      <th></th>\n",
       "      <th>state_fips</th>\n",
       "      <th>state</th>\n",
       "      <th>state_abbr</th>\n",
       "      <th>Provider Zip Code</th>\n",
       "      <th>county</th>\n",
       "      <th>city</th>\n",
       "    </tr>\n",
       "  </thead>\n",
       "  <tbody>\n",
       "    <tr>\n",
       "      <th>0</th>\n",
       "      <td>1</td>\n",
       "      <td>Alabama</td>\n",
       "      <td>AL</td>\n",
       "      <td>35004</td>\n",
       "      <td>St. Clair</td>\n",
       "      <td>Acmar</td>\n",
       "    </tr>\n",
       "    <tr>\n",
       "      <th>1</th>\n",
       "      <td>1</td>\n",
       "      <td>Alabama</td>\n",
       "      <td>AL</td>\n",
       "      <td>35005</td>\n",
       "      <td>Jefferson</td>\n",
       "      <td>Adamsville</td>\n",
       "    </tr>\n",
       "    <tr>\n",
       "      <th>2</th>\n",
       "      <td>1</td>\n",
       "      <td>Alabama</td>\n",
       "      <td>AL</td>\n",
       "      <td>35006</td>\n",
       "      <td>Jefferson</td>\n",
       "      <td>Adger</td>\n",
       "    </tr>\n",
       "    <tr>\n",
       "      <th>3</th>\n",
       "      <td>1</td>\n",
       "      <td>Alabama</td>\n",
       "      <td>AL</td>\n",
       "      <td>35007</td>\n",
       "      <td>Shelby</td>\n",
       "      <td>Keystone</td>\n",
       "    </tr>\n",
       "    <tr>\n",
       "      <th>4</th>\n",
       "      <td>1</td>\n",
       "      <td>Alabama</td>\n",
       "      <td>AL</td>\n",
       "      <td>35010</td>\n",
       "      <td>Tallapoosa</td>\n",
       "      <td>New site</td>\n",
       "    </tr>\n",
       "  </tbody>\n",
       "</table>\n",
       "</div>"
      ],
      "text/plain": [
       "  state_fips    state state_abbr Provider Zip Code      county        city\n",
       "0          1  Alabama         AL             35004   St. Clair       Acmar\n",
       "1          1  Alabama         AL             35005   Jefferson  Adamsville\n",
       "2          1  Alabama         AL             35006   Jefferson       Adger\n",
       "3          1  Alabama         AL             35007      Shelby    Keystone\n",
       "4          1  Alabama         AL             35010  Tallapoosa    New site"
      ]
     },
     "execution_count": 181,
     "metadata": {},
     "output_type": "execute_result"
    },
    {
     "data": {
      "text/html": [
       "<div>\n",
       "<style>\n",
       "    .dataframe thead tr:only-child th {\n",
       "        text-align: right;\n",
       "    }\n",
       "\n",
       "    .dataframe thead th {\n",
       "        text-align: left;\n",
       "    }\n",
       "\n",
       "    .dataframe tbody tr th {\n",
       "        vertical-align: top;\n",
       "    }\n",
       "</style>\n",
       "<table border=\"1\" class=\"dataframe\">\n",
       "  <thead>\n",
       "    <tr style=\"text-align: right;\">\n",
       "      <th></th>\n",
       "      <th>DRG Definition</th>\n",
       "      <th>Provider Id</th>\n",
       "      <th>Provider Name</th>\n",
       "      <th>Provider Street Address</th>\n",
       "      <th>Provider Zip Code</th>\n",
       "      <th>Hospital Referral Region Description</th>\n",
       "      <th>Total Discharges</th>\n",
       "      <th>Average Covered Charges</th>\n",
       "      <th>Average Total Payments</th>\n",
       "      <th>Average Medicare Payments</th>\n",
       "      <th>heart</th>\n",
       "    </tr>\n",
       "  </thead>\n",
       "  <tbody>\n",
       "    <tr>\n",
       "      <th>0</th>\n",
       "      <td>039 - EXTRACRANIAL PROCEDURES W/O CC/MCC</td>\n",
       "      <td>10001</td>\n",
       "      <td>SOUTHEAST ALABAMA MEDICAL CENTER</td>\n",
       "      <td>1108 ROSS CLARK CIRCLE</td>\n",
       "      <td>36301</td>\n",
       "      <td>AL - Dothan</td>\n",
       "      <td>91</td>\n",
       "      <td>32963.07</td>\n",
       "      <td>5777.24</td>\n",
       "      <td>4763.73</td>\n",
       "      <td>False</td>\n",
       "    </tr>\n",
       "    <tr>\n",
       "      <th>1</th>\n",
       "      <td>039 - EXTRACRANIAL PROCEDURES W/O CC/MCC</td>\n",
       "      <td>10005</td>\n",
       "      <td>MARSHALL MEDICAL CENTER SOUTH</td>\n",
       "      <td>2505 U S HIGHWAY 431 NORTH</td>\n",
       "      <td>35957</td>\n",
       "      <td>AL - Birmingham</td>\n",
       "      <td>14</td>\n",
       "      <td>15131.85</td>\n",
       "      <td>5787.57</td>\n",
       "      <td>4976.71</td>\n",
       "      <td>False</td>\n",
       "    </tr>\n",
       "    <tr>\n",
       "      <th>2</th>\n",
       "      <td>039 - EXTRACRANIAL PROCEDURES W/O CC/MCC</td>\n",
       "      <td>10006</td>\n",
       "      <td>ELIZA COFFEE MEMORIAL HOSPITAL</td>\n",
       "      <td>205 MARENGO STREET</td>\n",
       "      <td>35631</td>\n",
       "      <td>AL - Birmingham</td>\n",
       "      <td>24</td>\n",
       "      <td>37560.37</td>\n",
       "      <td>5434.95</td>\n",
       "      <td>4453.79</td>\n",
       "      <td>False</td>\n",
       "    </tr>\n",
       "    <tr>\n",
       "      <th>3</th>\n",
       "      <td>039 - EXTRACRANIAL PROCEDURES W/O CC/MCC</td>\n",
       "      <td>10011</td>\n",
       "      <td>ST VINCENT'S EAST</td>\n",
       "      <td>50 MEDICAL PARK EAST DRIVE</td>\n",
       "      <td>35235</td>\n",
       "      <td>AL - Birmingham</td>\n",
       "      <td>25</td>\n",
       "      <td>13998.28</td>\n",
       "      <td>5417.56</td>\n",
       "      <td>4129.16</td>\n",
       "      <td>False</td>\n",
       "    </tr>\n",
       "    <tr>\n",
       "      <th>4</th>\n",
       "      <td>039 - EXTRACRANIAL PROCEDURES W/O CC/MCC</td>\n",
       "      <td>10016</td>\n",
       "      <td>SHELBY BAPTIST MEDICAL CENTER</td>\n",
       "      <td>1000 FIRST STREET NORTH</td>\n",
       "      <td>35007</td>\n",
       "      <td>AL - Birmingham</td>\n",
       "      <td>18</td>\n",
       "      <td>31633.27</td>\n",
       "      <td>5658.33</td>\n",
       "      <td>4851.44</td>\n",
       "      <td>False</td>\n",
       "    </tr>\n",
       "  </tbody>\n",
       "</table>\n",
       "</div>"
      ],
      "text/plain": [
       "                             DRG Definition Provider Id  \\\n",
       "0  039 - EXTRACRANIAL PROCEDURES W/O CC/MCC       10001   \n",
       "1  039 - EXTRACRANIAL PROCEDURES W/O CC/MCC       10005   \n",
       "2  039 - EXTRACRANIAL PROCEDURES W/O CC/MCC       10006   \n",
       "3  039 - EXTRACRANIAL PROCEDURES W/O CC/MCC       10011   \n",
       "4  039 - EXTRACRANIAL PROCEDURES W/O CC/MCC       10016   \n",
       "\n",
       "                      Provider Name     Provider Street Address  \\\n",
       "0  SOUTHEAST ALABAMA MEDICAL CENTER      1108 ROSS CLARK CIRCLE   \n",
       "1     MARSHALL MEDICAL CENTER SOUTH  2505 U S HIGHWAY 431 NORTH   \n",
       "2    ELIZA COFFEE MEMORIAL HOSPITAL          205 MARENGO STREET   \n",
       "3                 ST VINCENT'S EAST  50 MEDICAL PARK EAST DRIVE   \n",
       "4     SHELBY BAPTIST MEDICAL CENTER     1000 FIRST STREET NORTH   \n",
       "\n",
       "  Provider Zip Code Hospital Referral Region Description  Total Discharges  \\\n",
       "0             36301                          AL - Dothan                91   \n",
       "1             35957                      AL - Birmingham                14   \n",
       "2             35631                      AL - Birmingham                24   \n",
       "3             35235                      AL - Birmingham                25   \n",
       "4             35007                      AL - Birmingham                18   \n",
       "\n",
       "   Average Covered Charges  Average Total Payments  Average Medicare Payments  \\\n",
       "0                 32963.07                 5777.24                    4763.73   \n",
       "1                 15131.85                 5787.57                    4976.71   \n",
       "2                 37560.37                 5434.95                    4453.79   \n",
       "3                 13998.28                 5417.56                    4129.16   \n",
       "4                 31633.27                 5658.33                    4851.44   \n",
       "\n",
       "   heart  \n",
       "0  False  \n",
       "1  False  \n",
       "2  False  \n",
       "3  False  \n",
       "4  False  "
      ]
     },
     "execution_count": 181,
     "metadata": {},
     "output_type": "execute_result"
    }
   ],
   "source": [
    "zip_codes.head()\n",
    "df.head(5)\n"
   ]
  },
  {
   "cell_type": "code",
   "execution_count": 182,
   "metadata": {
    "collapsed": true
   },
   "outputs": [],
   "source": [
    "df2 = df.merge(zip_codes,how='left')\n",
    "\n"
   ]
  },
  {
   "cell_type": "code",
   "execution_count": 184,
   "metadata": {
    "scrolled": true
   },
   "outputs": [
    {
     "data": {
      "text/plain": [
       "DRG Definition                              0\n",
       "Provider Id                                 0\n",
       "Provider Name                               0\n",
       "Provider Street Address                     0\n",
       "Provider Zip Code                           0\n",
       "Hospital Referral Region Description        0\n",
       "Total Discharges                            0\n",
       "Average Covered Charges                     0\n",
       "Average Total Payments                      0\n",
       "Average Medicare Payments                   0\n",
       "heart                                       0\n",
       "state_fips                              14262\n",
       "state                                   14262\n",
       "state_abbr                              14262\n",
       "county                                  14262\n",
       "city                                    14363\n",
       "dtype: int64"
      ]
     },
     "execution_count": 184,
     "metadata": {},
     "output_type": "execute_result"
    }
   ],
   "source": [
    "df2.isnull().sum()\n"
   ]
  },
  {
   "cell_type": "code",
   "execution_count": 186,
   "metadata": {
    "collapsed": true
   },
   "outputs": [],
   "source": [
    "df2.loc[df2['state_abbr'].isnull(),'state_abbr']=df2['Hospital Referral Region Description'].str.slice(0,2)"
   ]
  },
  {
   "cell_type": "code",
   "execution_count": 188,
   "metadata": {
    "collapsed": true
   },
   "outputs": [],
   "source": [
    "df2['state']=df2.groupby('state_abbr')['state'].fillna(method='ffill')\n",
    "df2['state']=df2.groupby('state_abbr')['state'].fillna(method='bfill')"
   ]
  },
  {
   "cell_type": "code",
   "execution_count": 191,
   "metadata": {},
   "outputs": [
    {
     "data": {
      "text/html": [
       "<div>\n",
       "<style>\n",
       "    .dataframe thead tr:only-child th {\n",
       "        text-align: right;\n",
       "    }\n",
       "\n",
       "    .dataframe thead th {\n",
       "        text-align: left;\n",
       "    }\n",
       "\n",
       "    .dataframe tbody tr th {\n",
       "        vertical-align: top;\n",
       "    }\n",
       "</style>\n",
       "<table border=\"1\" class=\"dataframe\">\n",
       "  <thead>\n",
       "    <tr style=\"text-align: right;\">\n",
       "      <th></th>\n",
       "      <th>DRG Definition</th>\n",
       "      <th>Provider Id</th>\n",
       "      <th>Provider Name</th>\n",
       "      <th>Provider Street Address</th>\n",
       "      <th>Provider Zip Code</th>\n",
       "      <th>Hospital Referral Region Description</th>\n",
       "      <th>Total Discharges</th>\n",
       "      <th>Average Covered Charges</th>\n",
       "      <th>Average Total Payments</th>\n",
       "      <th>Average Medicare Payments</th>\n",
       "      <th>heart</th>\n",
       "      <th>state_fips</th>\n",
       "      <th>state</th>\n",
       "      <th>state_abbr</th>\n",
       "      <th>county</th>\n",
       "      <th>city</th>\n",
       "    </tr>\n",
       "  </thead>\n",
       "  <tbody>\n",
       "    <tr>\n",
       "      <th>0</th>\n",
       "      <td>039 - EXTRACRANIAL PROCEDURES W/O CC/MCC</td>\n",
       "      <td>10001</td>\n",
       "      <td>SOUTHEAST ALABAMA MEDICAL CENTER</td>\n",
       "      <td>1108 ROSS CLARK CIRCLE</td>\n",
       "      <td>36301</td>\n",
       "      <td>AL - Dothan</td>\n",
       "      <td>91</td>\n",
       "      <td>32963.07</td>\n",
       "      <td>5777.24</td>\n",
       "      <td>4763.73</td>\n",
       "      <td>False</td>\n",
       "      <td>1</td>\n",
       "      <td>Alabama</td>\n",
       "      <td>AL</td>\n",
       "      <td>Houston</td>\n",
       "      <td>Taylor</td>\n",
       "    </tr>\n",
       "    <tr>\n",
       "      <th>1</th>\n",
       "      <td>039 - EXTRACRANIAL PROCEDURES W/O CC/MCC</td>\n",
       "      <td>10005</td>\n",
       "      <td>MARSHALL MEDICAL CENTER SOUTH</td>\n",
       "      <td>2505 U S HIGHWAY 431 NORTH</td>\n",
       "      <td>35957</td>\n",
       "      <td>AL - Birmingham</td>\n",
       "      <td>14</td>\n",
       "      <td>15131.85</td>\n",
       "      <td>5787.57</td>\n",
       "      <td>4976.71</td>\n",
       "      <td>False</td>\n",
       "      <td>1</td>\n",
       "      <td>Alabama</td>\n",
       "      <td>AL</td>\n",
       "      <td>Marshall</td>\n",
       "      <td>Boaz</td>\n",
       "    </tr>\n",
       "    <tr>\n",
       "      <th>2</th>\n",
       "      <td>039 - EXTRACRANIAL PROCEDURES W/O CC/MCC</td>\n",
       "      <td>10006</td>\n",
       "      <td>ELIZA COFFEE MEMORIAL HOSPITAL</td>\n",
       "      <td>205 MARENGO STREET</td>\n",
       "      <td>35631</td>\n",
       "      <td>AL - Birmingham</td>\n",
       "      <td>24</td>\n",
       "      <td>37560.37</td>\n",
       "      <td>5434.95</td>\n",
       "      <td>4453.79</td>\n",
       "      <td>False</td>\n",
       "      <td>NaN</td>\n",
       "      <td>Alabama</td>\n",
       "      <td>AL</td>\n",
       "      <td>NaN</td>\n",
       "      <td>NaN</td>\n",
       "    </tr>\n",
       "    <tr>\n",
       "      <th>3</th>\n",
       "      <td>039 - EXTRACRANIAL PROCEDURES W/O CC/MCC</td>\n",
       "      <td>10011</td>\n",
       "      <td>ST VINCENT'S EAST</td>\n",
       "      <td>50 MEDICAL PARK EAST DRIVE</td>\n",
       "      <td>35235</td>\n",
       "      <td>AL - Birmingham</td>\n",
       "      <td>25</td>\n",
       "      <td>13998.28</td>\n",
       "      <td>5417.56</td>\n",
       "      <td>4129.16</td>\n",
       "      <td>False</td>\n",
       "      <td>1</td>\n",
       "      <td>Alabama</td>\n",
       "      <td>AL</td>\n",
       "      <td>Jefferson</td>\n",
       "      <td>Center point</td>\n",
       "    </tr>\n",
       "    <tr>\n",
       "      <th>4</th>\n",
       "      <td>039 - EXTRACRANIAL PROCEDURES W/O CC/MCC</td>\n",
       "      <td>10016</td>\n",
       "      <td>SHELBY BAPTIST MEDICAL CENTER</td>\n",
       "      <td>1000 FIRST STREET NORTH</td>\n",
       "      <td>35007</td>\n",
       "      <td>AL - Birmingham</td>\n",
       "      <td>18</td>\n",
       "      <td>31633.27</td>\n",
       "      <td>5658.33</td>\n",
       "      <td>4851.44</td>\n",
       "      <td>False</td>\n",
       "      <td>1</td>\n",
       "      <td>Alabama</td>\n",
       "      <td>AL</td>\n",
       "      <td>Shelby</td>\n",
       "      <td>Keystone</td>\n",
       "    </tr>\n",
       "  </tbody>\n",
       "</table>\n",
       "</div>"
      ],
      "text/plain": [
       "                             DRG Definition Provider Id  \\\n",
       "0  039 - EXTRACRANIAL PROCEDURES W/O CC/MCC       10001   \n",
       "1  039 - EXTRACRANIAL PROCEDURES W/O CC/MCC       10005   \n",
       "2  039 - EXTRACRANIAL PROCEDURES W/O CC/MCC       10006   \n",
       "3  039 - EXTRACRANIAL PROCEDURES W/O CC/MCC       10011   \n",
       "4  039 - EXTRACRANIAL PROCEDURES W/O CC/MCC       10016   \n",
       "\n",
       "                      Provider Name     Provider Street Address  \\\n",
       "0  SOUTHEAST ALABAMA MEDICAL CENTER      1108 ROSS CLARK CIRCLE   \n",
       "1     MARSHALL MEDICAL CENTER SOUTH  2505 U S HIGHWAY 431 NORTH   \n",
       "2    ELIZA COFFEE MEMORIAL HOSPITAL          205 MARENGO STREET   \n",
       "3                 ST VINCENT'S EAST  50 MEDICAL PARK EAST DRIVE   \n",
       "4     SHELBY BAPTIST MEDICAL CENTER     1000 FIRST STREET NORTH   \n",
       "\n",
       "  Provider Zip Code Hospital Referral Region Description  Total Discharges  \\\n",
       "0             36301                          AL - Dothan                91   \n",
       "1             35957                      AL - Birmingham                14   \n",
       "2             35631                      AL - Birmingham                24   \n",
       "3             35235                      AL - Birmingham                25   \n",
       "4             35007                      AL - Birmingham                18   \n",
       "\n",
       "   Average Covered Charges  Average Total Payments  Average Medicare Payments  \\\n",
       "0                 32963.07                 5777.24                    4763.73   \n",
       "1                 15131.85                 5787.57                    4976.71   \n",
       "2                 37560.37                 5434.95                    4453.79   \n",
       "3                 13998.28                 5417.56                    4129.16   \n",
       "4                 31633.27                 5658.33                    4851.44   \n",
       "\n",
       "   heart state_fips    state state_abbr     county          city  \n",
       "0  False          1  Alabama         AL    Houston        Taylor  \n",
       "1  False          1  Alabama         AL   Marshall          Boaz  \n",
       "2  False        NaN  Alabama         AL        NaN           NaN  \n",
       "3  False          1  Alabama         AL  Jefferson  Center point  \n",
       "4  False          1  Alabama         AL     Shelby      Keystone  "
      ]
     },
     "execution_count": 191,
     "metadata": {},
     "output_type": "execute_result"
    }
   ],
   "source": [
    "df2.head(5)"
   ]
  },
  {
   "cell_type": "code",
   "execution_count": 220,
   "metadata": {},
   "outputs": [
    {
     "data": {
      "text/plain": [
       "city\n",
       "Gilroy            31\n",
       "Mountain view     81\n",
       "San jose         285\n",
       "Santa clara        8\n",
       "Stanford          87\n",
       "Name: DRG Definition, dtype: int64"
      ]
     },
     "execution_count": 220,
     "metadata": {},
     "output_type": "execute_result"
    }
   ],
   "source": [
    "df2[(df2['county']== 'Santa Clara') & (df2['state']== 'California') ].groupby('city')['DRG Definition'].size()"
   ]
  },
  {
   "cell_type": "markdown",
   "metadata": {},
   "source": [
    "## Q4\n",
    "4.1 Identify five hospitals and show the hospital name, city and state information that offer lowest spending on lung disease treatment \n",
    "\n",
    "hint 1: there are two keywords can be used to find all 'lung' diseases. \n",
    "\n",
    "hint 2: do not include any RESPIRATORY SYSTEM diseases."
   ]
  },
  {
   "cell_type": "code",
   "execution_count": 222,
   "metadata": {},
   "outputs": [
    {
     "data": {
      "text/html": [
       "<div>\n",
       "<style>\n",
       "    .dataframe thead tr:only-child th {\n",
       "        text-align: right;\n",
       "    }\n",
       "\n",
       "    .dataframe thead th {\n",
       "        text-align: left;\n",
       "    }\n",
       "\n",
       "    .dataframe tbody tr th {\n",
       "        vertical-align: top;\n",
       "    }\n",
       "</style>\n",
       "<table border=\"1\" class=\"dataframe\">\n",
       "  <thead>\n",
       "    <tr style=\"text-align: right;\">\n",
       "      <th></th>\n",
       "      <th>DRG Definition</th>\n",
       "      <th>Provider Id</th>\n",
       "      <th>Provider Name</th>\n",
       "      <th>Provider Street Address</th>\n",
       "      <th>Provider Zip Code</th>\n",
       "      <th>Hospital Referral Region Description</th>\n",
       "      <th>Total Discharges</th>\n",
       "      <th>Average Covered Charges</th>\n",
       "      <th>Average Total Payments</th>\n",
       "      <th>Average Medicare Payments</th>\n",
       "      <th>heart</th>\n",
       "      <th>state_fips</th>\n",
       "      <th>state</th>\n",
       "      <th>state_abbr</th>\n",
       "      <th>county</th>\n",
       "      <th>city</th>\n",
       "      <th>lung</th>\n",
       "    </tr>\n",
       "  </thead>\n",
       "  <tbody>\n",
       "    <tr>\n",
       "      <th>0</th>\n",
       "      <td>039 - EXTRACRANIAL PROCEDURES W/O CC/MCC</td>\n",
       "      <td>10001</td>\n",
       "      <td>SOUTHEAST ALABAMA MEDICAL CENTER</td>\n",
       "      <td>1108 ROSS CLARK CIRCLE</td>\n",
       "      <td>36301</td>\n",
       "      <td>AL - Dothan</td>\n",
       "      <td>91</td>\n",
       "      <td>32963.07</td>\n",
       "      <td>5777.24</td>\n",
       "      <td>4763.73</td>\n",
       "      <td>False</td>\n",
       "      <td>1</td>\n",
       "      <td>Alabama</td>\n",
       "      <td>AL</td>\n",
       "      <td>Houston</td>\n",
       "      <td>Taylor</td>\n",
       "      <td>False</td>\n",
       "    </tr>\n",
       "    <tr>\n",
       "      <th>1</th>\n",
       "      <td>039 - EXTRACRANIAL PROCEDURES W/O CC/MCC</td>\n",
       "      <td>10005</td>\n",
       "      <td>MARSHALL MEDICAL CENTER SOUTH</td>\n",
       "      <td>2505 U S HIGHWAY 431 NORTH</td>\n",
       "      <td>35957</td>\n",
       "      <td>AL - Birmingham</td>\n",
       "      <td>14</td>\n",
       "      <td>15131.85</td>\n",
       "      <td>5787.57</td>\n",
       "      <td>4976.71</td>\n",
       "      <td>False</td>\n",
       "      <td>1</td>\n",
       "      <td>Alabama</td>\n",
       "      <td>AL</td>\n",
       "      <td>Marshall</td>\n",
       "      <td>Boaz</td>\n",
       "      <td>False</td>\n",
       "    </tr>\n",
       "    <tr>\n",
       "      <th>2</th>\n",
       "      <td>039 - EXTRACRANIAL PROCEDURES W/O CC/MCC</td>\n",
       "      <td>10006</td>\n",
       "      <td>ELIZA COFFEE MEMORIAL HOSPITAL</td>\n",
       "      <td>205 MARENGO STREET</td>\n",
       "      <td>35631</td>\n",
       "      <td>AL - Birmingham</td>\n",
       "      <td>24</td>\n",
       "      <td>37560.37</td>\n",
       "      <td>5434.95</td>\n",
       "      <td>4453.79</td>\n",
       "      <td>False</td>\n",
       "      <td>NaN</td>\n",
       "      <td>Alabama</td>\n",
       "      <td>AL</td>\n",
       "      <td>NaN</td>\n",
       "      <td>NaN</td>\n",
       "      <td>False</td>\n",
       "    </tr>\n",
       "    <tr>\n",
       "      <th>3</th>\n",
       "      <td>039 - EXTRACRANIAL PROCEDURES W/O CC/MCC</td>\n",
       "      <td>10011</td>\n",
       "      <td>ST VINCENT'S EAST</td>\n",
       "      <td>50 MEDICAL PARK EAST DRIVE</td>\n",
       "      <td>35235</td>\n",
       "      <td>AL - Birmingham</td>\n",
       "      <td>25</td>\n",
       "      <td>13998.28</td>\n",
       "      <td>5417.56</td>\n",
       "      <td>4129.16</td>\n",
       "      <td>False</td>\n",
       "      <td>1</td>\n",
       "      <td>Alabama</td>\n",
       "      <td>AL</td>\n",
       "      <td>Jefferson</td>\n",
       "      <td>Center point</td>\n",
       "      <td>False</td>\n",
       "    </tr>\n",
       "    <tr>\n",
       "      <th>4</th>\n",
       "      <td>039 - EXTRACRANIAL PROCEDURES W/O CC/MCC</td>\n",
       "      <td>10016</td>\n",
       "      <td>SHELBY BAPTIST MEDICAL CENTER</td>\n",
       "      <td>1000 FIRST STREET NORTH</td>\n",
       "      <td>35007</td>\n",
       "      <td>AL - Birmingham</td>\n",
       "      <td>18</td>\n",
       "      <td>31633.27</td>\n",
       "      <td>5658.33</td>\n",
       "      <td>4851.44</td>\n",
       "      <td>False</td>\n",
       "      <td>1</td>\n",
       "      <td>Alabama</td>\n",
       "      <td>AL</td>\n",
       "      <td>Shelby</td>\n",
       "      <td>Keystone</td>\n",
       "      <td>False</td>\n",
       "    </tr>\n",
       "  </tbody>\n",
       "</table>\n",
       "</div>"
      ],
      "text/plain": [
       "                             DRG Definition Provider Id  \\\n",
       "0  039 - EXTRACRANIAL PROCEDURES W/O CC/MCC       10001   \n",
       "1  039 - EXTRACRANIAL PROCEDURES W/O CC/MCC       10005   \n",
       "2  039 - EXTRACRANIAL PROCEDURES W/O CC/MCC       10006   \n",
       "3  039 - EXTRACRANIAL PROCEDURES W/O CC/MCC       10011   \n",
       "4  039 - EXTRACRANIAL PROCEDURES W/O CC/MCC       10016   \n",
       "\n",
       "                      Provider Name     Provider Street Address  \\\n",
       "0  SOUTHEAST ALABAMA MEDICAL CENTER      1108 ROSS CLARK CIRCLE   \n",
       "1     MARSHALL MEDICAL CENTER SOUTH  2505 U S HIGHWAY 431 NORTH   \n",
       "2    ELIZA COFFEE MEMORIAL HOSPITAL          205 MARENGO STREET   \n",
       "3                 ST VINCENT'S EAST  50 MEDICAL PARK EAST DRIVE   \n",
       "4     SHELBY BAPTIST MEDICAL CENTER     1000 FIRST STREET NORTH   \n",
       "\n",
       "  Provider Zip Code Hospital Referral Region Description  Total Discharges  \\\n",
       "0             36301                          AL - Dothan                91   \n",
       "1             35957                      AL - Birmingham                14   \n",
       "2             35631                      AL - Birmingham                24   \n",
       "3             35235                      AL - Birmingham                25   \n",
       "4             35007                      AL - Birmingham                18   \n",
       "\n",
       "   Average Covered Charges  Average Total Payments  Average Medicare Payments  \\\n",
       "0                 32963.07                 5777.24                    4763.73   \n",
       "1                 15131.85                 5787.57                    4976.71   \n",
       "2                 37560.37                 5434.95                    4453.79   \n",
       "3                 13998.28                 5417.56                    4129.16   \n",
       "4                 31633.27                 5658.33                    4851.44   \n",
       "\n",
       "   heart state_fips    state state_abbr     county          city   lung  \n",
       "0  False          1  Alabama         AL    Houston        Taylor  False  \n",
       "1  False          1  Alabama         AL   Marshall          Boaz  False  \n",
       "2  False        NaN  Alabama         AL        NaN           NaN  False  \n",
       "3  False          1  Alabama         AL  Jefferson  Center point  False  \n",
       "4  False          1  Alabama         AL     Shelby      Keystone  False  "
      ]
     },
     "execution_count": 222,
     "metadata": {},
     "output_type": "execute_result"
    }
   ],
   "source": [
    "df2.head(5)"
   ]
  },
  {
   "cell_type": "code",
   "execution_count": 227,
   "metadata": {
    "collapsed": true
   },
   "outputs": [],
   "source": [
    "df2['lung']=(df['DRG Definition'].str.contains('PULMONARY'))| (df['DRG Definition'].str.contains('PNEUMONIA'))"
   ]
  },
  {
   "cell_type": "code",
   "execution_count": 245,
   "metadata": {},
   "outputs": [
    {
     "data": {
      "text/html": [
       "<div>\n",
       "<style>\n",
       "    .dataframe thead tr:only-child th {\n",
       "        text-align: right;\n",
       "    }\n",
       "\n",
       "    .dataframe thead th {\n",
       "        text-align: left;\n",
       "    }\n",
       "\n",
       "    .dataframe tbody tr th {\n",
       "        vertical-align: top;\n",
       "    }\n",
       "</style>\n",
       "<table border=\"1\" class=\"dataframe\">\n",
       "  <thead>\n",
       "    <tr style=\"text-align: right;\">\n",
       "      <th></th>\n",
       "      <th>Provider Name</th>\n",
       "      <th>Average Total Payments</th>\n",
       "      <th>city</th>\n",
       "      <th>state</th>\n",
       "    </tr>\n",
       "  </thead>\n",
       "  <tbody>\n",
       "    <tr>\n",
       "      <th>35193</th>\n",
       "      <td>HART COUNTY HOSPITAL</td>\n",
       "      <td>3338.17</td>\n",
       "      <td>Hartwell</td>\n",
       "      <td>Georgia</td>\n",
       "    </tr>\n",
       "    <tr>\n",
       "      <th>35515</th>\n",
       "      <td>VIA CHRISTI HOSPITAL WICHITA ST TERESA INC</td>\n",
       "      <td>3395.00</td>\n",
       "      <td>Wichita</td>\n",
       "      <td>Kansas</td>\n",
       "    </tr>\n",
       "    <tr>\n",
       "      <th>34674</th>\n",
       "      <td>SPRINGHILL MEDICAL CENTER</td>\n",
       "      <td>3444.00</td>\n",
       "      <td>Mobile</td>\n",
       "      <td>Alabama</td>\n",
       "    </tr>\n",
       "    <tr>\n",
       "      <th>27296</th>\n",
       "      <td>VIA CHRISTI HOSPITAL WICHITA ST TERESA INC</td>\n",
       "      <td>3455.00</td>\n",
       "      <td>Wichita</td>\n",
       "      <td>Kansas</td>\n",
       "    </tr>\n",
       "    <tr>\n",
       "      <th>27233</th>\n",
       "      <td>KENTUCKIANA MEDICAL CENTER LLC</td>\n",
       "      <td>3468.48</td>\n",
       "      <td>Clarksville</td>\n",
       "      <td>Indiana</td>\n",
       "    </tr>\n",
       "  </tbody>\n",
       "</table>\n",
       "</div>"
      ],
      "text/plain": [
       "                                    Provider Name  Average Total Payments  \\\n",
       "35193                        HART COUNTY HOSPITAL                 3338.17   \n",
       "35515  VIA CHRISTI HOSPITAL WICHITA ST TERESA INC                 3395.00   \n",
       "34674                   SPRINGHILL MEDICAL CENTER                 3444.00   \n",
       "27296  VIA CHRISTI HOSPITAL WICHITA ST TERESA INC                 3455.00   \n",
       "27233              KENTUCKIANA MEDICAL CENTER LLC                 3468.48   \n",
       "\n",
       "              city    state  \n",
       "35193     Hartwell  Georgia  \n",
       "35515      Wichita   Kansas  \n",
       "34674       Mobile  Alabama  \n",
       "27296      Wichita   Kansas  \n",
       "27233  Clarksville  Indiana  "
      ]
     },
     "execution_count": 245,
     "metadata": {},
     "output_type": "execute_result"
    }
   ],
   "source": [
    "df2.loc[(df2['lung']== True),['Provider Name','Average Total Payments','city','state']].sort_values(\n",
    "    by='Average Total Payments',ascending=True).head(5)\n",
    "\n"
   ]
  },
  {
   "cell_type": "markdown",
   "metadata": {},
   "source": [
    "## Q5"
   ]
  },
  {
   "cell_type": "markdown",
   "metadata": {},
   "source": [
    "For a patient who has \"misc disorders of nutrition,metabolism,fluids/electrolytes\", which hospital across the whole United States will be able to offer the lowest cost from average total payments point of view.\n",
    "\n",
    "5.1 Please find that hospital."
   ]
  },
  {
   "cell_type": "code",
   "execution_count": 333,
   "metadata": {
    "collapsed": true
   },
   "outputs": [],
   "source": [
    "df2['Misc']=(df['DRG Definition'].str.contains('MISC DISORDERS OF NUTRITION,METABOLISM,FLUIDS/ELECTROLYTES'))\n",
    "                                               "
   ]
  },
  {
   "cell_type": "code",
   "execution_count": 335,
   "metadata": {},
   "outputs": [
    {
     "data": {
      "text/html": [
       "<div>\n",
       "<style>\n",
       "    .dataframe thead tr:only-child th {\n",
       "        text-align: right;\n",
       "    }\n",
       "\n",
       "    .dataframe thead th {\n",
       "        text-align: left;\n",
       "    }\n",
       "\n",
       "    .dataframe tbody tr th {\n",
       "        vertical-align: top;\n",
       "    }\n",
       "</style>\n",
       "<table border=\"1\" class=\"dataframe\">\n",
       "  <thead>\n",
       "    <tr style=\"text-align: right;\">\n",
       "      <th></th>\n",
       "      <th>Provider Name</th>\n",
       "      <th>Average Total Payments</th>\n",
       "    </tr>\n",
       "  </thead>\n",
       "  <tbody>\n",
       "    <tr>\n",
       "      <th>134051</th>\n",
       "      <td>WEIRTON MEDICAL CENTER</td>\n",
       "      <td>3286.11</td>\n",
       "    </tr>\n",
       "  </tbody>\n",
       "</table>\n",
       "</div>"
      ],
      "text/plain": [
       "                 Provider Name  Average Total Payments\n",
       "134051  WEIRTON MEDICAL CENTER                 3286.11"
      ]
     },
     "execution_count": 335,
     "metadata": {},
     "output_type": "execute_result"
    }
   ],
   "source": [
    "df2.loc[(df2['Misc']== True),['Provider Name','Average Total Payments']].sort_values(\n",
    "    by='Average Total Payments',ascending=True).head(1)\n",
    "\n"
   ]
  },
  {
   "cell_type": "markdown",
   "metadata": {},
   "source": [
    "5.2 From 'Average Covered Charges' point of view, What's the ratio between the city with the highest average and the lowest average ?\n",
    "What are those two cities ?"
   ]
  },
  {
   "cell_type": "code",
   "execution_count": 363,
   "metadata": {
    "collapsed": true
   },
   "outputs": [],
   "source": [
    "dfmin=df2.loc[(df2['Misc']== True),['Provider Name','city','Average Covered Charges']].sort_values(\n",
    "    by='Average Covered Charges',ascending=True).head(1)"
   ]
  },
  {
   "cell_type": "code",
   "execution_count": 364,
   "metadata": {},
   "outputs": [
    {
     "data": {
      "text/html": [
       "<div>\n",
       "<style>\n",
       "    .dataframe thead tr:only-child th {\n",
       "        text-align: right;\n",
       "    }\n",
       "\n",
       "    .dataframe thead th {\n",
       "        text-align: left;\n",
       "    }\n",
       "\n",
       "    .dataframe tbody tr th {\n",
       "        vertical-align: top;\n",
       "    }\n",
       "</style>\n",
       "<table border=\"1\" class=\"dataframe\">\n",
       "  <thead>\n",
       "    <tr style=\"text-align: right;\">\n",
       "      <th></th>\n",
       "      <th>Provider Name</th>\n",
       "      <th>city</th>\n",
       "      <th>Average Covered Charges</th>\n",
       "    </tr>\n",
       "  </thead>\n",
       "  <tbody>\n",
       "    <tr>\n",
       "      <th>133883</th>\n",
       "      <td>COMMUNITY GENERAL HOSPITAL</td>\n",
       "      <td>Dilley</td>\n",
       "      <td>2995.61</td>\n",
       "    </tr>\n",
       "  </tbody>\n",
       "</table>\n",
       "</div>"
      ],
      "text/plain": [
       "                     Provider Name    city  Average Covered Charges\n",
       "133883  COMMUNITY GENERAL HOSPITAL  Dilley                  2995.61"
      ]
     },
     "execution_count": 364,
     "metadata": {},
     "output_type": "execute_result"
    }
   ],
   "source": [
    "# city with minium Average Covered Charges\n",
    "dfmin"
   ]
  },
  {
   "cell_type": "code",
   "execution_count": 365,
   "metadata": {
    "collapsed": true
   },
   "outputs": [],
   "source": [
    "dfmax=df2.loc[(df2['Misc']== True),['Provider Name','city','Average Covered Charges']].sort_values(\n",
    "    by='Average Covered Charges',ascending=False).head(1)"
   ]
  },
  {
   "cell_type": "code",
   "execution_count": 366,
   "metadata": {},
   "outputs": [
    {
     "data": {
      "text/html": [
       "<div>\n",
       "<style>\n",
       "    .dataframe thead tr:only-child th {\n",
       "        text-align: right;\n",
       "    }\n",
       "\n",
       "    .dataframe thead th {\n",
       "        text-align: left;\n",
       "    }\n",
       "\n",
       "    .dataframe tbody tr th {\n",
       "        vertical-align: top;\n",
       "    }\n",
       "</style>\n",
       "<table border=\"1\" class=\"dataframe\">\n",
       "  <thead>\n",
       "    <tr style=\"text-align: right;\">\n",
       "      <th></th>\n",
       "      <th>Provider Name</th>\n",
       "      <th>city</th>\n",
       "      <th>Average Covered Charges</th>\n",
       "    </tr>\n",
       "  </thead>\n",
       "  <tbody>\n",
       "    <tr>\n",
       "      <th>129667</th>\n",
       "      <td>STANFORD HOSPITAL</td>\n",
       "      <td>Stanford</td>\n",
       "      <td>144497.2</td>\n",
       "    </tr>\n",
       "  </tbody>\n",
       "</table>\n",
       "</div>"
      ],
      "text/plain": [
       "            Provider Name      city  Average Covered Charges\n",
       "129667  STANFORD HOSPITAL  Stanford                 144497.2"
      ]
     },
     "execution_count": 366,
     "metadata": {},
     "output_type": "execute_result"
    }
   ],
   "source": [
    "# city with maximum Average Covered Charges\n",
    "dfmax"
   ]
  },
  {
   "cell_type": "code",
   "execution_count": 367,
   "metadata": {},
   "outputs": [
    {
     "data": {
      "text/plain": [
       "144497.2"
      ]
     },
     "execution_count": 367,
     "metadata": {},
     "output_type": "execute_result"
    },
    {
     "data": {
      "text/plain": [
       "2995.61"
      ]
     },
     "execution_count": 367,
     "metadata": {},
     "output_type": "execute_result"
    }
   ],
   "source": [
    "dfmax['Average Covered Charges'].values[0]\n",
    "dfmin['Average Covered Charges'].values[0]"
   ]
  },
  {
   "cell_type": "code",
   "execution_count": 368,
   "metadata": {
    "collapsed": true
   },
   "outputs": [],
   "source": [
    "new = dfmax['Average Covered Charges'].values[0]/dfmin['Average Covered Charges'].values[0]"
   ]
  },
  {
   "cell_type": "code",
   "execution_count": 381,
   "metadata": {},
   "outputs": [
    {
     "name": "stdout",
     "output_type": "stream",
     "text": [
      "The ratio of  Average Covered Charges  between the highest and the lowest is 48.236319\n"
     ]
    }
   ],
   "source": [
    "\n",
    "print( 'The ratio of  Average Covered Charges  between the highest and the lowest is %f' %new )"
   ]
  },
  {
   "cell_type": "markdown",
   "metadata": {},
   "source": [
    "## Q6 "
   ]
  },
  {
   "cell_type": "markdown",
   "metadata": {},
   "source": [
    "6.1 For California, which disease is the most costly one?"
   ]
  },
  {
   "cell_type": "code",
   "execution_count": 352,
   "metadata": {},
   "outputs": [
    {
     "data": {
      "text/html": [
       "<div>\n",
       "<style>\n",
       "    .dataframe thead tr:only-child th {\n",
       "        text-align: right;\n",
       "    }\n",
       "\n",
       "    .dataframe thead th {\n",
       "        text-align: left;\n",
       "    }\n",
       "\n",
       "    .dataframe tbody tr th {\n",
       "        vertical-align: top;\n",
       "    }\n",
       "</style>\n",
       "<table border=\"1\" class=\"dataframe\">\n",
       "  <thead>\n",
       "    <tr style=\"text-align: right;\">\n",
       "      <th></th>\n",
       "      <th>Average Total Payments</th>\n",
       "    </tr>\n",
       "    <tr>\n",
       "      <th>DRG Definition</th>\n",
       "      <th></th>\n",
       "    </tr>\n",
       "  </thead>\n",
       "  <tbody>\n",
       "    <tr>\n",
       "      <th>207 - RESPIRATORY SYSTEM DIAGNOSIS W VENTILATOR SUPPORT 96+ HOURS</th>\n",
       "      <td>156158.18</td>\n",
       "    </tr>\n",
       "  </tbody>\n",
       "</table>\n",
       "</div>"
      ],
      "text/plain": [
       "                                                    Average Total Payments\n",
       "DRG Definition                                                            \n",
       "207 - RESPIRATORY SYSTEM DIAGNOSIS W VENTILATOR...               156158.18"
      ]
     },
     "execution_count": 352,
     "metadata": {},
     "output_type": "execute_result"
    }
   ],
   "source": [
    "df2[(df2['state']== 'California') ].groupby('DRG Definition')['Average Total Payments'].agg(\n",
    "{'Average Total Payments':'max'}).sort_values(by='Average Total Payments',ascending=False).head((1))\n",
    "        "
   ]
  },
  {
   "cell_type": "markdown",
   "metadata": {},
   "source": [
    "6.2 For each state, find the disease that is the most costly one"
   ]
  },
  {
   "cell_type": "code",
   "execution_count": 399,
   "metadata": {},
   "outputs": [
    {
     "data": {
      "text/html": [
       "<div>\n",
       "<style>\n",
       "    .dataframe thead tr:only-child th {\n",
       "        text-align: right;\n",
       "    }\n",
       "\n",
       "    .dataframe thead th {\n",
       "        text-align: left;\n",
       "    }\n",
       "\n",
       "    .dataframe tbody tr th {\n",
       "        vertical-align: top;\n",
       "    }\n",
       "</style>\n",
       "<table border=\"1\" class=\"dataframe\">\n",
       "  <thead>\n",
       "    <tr style=\"text-align: right;\">\n",
       "      <th></th>\n",
       "      <th></th>\n",
       "      <th>DRG Definition</th>\n",
       "      <th>Average Total Payments</th>\n",
       "    </tr>\n",
       "    <tr>\n",
       "      <th>state</th>\n",
       "      <th></th>\n",
       "      <th></th>\n",
       "      <th></th>\n",
       "    </tr>\n",
       "  </thead>\n",
       "  <tbody>\n",
       "    <tr>\n",
       "      <th>Alabama</th>\n",
       "      <th>151372</th>\n",
       "      <td>870 - SEPTICEMIA OR SEVERE SEPSIS W MV 96+ HOURS</td>\n",
       "      <td>48198.38</td>\n",
       "    </tr>\n",
       "    <tr>\n",
       "      <th>Alaska</th>\n",
       "      <th>86932</th>\n",
       "      <td>329 - MAJOR SMALL &amp; LARGE BOWEL PROCEDURES W MCC</td>\n",
       "      <td>77566.38</td>\n",
       "    </tr>\n",
       "    <tr>\n",
       "      <th>Arizona</th>\n",
       "      <th>150016</th>\n",
       "      <td>853 - INFECTIOUS &amp; PARASITIC DISEASES W O.R. P...</td>\n",
       "      <td>71437.35</td>\n",
       "    </tr>\n",
       "    <tr>\n",
       "      <th>Arkansas</th>\n",
       "      <th>86970</th>\n",
       "      <td>329 - MAJOR SMALL &amp; LARGE BOWEL PROCEDURES W MCC</td>\n",
       "      <td>57325.95</td>\n",
       "    </tr>\n",
       "    <tr>\n",
       "      <th>California</th>\n",
       "      <th>39594</th>\n",
       "      <td>207 - RESPIRATORY SYSTEM DIAGNOSIS W VENTILATO...</td>\n",
       "      <td>156158.18</td>\n",
       "    </tr>\n",
       "    <tr>\n",
       "      <th>Colorado</th>\n",
       "      <th>151529</th>\n",
       "      <td>870 - SEPTICEMIA OR SEVERE SEPSIS W MV 96+ HOURS</td>\n",
       "      <td>68294.66</td>\n",
       "    </tr>\n",
       "    <tr>\n",
       "      <th>Connecticut</th>\n",
       "      <th>151537</th>\n",
       "      <td>870 - SEPTICEMIA OR SEVERE SEPSIS W MV 96+ HOURS</td>\n",
       "      <td>73887.44</td>\n",
       "    </tr>\n",
       "    <tr>\n",
       "      <th>Delaware</th>\n",
       "      <th>150234</th>\n",
       "      <td>853 - INFECTIOUS &amp; PARASITIC DISEASES W O.R. P...</td>\n",
       "      <td>50707.91</td>\n",
       "    </tr>\n",
       "    <tr>\n",
       "      <th>District of columbia</th>\n",
       "      <th>150236</th>\n",
       "      <td>853 - INFECTIOUS &amp; PARASITIC DISEASES W O.R. P...</td>\n",
       "      <td>99067.50</td>\n",
       "    </tr>\n",
       "    <tr>\n",
       "      <th>Florida</th>\n",
       "      <th>87161</th>\n",
       "      <td>329 - MAJOR SMALL &amp; LARGE BOWEL PROCEDURES W MCC</td>\n",
       "      <td>73454.80</td>\n",
       "    </tr>\n",
       "    <tr>\n",
       "      <th>Georgia</th>\n",
       "      <th>151617</th>\n",
       "      <td>870 - SEPTICEMIA OR SEVERE SEPSIS W MV 96+ HOURS</td>\n",
       "      <td>64668.66</td>\n",
       "    </tr>\n",
       "    <tr>\n",
       "      <th>Hawaii</th>\n",
       "      <th>150380</th>\n",
       "      <td>853 - INFECTIOUS &amp; PARASITIC DISEASES W O.R. P...</td>\n",
       "      <td>76092.84</td>\n",
       "    </tr>\n",
       "    <tr>\n",
       "      <th>Idaho</th>\n",
       "      <th>151645</th>\n",
       "      <td>870 - SEPTICEMIA OR SEVERE SEPSIS W MV 96+ HOURS</td>\n",
       "      <td>58577.45</td>\n",
       "    </tr>\n",
       "    <tr>\n",
       "      <th>Illinois</th>\n",
       "      <th>39820</th>\n",
       "      <td>207 - RESPIRATORY SYSTEM DIAGNOSIS W VENTILATO...</td>\n",
       "      <td>85987.00</td>\n",
       "    </tr>\n",
       "    <tr>\n",
       "      <th>Indiana</th>\n",
       "      <th>109526</th>\n",
       "      <td>460 - SPINAL FUSION EXCEPT CERVICAL W/O MCC</td>\n",
       "      <td>131187.35</td>\n",
       "    </tr>\n",
       "    <tr>\n",
       "      <th>Iowa</th>\n",
       "      <th>151715</th>\n",
       "      <td>870 - SEPTICEMIA OR SEVERE SEPSIS W MV 96+ HOURS</td>\n",
       "      <td>60629.04</td>\n",
       "    </tr>\n",
       "    <tr>\n",
       "      <th>Kansas</th>\n",
       "      <th>87439</th>\n",
       "      <td>329 - MAJOR SMALL &amp; LARGE BOWEL PROCEDURES W MCC</td>\n",
       "      <td>49777.42</td>\n",
       "    </tr>\n",
       "    <tr>\n",
       "      <th>Kentucky</th>\n",
       "      <th>150536</th>\n",
       "      <td>853 - INFECTIOUS &amp; PARASITIC DISEASES W O.R. P...</td>\n",
       "      <td>60711.27</td>\n",
       "    </tr>\n",
       "    <tr>\n",
       "      <th>Louisiana</th>\n",
       "      <th>150564</th>\n",
       "      <td>853 - INFECTIOUS &amp; PARASITIC DISEASES W O.R. P...</td>\n",
       "      <td>57688.52</td>\n",
       "    </tr>\n",
       "    <tr>\n",
       "      <th>Maine</th>\n",
       "      <th>151749</th>\n",
       "      <td>870 - SEPTICEMIA OR SEVERE SEPSIS W MV 96+ HOURS</td>\n",
       "      <td>45990.20</td>\n",
       "    </tr>\n",
       "    <tr>\n",
       "      <th>Maryland</th>\n",
       "      <th>150579</th>\n",
       "      <td>853 - INFECTIOUS &amp; PARASITIC DISEASES W O.R. P...</td>\n",
       "      <td>95868.64</td>\n",
       "    </tr>\n",
       "    <tr>\n",
       "      <th>Massachusetts</th>\n",
       "      <th>151785</th>\n",
       "      <td>870 - SEPTICEMIA OR SEVERE SEPSIS W MV 96+ HOURS</td>\n",
       "      <td>70886.81</td>\n",
       "    </tr>\n",
       "    <tr>\n",
       "      <th>Michigan</th>\n",
       "      <th>39992</th>\n",
       "      <td>207 - RESPIRATORY SYSTEM DIAGNOSIS W VENTILATO...</td>\n",
       "      <td>83332.21</td>\n",
       "    </tr>\n",
       "    <tr>\n",
       "      <th>Minnesota</th>\n",
       "      <th>150684</th>\n",
       "      <td>853 - INFECTIOUS &amp; PARASITIC DISEASES W O.R. P...</td>\n",
       "      <td>82168.46</td>\n",
       "    </tr>\n",
       "    <tr>\n",
       "      <th>Mississippi</th>\n",
       "      <th>150697</th>\n",
       "      <td>853 - INFECTIOUS &amp; PARASITIC DISEASES W O.R. P...</td>\n",
       "      <td>49046.60</td>\n",
       "    </tr>\n",
       "    <tr>\n",
       "      <th>Missouri</th>\n",
       "      <th>151718</th>\n",
       "      <td>870 - SEPTICEMIA OR SEVERE SEPSIS W MV 96+ HOURS</td>\n",
       "      <td>71292.76</td>\n",
       "    </tr>\n",
       "    <tr>\n",
       "      <th>Montana</th>\n",
       "      <th>150747</th>\n",
       "      <td>853 - INFECTIOUS &amp; PARASITIC DISEASES W O.R. P...</td>\n",
       "      <td>40562.45</td>\n",
       "    </tr>\n",
       "    <tr>\n",
       "      <th>Nebraska</th>\n",
       "      <th>150753</th>\n",
       "      <td>853 - INFECTIOUS &amp; PARASITIC DISEASES W O.R. P...</td>\n",
       "      <td>59995.00</td>\n",
       "    </tr>\n",
       "    <tr>\n",
       "      <th>Nevada</th>\n",
       "      <th>87721</th>\n",
       "      <td>329 - MAJOR SMALL &amp; LARGE BOWEL PROCEDURES W MCC</td>\n",
       "      <td>68829.33</td>\n",
       "    </tr>\n",
       "    <tr>\n",
       "      <th>New hampshire</th>\n",
       "      <th>150764</th>\n",
       "      <td>853 - INFECTIOUS &amp; PARASITIC DISEASES W O.R. P...</td>\n",
       "      <td>65037.29</td>\n",
       "    </tr>\n",
       "    <tr>\n",
       "      <th>New jersey</th>\n",
       "      <th>151893</th>\n",
       "      <td>870 - SEPTICEMIA OR SEVERE SEPSIS W MV 96+ HOURS</td>\n",
       "      <td>66166.75</td>\n",
       "    </tr>\n",
       "    <tr>\n",
       "      <th>New mexico</th>\n",
       "      <th>150819</th>\n",
       "      <td>853 - INFECTIOUS &amp; PARASITIC DISEASES W O.R. P...</td>\n",
       "      <td>60348.11</td>\n",
       "    </tr>\n",
       "    <tr>\n",
       "      <th>New york</th>\n",
       "      <th>150886</th>\n",
       "      <td>853 - INFECTIOUS &amp; PARASITIC DISEASES W O.R. P...</td>\n",
       "      <td>140255.26</td>\n",
       "    </tr>\n",
       "    <tr>\n",
       "      <th>North carolina</th>\n",
       "      <th>150931</th>\n",
       "      <td>853 - INFECTIOUS &amp; PARASITIC DISEASES W O.R. P...</td>\n",
       "      <td>68045.42</td>\n",
       "    </tr>\n",
       "    <tr>\n",
       "      <th>North dakota</th>\n",
       "      <th>152042</th>\n",
       "      <td>870 - SEPTICEMIA OR SEVERE SEPSIS W MV 96+ HOURS</td>\n",
       "      <td>39845.68</td>\n",
       "    </tr>\n",
       "    <tr>\n",
       "      <th>Ohio</th>\n",
       "      <th>87935</th>\n",
       "      <td>329 - MAJOR SMALL &amp; LARGE BOWEL PROCEDURES W MCC</td>\n",
       "      <td>64472.53</td>\n",
       "    </tr>\n",
       "    <tr>\n",
       "      <th>Oklahoma</th>\n",
       "      <th>151028</th>\n",
       "      <td>853 - INFECTIOUS &amp; PARASITIC DISEASES W O.R. P...</td>\n",
       "      <td>68041.85</td>\n",
       "    </tr>\n",
       "    <tr>\n",
       "      <th>Oregon</th>\n",
       "      <th>88005</th>\n",
       "      <td>329 - MAJOR SMALL &amp; LARGE BOWEL PROCEDURES W MCC</td>\n",
       "      <td>94904.21</td>\n",
       "    </tr>\n",
       "    <tr>\n",
       "      <th>Pennsylvania</th>\n",
       "      <th>111140</th>\n",
       "      <td>469 - MAJOR JOINT REPLACEMENT OR REATTACHMENT ...</td>\n",
       "      <td>100018.33</td>\n",
       "    </tr>\n",
       "    <tr>\n",
       "      <th>Rhode island</th>\n",
       "      <th>152137</th>\n",
       "      <td>870 - SEPTICEMIA OR SEVERE SEPSIS W MV 96+ HOURS</td>\n",
       "      <td>56079.41</td>\n",
       "    </tr>\n",
       "    <tr>\n",
       "      <th>South carolina</th>\n",
       "      <th>88111</th>\n",
       "      <td>329 - MAJOR SMALL &amp; LARGE BOWEL PROCEDURES W MCC</td>\n",
       "      <td>99307.30</td>\n",
       "    </tr>\n",
       "    <tr>\n",
       "      <th>South dakota</th>\n",
       "      <th>47990</th>\n",
       "      <td>247 - PERC CARDIOVASC PROC W DRUG-ELUTING STEN...</td>\n",
       "      <td>83484.14</td>\n",
       "    </tr>\n",
       "    <tr>\n",
       "      <th>Tennessee</th>\n",
       "      <th>152165</th>\n",
       "      <td>870 - SEPTICEMIA OR SEVERE SEPSIS W MV 96+ HOURS</td>\n",
       "      <td>48753.13</td>\n",
       "    </tr>\n",
       "    <tr>\n",
       "      <th>Texas</th>\n",
       "      <th>152184</th>\n",
       "      <td>870 - SEPTICEMIA OR SEVERE SEPSIS W MV 96+ HOURS</td>\n",
       "      <td>90701.58</td>\n",
       "    </tr>\n",
       "    <tr>\n",
       "      <th>Utah</th>\n",
       "      <th>151261</th>\n",
       "      <td>853 - INFECTIOUS &amp; PARASITIC DISEASES W O.R. P...</td>\n",
       "      <td>68039.28</td>\n",
       "    </tr>\n",
       "    <tr>\n",
       "      <th>Vermont</th>\n",
       "      <th>151266</th>\n",
       "      <td>853 - INFECTIOUS &amp; PARASITIC DISEASES W O.R. P...</td>\n",
       "      <td>56805.68</td>\n",
       "    </tr>\n",
       "    <tr>\n",
       "      <th>Virginia</th>\n",
       "      <th>152266</th>\n",
       "      <td>870 - SEPTICEMIA OR SEVERE SEPSIS W MV 96+ HOURS</td>\n",
       "      <td>74091.50</td>\n",
       "    </tr>\n",
       "    <tr>\n",
       "      <th>Washington</th>\n",
       "      <th>49178</th>\n",
       "      <td>249 - PERC CARDIOVASC PROC W NON-DRUG-ELUTING ...</td>\n",
       "      <td>84499.26</td>\n",
       "    </tr>\n",
       "    <tr>\n",
       "      <th>West virginia</th>\n",
       "      <th>152298</th>\n",
       "      <td>870 - SEPTICEMIA OR SEVERE SEPSIS W MV 96+ HOURS</td>\n",
       "      <td>53943.09</td>\n",
       "    </tr>\n",
       "    <tr>\n",
       "      <th>Wisconsin</th>\n",
       "      <th>152305</th>\n",
       "      <td>870 - SEPTICEMIA OR SEVERE SEPSIS W MV 96+ HOURS</td>\n",
       "      <td>74399.82</td>\n",
       "    </tr>\n",
       "    <tr>\n",
       "      <th>Wyoming</th>\n",
       "      <th>88376</th>\n",
       "      <td>329 - MAJOR SMALL &amp; LARGE BOWEL PROCEDURES W MCC</td>\n",
       "      <td>52791.66</td>\n",
       "    </tr>\n",
       "  </tbody>\n",
       "</table>\n",
       "</div>"
      ],
      "text/plain": [
       "                                                                DRG Definition  \\\n",
       "state                                                                            \n",
       "Alabama              151372   870 - SEPTICEMIA OR SEVERE SEPSIS W MV 96+ HOURS   \n",
       "Alaska               86932    329 - MAJOR SMALL & LARGE BOWEL PROCEDURES W MCC   \n",
       "Arizona              150016  853 - INFECTIOUS & PARASITIC DISEASES W O.R. P...   \n",
       "Arkansas             86970    329 - MAJOR SMALL & LARGE BOWEL PROCEDURES W MCC   \n",
       "California           39594   207 - RESPIRATORY SYSTEM DIAGNOSIS W VENTILATO...   \n",
       "Colorado             151529   870 - SEPTICEMIA OR SEVERE SEPSIS W MV 96+ HOURS   \n",
       "Connecticut          151537   870 - SEPTICEMIA OR SEVERE SEPSIS W MV 96+ HOURS   \n",
       "Delaware             150234  853 - INFECTIOUS & PARASITIC DISEASES W O.R. P...   \n",
       "District of columbia 150236  853 - INFECTIOUS & PARASITIC DISEASES W O.R. P...   \n",
       "Florida              87161    329 - MAJOR SMALL & LARGE BOWEL PROCEDURES W MCC   \n",
       "Georgia              151617   870 - SEPTICEMIA OR SEVERE SEPSIS W MV 96+ HOURS   \n",
       "Hawaii               150380  853 - INFECTIOUS & PARASITIC DISEASES W O.R. P...   \n",
       "Idaho                151645   870 - SEPTICEMIA OR SEVERE SEPSIS W MV 96+ HOURS   \n",
       "Illinois             39820   207 - RESPIRATORY SYSTEM DIAGNOSIS W VENTILATO...   \n",
       "Indiana              109526        460 - SPINAL FUSION EXCEPT CERVICAL W/O MCC   \n",
       "Iowa                 151715   870 - SEPTICEMIA OR SEVERE SEPSIS W MV 96+ HOURS   \n",
       "Kansas               87439    329 - MAJOR SMALL & LARGE BOWEL PROCEDURES W MCC   \n",
       "Kentucky             150536  853 - INFECTIOUS & PARASITIC DISEASES W O.R. P...   \n",
       "Louisiana            150564  853 - INFECTIOUS & PARASITIC DISEASES W O.R. P...   \n",
       "Maine                151749   870 - SEPTICEMIA OR SEVERE SEPSIS W MV 96+ HOURS   \n",
       "Maryland             150579  853 - INFECTIOUS & PARASITIC DISEASES W O.R. P...   \n",
       "Massachusetts        151785   870 - SEPTICEMIA OR SEVERE SEPSIS W MV 96+ HOURS   \n",
       "Michigan             39992   207 - RESPIRATORY SYSTEM DIAGNOSIS W VENTILATO...   \n",
       "Minnesota            150684  853 - INFECTIOUS & PARASITIC DISEASES W O.R. P...   \n",
       "Mississippi          150697  853 - INFECTIOUS & PARASITIC DISEASES W O.R. P...   \n",
       "Missouri             151718   870 - SEPTICEMIA OR SEVERE SEPSIS W MV 96+ HOURS   \n",
       "Montana              150747  853 - INFECTIOUS & PARASITIC DISEASES W O.R. P...   \n",
       "Nebraska             150753  853 - INFECTIOUS & PARASITIC DISEASES W O.R. P...   \n",
       "Nevada               87721    329 - MAJOR SMALL & LARGE BOWEL PROCEDURES W MCC   \n",
       "New hampshire        150764  853 - INFECTIOUS & PARASITIC DISEASES W O.R. P...   \n",
       "New jersey           151893   870 - SEPTICEMIA OR SEVERE SEPSIS W MV 96+ HOURS   \n",
       "New mexico           150819  853 - INFECTIOUS & PARASITIC DISEASES W O.R. P...   \n",
       "New york             150886  853 - INFECTIOUS & PARASITIC DISEASES W O.R. P...   \n",
       "North carolina       150931  853 - INFECTIOUS & PARASITIC DISEASES W O.R. P...   \n",
       "North dakota         152042   870 - SEPTICEMIA OR SEVERE SEPSIS W MV 96+ HOURS   \n",
       "Ohio                 87935    329 - MAJOR SMALL & LARGE BOWEL PROCEDURES W MCC   \n",
       "Oklahoma             151028  853 - INFECTIOUS & PARASITIC DISEASES W O.R. P...   \n",
       "Oregon               88005    329 - MAJOR SMALL & LARGE BOWEL PROCEDURES W MCC   \n",
       "Pennsylvania         111140  469 - MAJOR JOINT REPLACEMENT OR REATTACHMENT ...   \n",
       "Rhode island         152137   870 - SEPTICEMIA OR SEVERE SEPSIS W MV 96+ HOURS   \n",
       "South carolina       88111    329 - MAJOR SMALL & LARGE BOWEL PROCEDURES W MCC   \n",
       "South dakota         47990   247 - PERC CARDIOVASC PROC W DRUG-ELUTING STEN...   \n",
       "Tennessee            152165   870 - SEPTICEMIA OR SEVERE SEPSIS W MV 96+ HOURS   \n",
       "Texas                152184   870 - SEPTICEMIA OR SEVERE SEPSIS W MV 96+ HOURS   \n",
       "Utah                 151261  853 - INFECTIOUS & PARASITIC DISEASES W O.R. P...   \n",
       "Vermont              151266  853 - INFECTIOUS & PARASITIC DISEASES W O.R. P...   \n",
       "Virginia             152266   870 - SEPTICEMIA OR SEVERE SEPSIS W MV 96+ HOURS   \n",
       "Washington           49178   249 - PERC CARDIOVASC PROC W NON-DRUG-ELUTING ...   \n",
       "West virginia        152298   870 - SEPTICEMIA OR SEVERE SEPSIS W MV 96+ HOURS   \n",
       "Wisconsin            152305   870 - SEPTICEMIA OR SEVERE SEPSIS W MV 96+ HOURS   \n",
       "Wyoming              88376    329 - MAJOR SMALL & LARGE BOWEL PROCEDURES W MCC   \n",
       "\n",
       "                             Average Total Payments  \n",
       "state                                                \n",
       "Alabama              151372                48198.38  \n",
       "Alaska               86932                 77566.38  \n",
       "Arizona              150016                71437.35  \n",
       "Arkansas             86970                 57325.95  \n",
       "California           39594                156158.18  \n",
       "Colorado             151529                68294.66  \n",
       "Connecticut          151537                73887.44  \n",
       "Delaware             150234                50707.91  \n",
       "District of columbia 150236                99067.50  \n",
       "Florida              87161                 73454.80  \n",
       "Georgia              151617                64668.66  \n",
       "Hawaii               150380                76092.84  \n",
       "Idaho                151645                58577.45  \n",
       "Illinois             39820                 85987.00  \n",
       "Indiana              109526               131187.35  \n",
       "Iowa                 151715                60629.04  \n",
       "Kansas               87439                 49777.42  \n",
       "Kentucky             150536                60711.27  \n",
       "Louisiana            150564                57688.52  \n",
       "Maine                151749                45990.20  \n",
       "Maryland             150579                95868.64  \n",
       "Massachusetts        151785                70886.81  \n",
       "Michigan             39992                 83332.21  \n",
       "Minnesota            150684                82168.46  \n",
       "Mississippi          150697                49046.60  \n",
       "Missouri             151718                71292.76  \n",
       "Montana              150747                40562.45  \n",
       "Nebraska             150753                59995.00  \n",
       "Nevada               87721                 68829.33  \n",
       "New hampshire        150764                65037.29  \n",
       "New jersey           151893                66166.75  \n",
       "New mexico           150819                60348.11  \n",
       "New york             150886               140255.26  \n",
       "North carolina       150931                68045.42  \n",
       "North dakota         152042                39845.68  \n",
       "Ohio                 87935                 64472.53  \n",
       "Oklahoma             151028                68041.85  \n",
       "Oregon               88005                 94904.21  \n",
       "Pennsylvania         111140               100018.33  \n",
       "Rhode island         152137                56079.41  \n",
       "South carolina       88111                 99307.30  \n",
       "South dakota         47990                 83484.14  \n",
       "Tennessee            152165                48753.13  \n",
       "Texas                152184                90701.58  \n",
       "Utah                 151261                68039.28  \n",
       "Vermont              151266                56805.68  \n",
       "Virginia             152266                74091.50  \n",
       "Washington           49178                 84499.26  \n",
       "West virginia        152298                53943.09  \n",
       "Wisconsin            152305                74399.82  \n",
       "Wyoming              88376                 52791.66  "
      ]
     },
     "execution_count": 399,
     "metadata": {},
     "output_type": "execute_result"
    }
   ],
   "source": [
    "df2.groupby('state').apply(lambda d: d[d['Average Total Payments'] == d['Average Total Payments'].max()])[\n",
    "    ['DRG Definition','Average Total Payments']]"
   ]
  },
  {
   "cell_type": "markdown",
   "metadata": {},
   "source": [
    "6.3 Based on the above results, provide your analysis."
   ]
  },
  {
   "cell_type": "markdown",
   "metadata": {},
   "source": [
    "<b>In order to do a analysis lets do minor Manipulations</b>"
   ]
  },
  {
   "cell_type": "code",
   "execution_count": 403,
   "metadata": {},
   "outputs": [
    {
     "data": {
      "text/html": [
       "<div>\n",
       "<style>\n",
       "    .dataframe thead tr:only-child th {\n",
       "        text-align: right;\n",
       "    }\n",
       "\n",
       "    .dataframe thead th {\n",
       "        text-align: left;\n",
       "    }\n",
       "\n",
       "    .dataframe tbody tr th {\n",
       "        vertical-align: top;\n",
       "    }\n",
       "</style>\n",
       "<table border=\"1\" class=\"dataframe\">\n",
       "  <thead>\n",
       "    <tr style=\"text-align: right;\">\n",
       "      <th></th>\n",
       "      <th></th>\n",
       "      <th>DRG Definition</th>\n",
       "      <th>Average Total Payments</th>\n",
       "    </tr>\n",
       "    <tr>\n",
       "      <th>state</th>\n",
       "      <th></th>\n",
       "      <th></th>\n",
       "      <th></th>\n",
       "    </tr>\n",
       "  </thead>\n",
       "  <tbody>\n",
       "    <tr>\n",
       "      <th>California</th>\n",
       "      <th>39594</th>\n",
       "      <td>207 - RESPIRATORY SYSTEM DIAGNOSIS W VENTILATO...</td>\n",
       "      <td>156158.18</td>\n",
       "    </tr>\n",
       "    <tr>\n",
       "      <th>New york</th>\n",
       "      <th>150886</th>\n",
       "      <td>853 - INFECTIOUS &amp; PARASITIC DISEASES W O.R. P...</td>\n",
       "      <td>140255.26</td>\n",
       "    </tr>\n",
       "    <tr>\n",
       "      <th>Indiana</th>\n",
       "      <th>109526</th>\n",
       "      <td>460 - SPINAL FUSION EXCEPT CERVICAL W/O MCC</td>\n",
       "      <td>131187.35</td>\n",
       "    </tr>\n",
       "    <tr>\n",
       "      <th>Pennsylvania</th>\n",
       "      <th>111140</th>\n",
       "      <td>469 - MAJOR JOINT REPLACEMENT OR REATTACHMENT ...</td>\n",
       "      <td>100018.33</td>\n",
       "    </tr>\n",
       "    <tr>\n",
       "      <th>South carolina</th>\n",
       "      <th>88111</th>\n",
       "      <td>329 - MAJOR SMALL &amp; LARGE BOWEL PROCEDURES W MCC</td>\n",
       "      <td>99307.30</td>\n",
       "    </tr>\n",
       "  </tbody>\n",
       "</table>\n",
       "</div>"
      ],
      "text/plain": [
       "                                                          DRG Definition  \\\n",
       "state                                                                      \n",
       "California     39594   207 - RESPIRATORY SYSTEM DIAGNOSIS W VENTILATO...   \n",
       "New york       150886  853 - INFECTIOUS & PARASITIC DISEASES W O.R. P...   \n",
       "Indiana        109526        460 - SPINAL FUSION EXCEPT CERVICAL W/O MCC   \n",
       "Pennsylvania   111140  469 - MAJOR JOINT REPLACEMENT OR REATTACHMENT ...   \n",
       "South carolina 88111    329 - MAJOR SMALL & LARGE BOWEL PROCEDURES W MCC   \n",
       "\n",
       "                       Average Total Payments  \n",
       "state                                          \n",
       "California     39594                156158.18  \n",
       "New york       150886               140255.26  \n",
       "Indiana        109526               131187.35  \n",
       "Pennsylvania   111140               100018.33  \n",
       "South carolina 88111                 99307.30  "
      ]
     },
     "execution_count": 403,
     "metadata": {},
     "output_type": "execute_result"
    }
   ],
   "source": [
    "df2.groupby('state').apply(lambda d: d[d['Average Total Payments'] == d['Average Total Payments'].max()])[\n",
    "    ['DRG Definition','Average Total Payments']].sort_values(by='Average Total Payments',ascending=False).head(5)"
   ]
  },
  {
   "cell_type": "markdown",
   "metadata": {},
   "source": [
    "So the top 5 states with the highest <b>Average Total Payments</b> are CA, NY, IN, PA and SC of which \n",
    "<b> California </b> has the maximum <b>Average Total Payments</b> cost with most expensive treatment for Diseases  realted to <b>RESPIRATORY SYSTEM</b>"
   ]
  },
  {
   "cell_type": "code",
   "execution_count": 407,
   "metadata": {},
   "outputs": [
    {
     "data": {
      "text/html": [
       "<div>\n",
       "<style>\n",
       "    .dataframe thead tr:only-child th {\n",
       "        text-align: right;\n",
       "    }\n",
       "\n",
       "    .dataframe thead th {\n",
       "        text-align: left;\n",
       "    }\n",
       "\n",
       "    .dataframe tbody tr th {\n",
       "        vertical-align: top;\n",
       "    }\n",
       "</style>\n",
       "<table border=\"1\" class=\"dataframe\">\n",
       "  <thead>\n",
       "    <tr style=\"text-align: right;\">\n",
       "      <th></th>\n",
       "      <th></th>\n",
       "      <th>DRG Definition</th>\n",
       "      <th>Average Total Payments</th>\n",
       "    </tr>\n",
       "    <tr>\n",
       "      <th>state</th>\n",
       "      <th></th>\n",
       "      <th></th>\n",
       "      <th></th>\n",
       "    </tr>\n",
       "  </thead>\n",
       "  <tbody>\n",
       "    <tr>\n",
       "      <th>Tennessee</th>\n",
       "      <th>152165</th>\n",
       "      <td>870 - SEPTICEMIA OR SEVERE SEPSIS W MV 96+ HOURS</td>\n",
       "      <td>48753.13</td>\n",
       "    </tr>\n",
       "    <tr>\n",
       "      <th>Alabama</th>\n",
       "      <th>151372</th>\n",
       "      <td>870 - SEPTICEMIA OR SEVERE SEPSIS W MV 96+ HOURS</td>\n",
       "      <td>48198.38</td>\n",
       "    </tr>\n",
       "    <tr>\n",
       "      <th>Maine</th>\n",
       "      <th>151749</th>\n",
       "      <td>870 - SEPTICEMIA OR SEVERE SEPSIS W MV 96+ HOURS</td>\n",
       "      <td>45990.20</td>\n",
       "    </tr>\n",
       "    <tr>\n",
       "      <th>Montana</th>\n",
       "      <th>150747</th>\n",
       "      <td>853 - INFECTIOUS &amp; PARASITIC DISEASES W O.R. P...</td>\n",
       "      <td>40562.45</td>\n",
       "    </tr>\n",
       "    <tr>\n",
       "      <th>North dakota</th>\n",
       "      <th>152042</th>\n",
       "      <td>870 - SEPTICEMIA OR SEVERE SEPSIS W MV 96+ HOURS</td>\n",
       "      <td>39845.68</td>\n",
       "    </tr>\n",
       "  </tbody>\n",
       "</table>\n",
       "</div>"
      ],
      "text/plain": [
       "                                                        DRG Definition  \\\n",
       "state                                                                    \n",
       "Tennessee    152165   870 - SEPTICEMIA OR SEVERE SEPSIS W MV 96+ HOURS   \n",
       "Alabama      151372   870 - SEPTICEMIA OR SEVERE SEPSIS W MV 96+ HOURS   \n",
       "Maine        151749   870 - SEPTICEMIA OR SEVERE SEPSIS W MV 96+ HOURS   \n",
       "Montana      150747  853 - INFECTIOUS & PARASITIC DISEASES W O.R. P...   \n",
       "North dakota 152042   870 - SEPTICEMIA OR SEVERE SEPSIS W MV 96+ HOURS   \n",
       "\n",
       "                     Average Total Payments  \n",
       "state                                        \n",
       "Tennessee    152165                48753.13  \n",
       "Alabama      151372                48198.38  \n",
       "Maine        151749                45990.20  \n",
       "Montana      150747                40562.45  \n",
       "North dakota 152042                39845.68  "
      ]
     },
     "execution_count": 407,
     "metadata": {},
     "output_type": "execute_result"
    }
   ],
   "source": [
    "df2.groupby('state').apply(lambda d: d[d['Average Total Payments'] == d['Average Total Payments'].max()])[\n",
    "    ['DRG Definition','Average Total Payments']].sort_values(by='Average Total Payments',ascending=False).tail(5)"
   ]
  },
  {
   "cell_type": "markdown",
   "metadata": {},
   "source": [
    "So the top 5 states with the lowes <b>Average Total Payments</b> are TN, AL, ME, MT and ND of which \n",
    "<b> North dakota </b> has the Minimum  <b>Average Total Payments</b> cost with most expensive treatment for Diseases  realted to <b>SEPTICEMIA OR SEVERE SEPSIS</b>"
   ]
  },
  {
   "cell_type": "markdown",
   "metadata": {},
   "source": [
    "Another major thing to notice is that if <b>SEPTICEMIA OR SEVERE SEPSIS</b> is the most expensive disease \n",
    "than the cost of treating other Diseases is not great compared to other states in <b>USA</b> and \n",
    "hence the insurance cost are very low in <b>TN, AL, ME, MT and ND</b>\n"
   ]
  },
  {
   "cell_type": "markdown",
   "metadata": {},
   "source": [
    "## Q7\n",
    "Based on the merged data set, describe the most interesting or unexpected finding you may have. (note: you need to list the related code to back up/prove your statement."
   ]
  },
  {
   "cell_type": "markdown",
   "metadata": {},
   "source": [
    "Lets use corr() function to see if there are any relations!\n",
    "\n"
   ]
  },
  {
   "cell_type": "code",
   "execution_count": 434,
   "metadata": {},
   "outputs": [
    {
     "data": {
      "text/html": [
       "<div>\n",
       "<style>\n",
       "    .dataframe thead tr:only-child th {\n",
       "        text-align: right;\n",
       "    }\n",
       "\n",
       "    .dataframe thead th {\n",
       "        text-align: left;\n",
       "    }\n",
       "\n",
       "    .dataframe tbody tr th {\n",
       "        vertical-align: top;\n",
       "    }\n",
       "</style>\n",
       "<table border=\"1\" class=\"dataframe\">\n",
       "  <thead>\n",
       "    <tr style=\"text-align: right;\">\n",
       "      <th></th>\n",
       "      <th>Total Discharges</th>\n",
       "      <th>Average Covered Charges</th>\n",
       "      <th>Average Total Payments</th>\n",
       "      <th>Average Medicare Payments</th>\n",
       "    </tr>\n",
       "  </thead>\n",
       "  <tbody>\n",
       "    <tr>\n",
       "      <th>count</th>\n",
       "      <td>163166.000000</td>\n",
       "      <td>163166.000000</td>\n",
       "      <td>163166.000000</td>\n",
       "      <td>163166.000000</td>\n",
       "    </tr>\n",
       "    <tr>\n",
       "      <th>mean</th>\n",
       "      <td>42.763358</td>\n",
       "      <td>36123.429023</td>\n",
       "      <td>9706.502557</td>\n",
       "      <td>8493.630521</td>\n",
       "    </tr>\n",
       "    <tr>\n",
       "      <th>std</th>\n",
       "      <td>51.092548</td>\n",
       "      <td>35058.543111</td>\n",
       "      <td>7663.468371</td>\n",
       "      <td>7308.194954</td>\n",
       "    </tr>\n",
       "    <tr>\n",
       "      <th>min</th>\n",
       "      <td>11.000000</td>\n",
       "      <td>2459.400000</td>\n",
       "      <td>2673.000000</td>\n",
       "      <td>1148.900000</td>\n",
       "    </tr>\n",
       "    <tr>\n",
       "      <th>25%</th>\n",
       "      <td>17.000000</td>\n",
       "      <td>15940.502500</td>\n",
       "      <td>5234.737500</td>\n",
       "      <td>4192.625000</td>\n",
       "    </tr>\n",
       "    <tr>\n",
       "      <th>50%</th>\n",
       "      <td>27.000000</td>\n",
       "      <td>25238.185000</td>\n",
       "      <td>7213.805000</td>\n",
       "      <td>6158.330000</td>\n",
       "    </tr>\n",
       "    <tr>\n",
       "      <th>75%</th>\n",
       "      <td>49.000000</td>\n",
       "      <td>43219.382500</td>\n",
       "      <td>11284.242500</td>\n",
       "      <td>10055.970000</td>\n",
       "    </tr>\n",
       "    <tr>\n",
       "      <th>max</th>\n",
       "      <td>3383.000000</td>\n",
       "      <td>929118.900000</td>\n",
       "      <td>156158.180000</td>\n",
       "      <td>154620.810000</td>\n",
       "    </tr>\n",
       "  </tbody>\n",
       "</table>\n",
       "</div>"
      ],
      "text/plain": [
       "       Total Discharges  Average Covered Charges  Average Total Payments  \\\n",
       "count     163166.000000            163166.000000           163166.000000   \n",
       "mean          42.763358             36123.429023             9706.502557   \n",
       "std           51.092548             35058.543111             7663.468371   \n",
       "min           11.000000              2459.400000             2673.000000   \n",
       "25%           17.000000             15940.502500             5234.737500   \n",
       "50%           27.000000             25238.185000             7213.805000   \n",
       "75%           49.000000             43219.382500            11284.242500   \n",
       "max         3383.000000            929118.900000           156158.180000   \n",
       "\n",
       "       Average Medicare Payments  \n",
       "count              163166.000000  \n",
       "mean                 8493.630521  \n",
       "std                  7308.194954  \n",
       "min                  1148.900000  \n",
       "25%                  4192.625000  \n",
       "50%                  6158.330000  \n",
       "75%                 10055.970000  \n",
       "max                154620.810000  "
      ]
     },
     "execution_count": 434,
     "metadata": {},
     "output_type": "execute_result"
    }
   ],
   "source": [
    "df2.describe()"
   ]
  },
  {
   "cell_type": "code",
   "execution_count": 323,
   "metadata": {},
   "outputs": [
    {
     "data": {
      "text/html": [
       "<div>\n",
       "<style>\n",
       "    .dataframe thead tr:only-child th {\n",
       "        text-align: right;\n",
       "    }\n",
       "\n",
       "    .dataframe thead th {\n",
       "        text-align: left;\n",
       "    }\n",
       "\n",
       "    .dataframe tbody tr th {\n",
       "        vertical-align: top;\n",
       "    }\n",
       "</style>\n",
       "<table border=\"1\" class=\"dataframe\">\n",
       "  <thead>\n",
       "    <tr style=\"text-align: right;\">\n",
       "      <th></th>\n",
       "      <th>Total Discharges</th>\n",
       "      <th>Average Covered Charges</th>\n",
       "      <th>Average Total Payments</th>\n",
       "      <th>Average Medicare Payments</th>\n",
       "      <th>heart</th>\n",
       "    </tr>\n",
       "  </thead>\n",
       "  <tbody>\n",
       "    <tr>\n",
       "      <th>Total Discharges</th>\n",
       "      <td>1.000000</td>\n",
       "      <td>-0.020622</td>\n",
       "      <td>-0.015942</td>\n",
       "      <td>-0.021225</td>\n",
       "      <td>0.016023</td>\n",
       "    </tr>\n",
       "    <tr>\n",
       "      <th>Average Covered Charges</th>\n",
       "      <td>-0.020622</td>\n",
       "      <td>1.000000</td>\n",
       "      <td>0.774100</td>\n",
       "      <td>0.768918</td>\n",
       "      <td>0.029541</td>\n",
       "    </tr>\n",
       "    <tr>\n",
       "      <th>Average Total Payments</th>\n",
       "      <td>-0.015942</td>\n",
       "      <td>0.774100</td>\n",
       "      <td>1.000000</td>\n",
       "      <td>0.989363</td>\n",
       "      <td>0.011061</td>\n",
       "    </tr>\n",
       "    <tr>\n",
       "      <th>Average Medicare Payments</th>\n",
       "      <td>-0.021225</td>\n",
       "      <td>0.768918</td>\n",
       "      <td>0.989363</td>\n",
       "      <td>1.000000</td>\n",
       "      <td>0.010100</td>\n",
       "    </tr>\n",
       "    <tr>\n",
       "      <th>heart</th>\n",
       "      <td>0.016023</td>\n",
       "      <td>0.029541</td>\n",
       "      <td>0.011061</td>\n",
       "      <td>0.010100</td>\n",
       "      <td>1.000000</td>\n",
       "    </tr>\n",
       "  </tbody>\n",
       "</table>\n",
       "</div>"
      ],
      "text/plain": [
       "                           Total Discharges  Average Covered Charges  \\\n",
       "Total Discharges                   1.000000                -0.020622   \n",
       "Average Covered Charges           -0.020622                 1.000000   \n",
       "Average Total Payments            -0.015942                 0.774100   \n",
       "Average Medicare Payments         -0.021225                 0.768918   \n",
       "heart                              0.016023                 0.029541   \n",
       "\n",
       "                           Average Total Payments  Average Medicare Payments  \\\n",
       "Total Discharges                        -0.015942                  -0.021225   \n",
       "Average Covered Charges                  0.774100                   0.768918   \n",
       "Average Total Payments                   1.000000                   0.989363   \n",
       "Average Medicare Payments                0.989363                   1.000000   \n",
       "heart                                    0.011061                   0.010100   \n",
       "\n",
       "                              heart  \n",
       "Total Discharges           0.016023  \n",
       "Average Covered Charges    0.029541  \n",
       "Average Total Payments     0.011061  \n",
       "Average Medicare Payments  0.010100  \n",
       "heart                      1.000000  "
      ]
     },
     "execution_count": 323,
     "metadata": {},
     "output_type": "execute_result"
    }
   ],
   "source": [
    "cor =df2.corr()\n",
    "cor"
   ]
  },
  {
   "cell_type": "code",
   "execution_count": 324,
   "metadata": {},
   "outputs": [
    {
     "data": {
      "text/plain": [
       "Total Discharges           Total Discharges             1.000000\n",
       "                           Average Covered Charges     -0.020622\n",
       "                           Average Total Payments      -0.015942\n",
       "                           Average Medicare Payments   -0.021225\n",
       "                           heart                        0.016023\n",
       "Average Covered Charges    Total Discharges            -0.020622\n",
       "                           Average Covered Charges      1.000000\n",
       "                           Average Total Payments       0.774100\n",
       "                           Average Medicare Payments    0.768918\n",
       "                           heart                        0.029541\n",
       "Average Total Payments     Total Discharges            -0.015942\n",
       "                           Average Covered Charges      0.774100\n",
       "                           Average Total Payments       1.000000\n",
       "                           Average Medicare Payments    0.989363\n",
       "                           heart                        0.011061\n",
       "Average Medicare Payments  Total Discharges            -0.021225\n",
       "                           Average Covered Charges      0.768918\n",
       "                           Average Total Payments       0.989363\n",
       "                           Average Medicare Payments    1.000000\n",
       "                           heart                        0.010100\n",
       "heart                      Total Discharges             0.016023\n",
       "                           Average Covered Charges      0.029541\n",
       "                           Average Total Payments       0.011061\n",
       "                           Average Medicare Payments    0.010100\n",
       "                           heart                        1.000000\n",
       "dtype: float64"
      ]
     },
     "execution_count": 324,
     "metadata": {},
     "output_type": "execute_result"
    }
   ],
   "source": [
    "cor.stack()"
   ]
  },
  {
   "cell_type": "code",
   "execution_count": 325,
   "metadata": {},
   "outputs": [
    {
     "data": {
      "text/plain": [
       "Average Total Payments     Average Medicare Payments    0.989363\n",
       "Average Covered Charges    Average Total Payments       0.774100\n",
       "Average Medicare Payments  Average Covered Charges      0.768918\n",
       "heart                      Average Covered Charges      0.029541\n",
       "Total Discharges           heart                        0.016023\n",
       "heart                      Average Total Payments       0.011061\n",
       "Average Medicare Payments  heart                        0.010100\n",
       "Total Discharges           Average Total Payments      -0.015942\n",
       "Average Covered Charges    Total Discharges            -0.020622\n",
       "Average Medicare Payments  Total Discharges            -0.021225\n",
       "dtype: float64"
      ]
     },
     "execution_count": 325,
     "metadata": {},
     "output_type": "execute_result"
    }
   ],
   "source": [
    "cor[cor<1].stack().nlargest(20)[::2]"
   ]
  },
  {
   "cell_type": "code",
   "execution_count": 326,
   "metadata": {},
   "outputs": [
    {
     "data": {
      "text/plain": [
       "Total Discharges           Average Medicare Payments   -0.021225\n",
       "                           Average Covered Charges     -0.020622\n",
       "                           Average Total Payments      -0.015942\n",
       "Average Medicare Payments  heart                        0.010100\n",
       "heart                      Average Total Payments       0.011061\n",
       "Total Discharges           heart                        0.016023\n",
       "heart                      Average Covered Charges      0.029541\n",
       "Average Covered Charges    Average Medicare Payments    0.768918\n",
       "                           Average Total Payments       0.774100\n",
       "Average Total Payments     Average Medicare Payments    0.989363\n",
       "dtype: float64"
      ]
     },
     "execution_count": 326,
     "metadata": {},
     "output_type": "execute_result"
    }
   ],
   "source": [
    "cor[cor<1].stack().nsmallest(20)[::2]"
   ]
  },
  {
   "cell_type": "markdown",
   "metadata": {},
   "source": [
    "so after using the function we can find that there is no significant realtion!!"
   ]
  },
  {
   "cell_type": "code",
   "execution_count": 419,
   "metadata": {},
   "outputs": [
    {
     "data": {
      "text/plain": [
       "state                 DRG Definition                                                          \n",
       "Alabama               690 - KIDNEY & URINARY TRACT INFECTIONS W/O MCC                              88\n",
       "Alaska                194 - SIMPLE PNEUMONIA & PLEURISY W CC                                        8\n",
       "Arizona               603 - CELLULITIS W/O MCC                                                     54\n",
       "Arkansas              194 - SIMPLE PNEUMONIA & PLEURISY W CC                                       44\n",
       "California            871 - SEPTICEMIA OR SEVERE SEPSIS W/O MV 96+ HOURS W MCC                    273\n",
       "Colorado              470 - MAJOR JOINT REPLACEMENT OR REATTACHMENT OF LOWER EXTREMITY W/O MCC     44\n",
       "Connecticut           177 - RESPIRATORY INFECTIONS & INFLAMMATIONS W MCC                           31\n",
       "Delaware              189 - PULMONARY EDEMA & RESPIRATORY FAILURE                                   6\n",
       "District of columbia  065 - INTRACRANIAL HEMORRHAGE OR CEREBRAL INFARCTION W CC                     7\n",
       "Florida               392 - ESOPHAGITIS, GASTROENT & MISC DIGEST DISORDERS W/O MCC                169\n",
       "Georgia               194 - SIMPLE PNEUMONIA & PLEURISY W CC                                       96\n",
       "Hawaii                871 - SEPTICEMIA OR SEVERE SEPSIS W/O MV 96+ HOURS W MCC                     14\n",
       "Idaho                 470 - MAJOR JOINT REPLACEMENT OR REATTACHMENT OF LOWER EXTREMITY W/O MCC     12\n",
       "Illinois              292 - HEART FAILURE & SHOCK W CC                                            126\n",
       "Indiana               194 - SIMPLE PNEUMONIA & PLEURISY W CC                                       78\n",
       "Iowa                  194 - SIMPLE PNEUMONIA & PLEURISY W CC                                       33\n",
       "Kansas                470 - MAJOR JOINT REPLACEMENT OR REATTACHMENT OF LOWER EXTREMITY W/O MCC     43\n",
       "Kentucky              192 - CHRONIC OBSTRUCTIVE PULMONARY DISEASE W/O CC/MCC                       65\n",
       "Louisiana             292 - HEART FAILURE & SHOCK W CC                                             68\n",
       "Maine                 191 - CHRONIC OBSTRUCTIVE PULMONARY DISEASE W CC                             20\n",
       "Maryland              194 - SIMPLE PNEUMONIA & PLEURISY W CC                                       44\n",
       "Massachusetts         641 - MISC DISORDERS OF NUTRITION,METABOLISM,FLUIDS/ELECTROLYTES W/O MCC     58\n",
       "Michigan              194 - SIMPLE PNEUMONIA & PLEURISY W CC                                       89\n",
       "Minnesota             194 - SIMPLE PNEUMONIA & PLEURISY W CC                                       50\n",
       "Mississippi           194 - SIMPLE PNEUMONIA & PLEURISY W CC                                       56\n",
       "Missouri              194 - SIMPLE PNEUMONIA & PLEURISY W CC                                       77\n",
       "Montana               470 - MAJOR JOINT REPLACEMENT OR REATTACHMENT OF LOWER EXTREMITY W/O MCC     12\n",
       "Nebraska              470 - MAJOR JOINT REPLACEMENT OR REATTACHMENT OF LOWER EXTREMITY W/O MCC     21\n",
       "Nevada                470 - MAJOR JOINT REPLACEMENT OR REATTACHMENT OF LOWER EXTREMITY W/O MCC     21\n",
       "New hampshire         065 - INTRACRANIAL HEMORRHAGE OR CEREBRAL INFARCTION W CC                    13\n",
       "New jersey            194 - SIMPLE PNEUMONIA & PLEURISY W CC                                       64\n",
       "New mexico            194 - SIMPLE PNEUMONIA & PLEURISY W CC                                       30\n",
       "New york              292 - HEART FAILURE & SHOCK W CC                                            158\n",
       "North carolina        292 - HEART FAILURE & SHOCK W CC                                             84\n",
       "North dakota          194 - SIMPLE PNEUMONIA & PLEURISY W CC                                        7\n",
       "Ohio                  470 - MAJOR JOINT REPLACEMENT OR REATTACHMENT OF LOWER EXTREMITY W/O MCC    126\n",
       "Oklahoma              194 - SIMPLE PNEUMONIA & PLEURISY W CC                                       69\n",
       "Oregon                470 - MAJOR JOINT REPLACEMENT OR REATTACHMENT OF LOWER EXTREMITY W/O MCC     34\n",
       "Pennsylvania          292 - HEART FAILURE & SHOCK W CC                                            139\n",
       "Rhode island          392 - ESOPHAGITIS, GASTROENT & MISC DIGEST DISORDERS W/O MCC                 11\n",
       "South carolina        292 - HEART FAILURE & SHOCK W CC                                             53\n",
       "South dakota          470 - MAJOR JOINT REPLACEMENT OR REATTACHMENT OF LOWER EXTREMITY W/O MCC     15\n",
       "Tennessee             690 - KIDNEY & URINARY TRACT INFECTIONS W/O MCC                              96\n",
       "Texas                 690 - KIDNEY & URINARY TRACT INFECTIONS W/O MCC                             256\n",
       "Utah                  470 - MAJOR JOINT REPLACEMENT OR REATTACHMENT OF LOWER EXTREMITY W/O MCC     27\n",
       "Vermont               190 - CHRONIC OBSTRUCTIVE PULMONARY DISEASE W MCC                             6\n",
       "Virginia              190 - CHRONIC OBSTRUCTIVE PULMONARY DISEASE W MCC                            72\n",
       "Washington            194 - SIMPLE PNEUMONIA & PLEURISY W CC                                       45\n",
       "West virginia         194 - SIMPLE PNEUMONIA & PLEURISY W CC                                       32\n",
       "Wisconsin             470 - MAJOR JOINT REPLACEMENT OR REATTACHMENT OF LOWER EXTREMITY W/O MCC     63\n",
       "Wyoming               470 - MAJOR JOINT REPLACEMENT OR REATTACHMENT OF LOWER EXTREMITY W/O MCC     11\n",
       "dtype: int64"
      ]
     },
     "execution_count": 419,
     "metadata": {},
     "output_type": "execute_result"
    }
   ],
   "source": [
    "df2.groupby('state').apply(lambda d: d.groupby('DRG Definition').size().nlargest(1))"
   ]
  },
  {
   "cell_type": "code",
   "execution_count": 429,
   "metadata": {},
   "outputs": [
    {
     "data": {
      "text/html": [
       "<div>\n",
       "<style>\n",
       "    .dataframe thead tr:only-child th {\n",
       "        text-align: right;\n",
       "    }\n",
       "\n",
       "    .dataframe thead th {\n",
       "        text-align: left;\n",
       "    }\n",
       "\n",
       "    .dataframe tbody tr th {\n",
       "        vertical-align: top;\n",
       "    }\n",
       "</style>\n",
       "<table border=\"1\" class=\"dataframe\">\n",
       "  <thead>\n",
       "    <tr style=\"text-align: right;\">\n",
       "      <th></th>\n",
       "      <th></th>\n",
       "      <th>DRG Definition</th>\n",
       "      <th>Total Discharges</th>\n",
       "      <th>Average Total Payments</th>\n",
       "    </tr>\n",
       "    <tr>\n",
       "      <th>state</th>\n",
       "      <th></th>\n",
       "      <th></th>\n",
       "      <th></th>\n",
       "      <th></th>\n",
       "    </tr>\n",
       "  </thead>\n",
       "  <tbody>\n",
       "    <tr>\n",
       "      <th>New york</th>\n",
       "      <th>113035</th>\n",
       "      <td>470 - MAJOR JOINT REPLACEMENT OR REATTACHMENT ...</td>\n",
       "      <td>3383</td>\n",
       "      <td>19023.70</td>\n",
       "    </tr>\n",
       "    <tr>\n",
       "      <th>California</th>\n",
       "      <th>157680</th>\n",
       "      <td>885 - PSYCHOSES</td>\n",
       "      <td>1696</td>\n",
       "      <td>8192.84</td>\n",
       "    </tr>\n",
       "    <tr>\n",
       "      <th>Massachusetts</th>\n",
       "      <th>158617</th>\n",
       "      <td>897 - ALCOHOL/DRUG ABUSE OR DEPENDENCE W/O REH...</td>\n",
       "      <td>1571</td>\n",
       "      <td>4967.56</td>\n",
       "    </tr>\n",
       "    <tr>\n",
       "      <th>Illinois</th>\n",
       "      <th>155669</th>\n",
       "      <td>885 - PSYCHOSES</td>\n",
       "      <td>1487</td>\n",
       "      <td>8165.69</td>\n",
       "    </tr>\n",
       "    <tr>\n",
       "      <th>Florida</th>\n",
       "      <th>102299</th>\n",
       "      <td>392 - ESOPHAGITIS, GASTROENT &amp; MISC DIGEST DIS...</td>\n",
       "      <td>1344</td>\n",
       "      <td>4727.96</td>\n",
       "    </tr>\n",
       "  </tbody>\n",
       "</table>\n",
       "</div>"
      ],
      "text/plain": [
       "                                                         DRG Definition  \\\n",
       "state                                                                     \n",
       "New york      113035  470 - MAJOR JOINT REPLACEMENT OR REATTACHMENT ...   \n",
       "California    157680                                    885 - PSYCHOSES   \n",
       "Massachusetts 158617  897 - ALCOHOL/DRUG ABUSE OR DEPENDENCE W/O REH...   \n",
       "Illinois      155669                                    885 - PSYCHOSES   \n",
       "Florida       102299  392 - ESOPHAGITIS, GASTROENT & MISC DIGEST DIS...   \n",
       "\n",
       "                      Total Discharges  Average Total Payments  \n",
       "state                                                           \n",
       "New york      113035              3383                19023.70  \n",
       "California    157680              1696                 8192.84  \n",
       "Massachusetts 158617              1571                 4967.56  \n",
       "Illinois      155669              1487                 8165.69  \n",
       "Florida       102299              1344                 4727.96  "
      ]
     },
     "execution_count": 429,
     "metadata": {},
     "output_type": "execute_result"
    }
   ],
   "source": [
    "df2.groupby('state').apply(lambda d:d[d['Total Discharges']== d['Total Discharges'].max()])[['DRG Definition','Total Discharges','Average Total Payments']].sort_values(\n",
    "    by='Total Discharges',ascending=False).head(5) \n"
   ]
  },
  {
   "cell_type": "markdown",
   "metadata": {},
   "source": [
    "So I have tried to classify the most expensive disease in a State and the number of patients treated by the disease \n",
    "and we can see that <b> New york</b> has the highest number of cases of <b>MAJOR JOINT REPLACEMENT </b> \n",
    "where the cost of treatment is around <b>19023.70</b>\n"
   ]
  },
  {
   "cell_type": "code",
   "execution_count": 436,
   "metadata": {
    "collapsed": true
   },
   "outputs": [],
   "source": [
    "new = df2.groupby('state').apply(lambda d: d[d['Average Total Payments'] == d['Average Total Payments'].max()])[['DRG Definition','Average Total Payments']]"
   ]
  },
  {
   "cell_type": "code",
   "execution_count": 437,
   "metadata": {},
   "outputs": [
    {
     "data": {
      "text/plain": [
       "DRG Definition            18\n",
       "Average Total Payments    18\n",
       "dtype: int64"
      ]
     },
     "execution_count": 437,
     "metadata": {},
     "output_type": "execute_result"
    }
   ],
   "source": [
    "new[new['DRG Definition'].str.contains('INFECTIOUS')].count()"
   ]
  },
  {
   "cell_type": "code",
   "execution_count": 438,
   "metadata": {},
   "outputs": [
    {
     "data": {
      "text/plain": [
       "DRG Definition            17\n",
       "Average Total Payments    17\n",
       "dtype: int64"
      ]
     },
     "execution_count": 438,
     "metadata": {},
     "output_type": "execute_result"
    }
   ],
   "source": [
    "new[new['DRG Definition'].str.contains('SEPTICEMIA')].count()"
   ]
  },
  {
   "cell_type": "markdown",
   "metadata": {},
   "source": [
    "It is interesting to see that <b>35</b> out <b>51</b> States in the <b>US</b> spend the most money to treat \n",
    "<b>Infectious Diseases</b> which is about <b>70%</b> of the total number of states in the <b>US </b>"
   ]
  },
  {
   "cell_type": "code",
   "execution_count": null,
   "metadata": {
    "collapsed": true
   },
   "outputs": [],
   "source": []
  }
 ],
 "metadata": {
  "kernelspec": {
   "display_name": "Python 3",
   "language": "python",
   "name": "python3"
  },
  "language_info": {
   "codemirror_mode": {
    "name": "ipython",
    "version": 3
   },
   "file_extension": ".py",
   "mimetype": "text/x-python",
   "name": "python",
   "nbconvert_exporter": "python",
   "pygments_lexer": "ipython3",
   "version": "3.6.2"
  }
 },
 "nbformat": 4,
 "nbformat_minor": 1
}
